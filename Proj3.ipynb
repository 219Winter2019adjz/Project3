{
 "cells": [
  {
   "cell_type": "code",
   "execution_count": 1,
   "metadata": {
    "collapsed": true
   },
   "outputs": [],
   "source": [
    "import numpy as np\n",
    "import matplotlib.pyplot as plt\n",
    "%matplotlib inline\n",
    "import pandas as pd\n",
    "from collections import defaultdict\n",
    "import time"
   ]
  },
  {
   "cell_type": "markdown",
   "metadata": {},
   "source": [
    "#### Importing the dataset\n",
    "\n",
    "rating_dataset is the Surprise dataset that can be used when analyzing the full dataset.\n",
    "<br>\n",
    "rating_matrix is the numpy array that has columns: userId, movieId, rating, timestamp"
   ]
  },
  {
   "cell_type": "code",
   "execution_count": 2,
   "metadata": {
    "collapsed": true
   },
   "outputs": [],
   "source": [
    "from surprise import Reader, Dataset"
   ]
  },
  {
   "cell_type": "code",
   "execution_count": 22,
   "metadata": {
    "collapsed": true
   },
   "outputs": [],
   "source": [
    "# Read data set using pandas and surprise. Data is stored in rating_dataset\n",
    "\n",
    "df=pd.read_csv('ml-latest-small/ratings.csv')\n",
    "# reader = Reader(rating_scale=(1,5))\n",
    "reader = Reader(line_format='user item rating timestamp', sep=',', rating_scale=(0.5, 5), skip_lines=1)\n",
    "\n",
    "rating_dataset = Dataset.load_from_df(df[['userId', 'movieId', 'rating']], reader)\n",
    "rating_matrix = df.values\n",
    "\n",
    "# Get the all ratings for each movie. Key is movie ID, value of an array of ratings.\n",
    "ratings_by_movie_id_full = {}\n",
    "for row in rating_dataset.raw_ratings:\n",
    "    if row[1] not in ratings_by_movie_id_full:\n",
    "        ratings_by_movie_id_full[row[1]] = []\n",
    "    ratings_by_movie_id_full[row[1]].append(row[2])\n",
    "\n",
    "# Count number of users and movies.\n",
    "num_users = np.size(np.unique(rating_matrix[:,0]))\n",
    "num_movies = np.size(np.unique(rating_matrix[:,1]))"
   ]
  },
  {
   "cell_type": "markdown",
   "metadata": {},
   "source": [
    "##### Build R Matrix"
   ]
  },
  {
   "cell_type": "code",
   "execution_count": 4,
   "metadata": {
    "collapsed": false
   },
   "outputs": [
    {
     "name": "stdout",
     "output_type": "stream",
     "text": [
      "[[4.  4.  4.  ... 0.  0.  0. ]\n",
      " [0.  0.  0.  ... 0.  0.  0. ]\n",
      " [0.  0.  0.  ... 0.  0.  0. ]\n",
      " ...\n",
      " [2.5 2.  0.  ... 0.  0.  0. ]\n",
      " [3.  0.  0.  ... 0.  0.  0. ]\n",
      " [5.  0.  5.  ... 3.  3.5 3.5]]\n"
     ]
    }
   ],
   "source": [
    "R = np.zeros([num_users, num_movies])\n",
    "\n",
    "ratings = np.genfromtxt('ml-latest-small/ratings.csv', delimiter=',')\n",
    "ratings = np.delete(ratings, (0), axis=0) # Remove column title row\n",
    "ratings = np.delete(ratings, (3), axis=1) # Remove time stamp column\n",
    "\n",
    "# Create a dictionary where the key is the movie id and the value is the location in data\n",
    "\n",
    "movie_ids = {}\n",
    "counter = 0\n",
    "for rating in ratings:\n",
    "    if rating[1] not in movie_ids.keys():\n",
    "        movie_ids[rating[1]] = counter\n",
    "        counter += 1\n",
    "        \n",
    "# Put ratings into a matrix of size num_users x num_movies. \n",
    "# To get the rating of a user for a specific movie, do data[userId - 1, movie_ids[movieId]]\n",
    "\n",
    "for rating in ratings:\n",
    "    user = int(rating[0]) - 1\n",
    "    movie = int(movie_ids[rating[1]])\n",
    "    R[user, movie] = rating[2]\n",
    "    \n",
    "print(R)"
   ]
  },
  {
   "cell_type": "markdown",
   "metadata": {},
   "source": [
    "#### Question 1"
   ]
  },
  {
   "cell_type": "code",
   "execution_count": 5,
   "metadata": {
    "collapsed": false
   },
   "outputs": [
    {
     "name": "stdout",
     "output_type": "stream",
     "text": [
      "Sparsity = 0.016999683055613623\n"
     ]
    }
   ],
   "source": [
    "# Calculate sparsity, defined as: (total number of available ratings) / (total number of possible ratings)\n",
    "\n",
    "num_available_ratings = np.size(rating_matrix[:,0])\n",
    "num_possible_ratings = num_users*num_movies\n",
    "\n",
    "sparsity = num_available_ratings / num_possible_ratings\n",
    "\n",
    "print('Sparsity = {}'.format(sparsity))"
   ]
  },
  {
   "cell_type": "markdown",
   "metadata": {},
   "source": [
    "#### Question 2"
   ]
  },
  {
   "cell_type": "code",
   "execution_count": 6,
   "metadata": {
    "collapsed": false
   },
   "outputs": [
    {
     "data": {
      "image/png": "[encoded data removed]",
      "text/plain": [
       "<Figure size 600x400 with 1 Axes>"
      ]
     },
     "metadata": {},
     "output_type": "display_data"
    }
   ],
   "source": [
    "# Plot a histogram showing the frequency of rating values\n",
    "\n",
    "ratings = rating_matrix[:,2]\n",
    "plt.figure()\n",
    "# plt.hist(ratings, 10)\n",
    "plt.hist(ratings, np.arange(0.5, 6, 0.5))\n",
    "plt.title('Frequency of rating values')\n",
    "plt.xlabel('Rating')\n",
    "plt.ylabel('Number of ratings')\n",
    "plt.xticks(np.arange(0.75, 5.75, 0.5), np.arange(0.5, 5.5, 0.5))\n",
    "plt.show()"
   ]
  },
  {
   "cell_type": "markdown",
   "metadata": {},
   "source": [
    "#### Question 3"
   ]
  },
  {
   "cell_type": "code",
   "execution_count": 7,
   "metadata": {
    "collapsed": false
   },
   "outputs": [
    {
     "data": {
      "image/png": "[encoded data removed]",
      "text/plain": [
       "<Figure size 600x400 with 1 Axes>"
      ]
     },
     "metadata": {},
     "output_type": "display_data"
    }
   ],
   "source": [
    "# Distribution of number of ratings received per movie.\n",
    "\n",
    "movies = rating_matrix[:,1]\n",
    "movie_id, counts = np.unique(movies, return_counts=True)\n",
    "counts_sorted = np.sort(counts)[::-1]\n",
    "\n",
    "plt.figure()\n",
    "plt.plot(counts_sorted)\n",
    "plt.title('Number of ratings per movie, sorted')\n",
    "plt.xlabel('Movie')\n",
    "plt.ylabel('Number of ratings')\n",
    "plt.show()"
   ]
  },
  {
   "cell_type": "markdown",
   "metadata": {},
   "source": [
    "#### Question 4"
   ]
  },
  {
   "cell_type": "code",
   "execution_count": 8,
   "metadata": {
    "collapsed": false
   },
   "outputs": [
    {
     "data": {
      "image/png": "[encoded data removed]",
      "text/plain": [
       "<Figure size 600x400 with 1 Axes>"
      ]
     },
     "metadata": {},
     "output_type": "display_data"
    }
   ],
   "source": [
    "# Distribution of number of ratings given per user\n",
    "\n",
    "users = rating_matrix[:,0]\n",
    "user_id, counts = np.unique(users, return_counts=True)\n",
    "counts_sorted = np.sort(counts)[::-1]\n",
    "\n",
    "plt.figure()\n",
    "plt.plot(counts_sorted)\n",
    "plt.title('Number of ratings per user, sorted')\n",
    "plt.xlabel('User')\n",
    "plt.ylabel('Number of ratings')\n",
    "plt.show()"
   ]
  },
  {
   "cell_type": "markdown",
   "metadata": {},
   "source": [
    "#### Question 6"
   ]
  },
  {
   "cell_type": "code",
   "execution_count": 9,
   "metadata": {
    "collapsed": false
   },
   "outputs": [
    {
     "data": {
      "image/png": "[encoded data removed]",
      "text/plain": [
       "<Figure size 600x400 with 1 Axes>"
      ]
     },
     "metadata": {},
     "output_type": "display_data"
    }
   ],
   "source": [
    "# Histogram of variance in ratings per movie\n",
    "\n",
    "var_by_movie_id = {}\n",
    "for key in ratings_by_movie_id.keys():\n",
    "    var_by_movie_id[key] = np.var(ratings_by_movie_id[key])\n",
    "    \n",
    "variances = list(var_by_movie_id.values())\n",
    "\n",
    "plt.figure()\n",
    "plt.hist(variances)\n",
    "plt.title('Number of movies per variance')\n",
    "plt.xlabel('Variance')\n",
    "plt.ylabel('Number of movies')\n",
    "plt.show()"
   ]
  },
  {
   "cell_type": "markdown",
   "metadata": {},
   "source": [
    "#### Trimming the dataset\n",
    "\n",
    "Creating functions to trim the test set for later use."
   ]
  },
  {
   "cell_type": "code",
   "execution_count": 32,
   "metadata": {
    "collapsed": true
   },
   "outputs": [],
   "source": [
    "def get_popular(testset):\n",
    "    testset_pop = [k for k in testset if len(ratings_by_movie_id_full[k[1]]) > 2]\n",
    "    return testset_pop"
   ]
  },
  {
   "cell_type": "code",
   "execution_count": 33,
   "metadata": {
    "collapsed": true
   },
   "outputs": [],
   "source": [
    "def get_unpopular(testset):\n",
    "    testset_unpop = [k for k in testset if len(ratings_by_movie_id_full[k[1]]) <= 2]\n",
    "    return testset_unpop"
   ]
  },
  {
   "cell_type": "code",
   "execution_count": 34,
   "metadata": {
    "collapsed": true
   },
   "outputs": [],
   "source": [
    "def get_highvar(testset):\n",
    "    var_by_movie_id_full = {}\n",
    "    for key in ratings_by_movie_id_full.keys():\n",
    "        var_by_movie_id_full[key] = np.var(ratings_by_movie_id_full[key])\n",
    "    testset_highvar = [k for k in testset if len(ratings_by_movie_id_full[k[1]]) >= 5 and var_by_movie_id_full[k[1]] >= 2]\n",
    "    return testset_highvar"
   ]
  },
  {
   "cell_type": "markdown",
   "metadata": {
    "collapsed": true
   },
   "source": [
    "## Question 10"
   ]
  },
  {
   "cell_type": "code",
   "execution_count": 28,
   "metadata": {
    "collapsed": true
   },
   "outputs": [],
   "source": [
    "from surprise import KNNBasic, KNNWithMeans\n",
    "from surprise import evaluate\n",
    "from surprise.model_selection import cross_validate\n",
    "from surprise.model_selection import KFold\n",
    "from surprise import accuracy"
   ]
  },
  {
   "cell_type": "code",
   "execution_count": 29,
   "metadata": {
    "collapsed": true
   },
   "outputs": [],
   "source": [
    "ks = np.arange(2, 101, 2)"
   ]
  },
  {
   "cell_type": "code",
   "execution_count": 30,
   "metadata": {
    "collapsed": false
   },
   "outputs": [
    {
     "name": "stdout",
     "output_type": "stream",
     "text": [
      "k = 2\n",
      "RMSE = 1.0209457411255127\n",
      "MAE = 0.7880421204404351\n",
      " \n",
      "k = 4\n",
      "RMSE = 0.9433072451187264\n",
      "MAE = 0.725071616771648\n",
      " \n",
      "k = 6\n",
      "RMSE = 0.9199793784850812\n",
      "MAE = 0.7052419926544956\n",
      " \n",
      "k = 8\n",
      "RMSE = 0.9081792699074832\n",
      "MAE = 0.6946200082132606\n",
      " \n",
      "k = 10\n",
      "RMSE = 0.9009088381121233\n",
      "MAE = 0.6883017759425968\n",
      " \n",
      "k = 12\n",
      "RMSE = 0.89893075506586\n",
      "MAE = 0.6863739295418421\n",
      " \n",
      "k = 14\n",
      "RMSE = 0.8955122277839458\n",
      "MAE = 0.6829058561722473\n",
      " \n",
      "k = 16\n",
      "RMSE = 0.8929048063031161\n",
      "MAE = 0.6805865255862242\n",
      " \n",
      "k = 18\n",
      "RMSE = 0.8933040316909825\n",
      "MAE = 0.6806220851579139\n",
      " \n",
      "k = 20\n",
      "RMSE = 0.8914081262743483\n",
      "MAE = 0.6793920347282816\n",
      " \n",
      "k = 22\n",
      "RMSE = 0.8919616354309774\n",
      "MAE = 0.6793525979751155\n",
      " \n",
      "k = 24\n",
      "RMSE = 0.8911435137980364\n",
      "MAE = 0.6785461029613742\n",
      " \n",
      "k = 26\n",
      "RMSE = 0.8912860583188585\n",
      "MAE = 0.6786374839344086\n",
      " \n",
      "k = 28\n",
      "RMSE = 0.8898026870089802\n",
      "MAE = 0.6779822159142117\n",
      " \n",
      "k = 30\n",
      "RMSE = 0.8911925633013386\n",
      "MAE = 0.6788581771374353\n",
      " \n",
      "k = 32\n",
      "RMSE = 0.889832216775458\n",
      "MAE = 0.677951714412653\n",
      " \n",
      "k = 34\n",
      "RMSE = 0.8895785858050573\n",
      "MAE = 0.6773694063983424\n",
      " \n",
      "k = 36\n",
      "RMSE = 0.8890591082551105\n",
      "MAE = 0.6770105380288172\n",
      " \n",
      "k = 38\n",
      "RMSE = 0.8903286147050018\n",
      "MAE = 0.6777525545402783\n",
      " \n",
      "k = 40\n",
      "RMSE = 0.8903970794163836\n",
      "MAE = 0.6780995136636443\n",
      " \n",
      "k = 42\n",
      "RMSE = 0.8901326179367552\n",
      "MAE = 0.6776354714569767\n",
      " \n",
      "k = 44\n",
      "RMSE = 0.889547897898764\n",
      "MAE = 0.6772215837171881\n",
      " \n",
      "k = 46\n",
      "RMSE = 0.8903451198690886\n",
      "MAE = 0.677831462925284\n",
      " \n",
      "k = 48\n",
      "RMSE = 0.8905835639463333\n",
      "MAE = 0.6777191971164417\n",
      " \n",
      "k = 50\n",
      "RMSE = 0.8903996088972344\n",
      "MAE = 0.6778763320274741\n",
      " \n",
      "k = 52\n",
      "RMSE = 0.8895875723996634\n",
      "MAE = 0.6772720045907039\n",
      " \n",
      "k = 54\n",
      "RMSE = 0.8908763575904779\n",
      "MAE = 0.6776859362886068\n",
      " \n",
      "k = 56\n",
      "RMSE = 0.8896938314581287\n",
      "MAE = 0.677230198851165\n",
      " \n",
      "k = 58\n",
      "RMSE = 0.8903801065679232\n",
      "MAE = 0.6777431863265221\n",
      " \n",
      "k = 60\n",
      "RMSE = 0.8905270257991326\n",
      "MAE = 0.6778586447379995\n",
      " \n",
      "k = 62\n",
      "RMSE = 0.8892980366603609\n",
      "MAE = 0.6771612933117804\n",
      " \n",
      "k = 64\n",
      "RMSE = 0.8893904580323019\n",
      "MAE = 0.6771641613442709\n",
      " \n",
      "k = 66\n",
      "RMSE = 0.8897148627673144\n",
      "MAE = 0.6774542870827135\n",
      " \n",
      "k = 68\n",
      "RMSE = 0.8902115335791047\n",
      "MAE = 0.6778140807960551\n",
      " \n",
      "k = 70\n",
      "RMSE = 0.8914367611389755\n",
      "MAE = 0.6785588320356044\n",
      " \n",
      "k = 72\n",
      "RMSE = 0.8903016619721171\n",
      "MAE = 0.677732760123921\n",
      " \n",
      "k = 74\n",
      "RMSE = 0.890480549393416\n",
      "MAE = 0.6779550144974313\n",
      " \n",
      "k = 76\n",
      "RMSE = 0.889580221127644\n",
      "MAE = 0.6776862386884867\n",
      " \n",
      "k = 78\n",
      "RMSE = 0.8899006949083297\n",
      "MAE = 0.677797832769619\n",
      " \n",
      "k = 80\n",
      "RMSE = 0.8906692721779944\n",
      "MAE = 0.6783208697823846\n",
      " \n",
      "k = 82\n",
      "RMSE = 0.8897584757838635\n",
      "MAE = 0.677589688778967\n",
      " \n",
      "k = 84\n",
      "RMSE = 0.8902869531741991\n",
      "MAE = 0.6778567632570385\n",
      " \n",
      "k = 86\n",
      "RMSE = 0.8913141098627092\n",
      "MAE = 0.6785121773310973\n",
      " \n",
      "k = 88\n",
      "RMSE = 0.8900075609856998\n",
      "MAE = 0.6779506593669108\n",
      " \n",
      "k = 90\n",
      "RMSE = 0.8887864826417747\n",
      "MAE = 0.6770779453622521\n",
      " \n",
      "k = 92\n",
      "RMSE = 0.8900557338330607\n",
      "MAE = 0.6777583095308722\n",
      " \n",
      "k = 94\n",
      "RMSE = 0.8902779947213432\n",
      "MAE = 0.6777611178654714\n",
      " \n",
      "k = 96\n",
      "RMSE = 0.889771746480751\n",
      "MAE = 0.677828912477183\n",
      " \n",
      "k = 98\n",
      "RMSE = 0.8914753726695505\n",
      "MAE = 0.6788180495517996\n",
      " \n",
      "k = 100\n",
      "RMSE = 0.8905586071542058\n",
      "MAE = 0.6781582351958527\n",
      " \n"
     ]
    }
   ],
   "source": [
    "# Analyze full dataset\n",
    "\n",
    "rmse_scores = []\n",
    "mae_scores = []\n",
    "\n",
    "for k in ks:\n",
    "    knn = KNNWithMeans(k=k, min_k=1, sim_options={'name': 'pearson', 'user_based': True}, verbose=False)\n",
    "    result = cross_validate(knn, rating_dataset, measures=['rmse', 'mae'], cv=10)\n",
    "    \n",
    "    rmse = np.mean(result['test_rmse'])\n",
    "    mae = np.mean(result['test_mae'])\n",
    "    \n",
    "    print('k = {}'.format(k))\n",
    "    print('RMSE = {}'.format(rmse))\n",
    "    print('MAE = {}'.format(mae))\n",
    "    print(' ')\n",
    "    \n",
    "    rmse_scores.append(rmse)\n",
    "    mae_scores.append(mae)"
   ]
  },
  {
   "cell_type": "code",
   "execution_count": 31,
   "metadata": {
    "collapsed": false
   },
   "outputs": [
    {
     "data": {
      "image/png": "[encoded data removed]",
      "text/plain": [
       "<Figure size 432x288 with 1 Axes>"
      ]
     },
     "metadata": {
      "needs_background": "light"
     },
     "output_type": "display_data"
    },
    {
     "data": {
      "image/png": "[encoded data removed]",
      "text/plain": [
       "<Figure size 432x288 with 1 Axes>"
      ]
     },
     "metadata": {
      "needs_background": "light"
     },
     "output_type": "display_data"
    }
   ],
   "source": [
    "plt.figure()\n",
    "plt.plot(ks, rmse_scores)\n",
    "plt.title('RMSE scores vs. k')\n",
    "plt.xlabel('k')\n",
    "plt.ylabel('RMSE scores')\n",
    "plt.show()\n",
    "\n",
    "plt.figure()\n",
    "plt.plot(ks, mae_scores)\n",
    "plt.title('MAE scores vs. k')\n",
    "plt.xlabel('k')\n",
    "plt.ylabel('MAE scores')\n",
    "plt.show()"
   ]
  },
  {
   "cell_type": "markdown",
   "metadata": {},
   "source": [
    "## Question 11"
   ]
  },
  {
   "cell_type": "code",
   "execution_count": 32,
   "metadata": {
    "collapsed": false
   },
   "outputs": [
    {
     "name": "stdout",
     "output_type": "stream",
     "text": [
      "Best k for RMSE: 90\n",
      "Best k for MAE: 36\n"
     ]
    }
   ],
   "source": [
    "# Finding the minimum k -- I think this has to be done by observing the graph and not through code.\n",
    "print('Best k for RMSE: {}'.format(ks[np.argmin(rmse_scores)]))\n",
    "print('Best k for MAE: {}'.format(ks[np.argmin(mae_scores)]))"
   ]
  },
  {
   "cell_type": "markdown",
   "metadata": {},
   "source": [
    "## Question 12"
   ]
  },
  {
   "cell_type": "code",
   "execution_count": 33,
   "metadata": {
    "collapsed": false
   },
   "outputs": [
    {
     "name": "stdout",
     "output_type": "stream",
     "text": [
      "k = 2\n",
      "Average RMSE = 1.0189829216699358\n",
      " \n",
      "k = 4\n",
      "Average RMSE = 0.9303320269109413\n",
      " \n",
      "k = 6\n",
      "Average RMSE = 0.9000047270917826\n",
      " \n",
      "k = 8\n",
      "Average RMSE = 0.8819221589268362\n",
      " \n",
      "k = 10\n",
      "Average RMSE = 0.8752145705051954\n",
      " \n",
      "k = 12\n",
      "Average RMSE = 0.8710064507622926\n",
      " \n",
      "k = 14\n",
      "Average RMSE = 0.8663282894461096\n",
      " \n",
      "k = 16\n",
      "Average RMSE = 0.8640830250928456\n",
      " \n",
      "k = 18\n",
      "Average RMSE = 0.8590563147691436\n",
      " \n",
      "k = 20\n",
      "Average RMSE = 0.8588642244631078\n",
      " \n",
      "k = 22\n",
      "Average RMSE = 0.8603595349392608\n",
      " \n",
      "k = 24\n",
      "Average RMSE = 0.8579657448068408\n",
      " \n",
      "k = 26\n",
      "Average RMSE = 0.8585386618469759\n",
      " \n",
      "k = 28\n",
      "Average RMSE = 0.8566159570967269\n",
      " \n",
      "k = 30\n",
      "Average RMSE = 0.8561541958502268\n",
      " \n",
      "k = 32\n",
      "Average RMSE = 0.8574367083216607\n",
      " \n",
      "k = 34\n",
      "Average RMSE = 0.8573273269781957\n",
      " \n",
      "k = 36\n",
      "Average RMSE = 0.8574839325752684\n",
      " \n",
      "k = 38\n",
      "Average RMSE = 0.8565309913711519\n",
      " \n",
      "k = 40\n",
      "Average RMSE = 0.8558092858836976\n",
      " \n",
      "k = 42\n",
      "Average RMSE = 0.8579571477117292\n",
      " \n",
      "k = 44\n",
      "Average RMSE = 0.8570512579550718\n",
      " \n",
      "k = 46\n",
      "Average RMSE = 0.8562691371174225\n",
      " \n",
      "k = 48\n",
      "Average RMSE = 0.8567529760871994\n",
      " \n",
      "k = 50\n",
      "Average RMSE = 0.8586009244909777\n",
      " \n",
      "k = 52\n",
      "Average RMSE = 0.8572044552726299\n",
      " \n",
      "k = 54\n",
      "Average RMSE = 0.8592432687101083\n",
      " \n",
      "k = 56\n",
      "Average RMSE = 0.8588744664866794\n",
      " \n",
      "k = 58\n",
      "Average RMSE = 0.8559180657031558\n",
      " \n",
      "k = 60\n",
      "Average RMSE = 0.8576608146515324\n",
      " \n",
      "k = 62\n",
      "Average RMSE = 0.857212590458561\n",
      " \n",
      "k = 64\n",
      "Average RMSE = 0.8574387602064204\n",
      " \n",
      "k = 66\n",
      "Average RMSE = 0.8577117896367991\n",
      " \n",
      "k = 68\n",
      "Average RMSE = 0.8573564432930253\n",
      " \n",
      "k = 70\n",
      "Average RMSE = 0.856576157740147\n",
      " \n",
      "k = 72\n",
      "Average RMSE = 0.858270999225598\n",
      " \n",
      "k = 74\n",
      "Average RMSE = 0.8568606765618016\n",
      " \n",
      "k = 76\n",
      "Average RMSE = 0.856458410828916\n",
      " \n",
      "k = 78\n",
      "Average RMSE = 0.8574688269255318\n",
      " \n",
      "k = 80\n",
      "Average RMSE = 0.8579137210305203\n",
      " \n",
      "k = 82\n",
      "Average RMSE = 0.8594935953581337\n",
      " \n",
      "k = 84\n",
      "Average RMSE = 0.8565523140425771\n",
      " \n",
      "k = 86\n",
      "Average RMSE = 0.857989638581986\n",
      " \n",
      "k = 88\n",
      "Average RMSE = 0.8579919513202074\n",
      " \n",
      "k = 90\n",
      "Average RMSE = 0.8578802981895965\n",
      " \n",
      "k = 92\n",
      "Average RMSE = 0.8609854364112426\n",
      " \n",
      "k = 94\n",
      "Average RMSE = 0.8587686444935956\n",
      " \n",
      "k = 96\n",
      "Average RMSE = 0.8584487123812924\n",
      " \n",
      "k = 98\n",
      "Average RMSE = 0.8607045777919348\n",
      " \n",
      "k = 100\n",
      "Average RMSE = 0.8569414590964353\n",
      " \n"
     ]
    }
   ],
   "source": [
    "# Analyze popular dataset.\n",
    "\n",
    "rmse_popular_scores = []\n",
    "\n",
    "for k in ks:\n",
    "    knn = KNNWithMeans(k=k, min_k=1, sim_options={'name': 'pearson', 'user_based': True}, verbose=False)\n",
    "    kf = KFold(n_splits=10)\n",
    "    rmse_per_fold = []\n",
    "    for trainset, testset in kf.split(rating_dataset):\n",
    "        pop_testset = get_popular(testset)\n",
    "        knn.fit(trainset)\n",
    "        predictions = knn.test(pop_testset)\n",
    "        rmse_per_fold.append(accuracy.rmse(predictions, verbose=False))\n",
    "    avg_rmse = np.mean(rmse_per_fold)\n",
    "    rmse_popular_scores.append(avg_rmse)\n",
    "    print('k = {}'.format(k))\n",
    "    print('Average RMSE = {}'.format(avg_rmse))\n",
    "    print(' ')"
   ]
  },
  {
   "cell_type": "code",
   "execution_count": 34,
   "metadata": {
    "collapsed": false
   },
   "outputs": [
    {
     "data": {
      "image/png": "[encoded data removed]",
      "text/plain": [
       "<Figure size 432x288 with 1 Axes>"
      ]
     },
     "metadata": {
      "needs_background": "light"
     },
     "output_type": "display_data"
    }
   ],
   "source": [
    "plt.figure()\n",
    "plt.plot(ks, rmse_popular_scores)\n",
    "plt.title('RMSE scores vs. k for popular dataset')\n",
    "plt.xlabel('k')\n",
    "plt.ylabel('RMSE scores')\n",
    "plt.show()"
   ]
  },
  {
   "cell_type": "code",
   "execution_count": 35,
   "metadata": {
    "collapsed": false
   },
   "outputs": [
    {
     "name": "stdout",
     "output_type": "stream",
     "text": [
      "Best k for RMSE: 40\n"
     ]
    }
   ],
   "source": [
    "print('Best k for RMSE: {}'.format(ks[np.argmin(rmse_popular_scores)]))"
   ]
  },
  {
   "cell_type": "markdown",
   "metadata": {},
   "source": [
    "## Question 13"
   ]
  },
  {
   "cell_type": "code",
   "execution_count": 36,
   "metadata": {
    "collapsed": false
   },
   "outputs": [
    {
     "name": "stdout",
     "output_type": "stream",
     "text": [
      "k = 2\n",
      "Average RMSE = 1.017386008193854\n",
      " \n",
      "k = 4\n",
      "Average RMSE = 0.9744259279349254\n",
      " \n",
      "k = 6\n",
      "Average RMSE = 0.9615913665313345\n",
      " \n",
      "k = 8\n",
      "Average RMSE = 0.9605925956490692\n",
      " \n",
      "k = 10\n",
      "Average RMSE = 0.9599534993179205\n",
      " \n",
      "k = 12\n",
      "Average RMSE = 0.9564932385028252\n",
      " \n",
      "k = 14\n",
      "Average RMSE = 0.9581737277859265\n",
      " \n",
      "k = 16\n",
      "Average RMSE = 0.958579833858401\n",
      " \n",
      "k = 18\n",
      "Average RMSE = 0.9598730133762997\n",
      " \n",
      "k = 20\n",
      "Average RMSE = 0.9587931208050099\n",
      " \n",
      "k = 22\n",
      "Average RMSE = 0.9588982493844831\n",
      " \n",
      "k = 24\n",
      "Average RMSE = 0.9570367648326166\n",
      " \n",
      "k = 26\n",
      "Average RMSE = 0.9567468373419183\n",
      " \n",
      "k = 28\n",
      "Average RMSE = 0.9576618631308402\n",
      " \n",
      "k = 30\n",
      "Average RMSE = 0.9555495411318977\n",
      " \n",
      "k = 32\n",
      "Average RMSE = 0.9564091250797659\n",
      " \n",
      "k = 34\n",
      "Average RMSE = 0.9630653742996833\n",
      " \n",
      "k = 36\n",
      "Average RMSE = 0.958842244653539\n",
      " \n",
      "k = 38\n",
      "Average RMSE = 0.9573563041216605\n",
      " \n",
      "k = 40\n",
      "Average RMSE = 0.9573126154319777\n",
      " \n",
      "k = 42\n",
      "Average RMSE = 0.9587245433502753\n",
      " \n",
      "k = 44\n",
      "Average RMSE = 0.9612618944953596\n",
      " \n",
      "k = 46\n",
      "Average RMSE = 0.9589372058269937\n",
      " \n",
      "k = 48\n",
      "Average RMSE = 0.958267576018611\n",
      " \n",
      "k = 50\n",
      "Average RMSE = 0.9577291937825541\n",
      " \n",
      "k = 52\n",
      "Average RMSE = 0.9571793748747085\n",
      " \n",
      "k = 54\n",
      "Average RMSE = 0.960662230471025\n",
      " \n",
      "k = 56\n",
      "Average RMSE = 0.9596359073570445\n",
      " \n",
      "k = 58\n",
      "Average RMSE = 0.9545523291139106\n",
      " \n",
      "k = 60\n",
      "Average RMSE = 0.9590887150278414\n",
      " \n",
      "k = 62\n",
      "Average RMSE = 0.95802134051987\n",
      " \n",
      "k = 64\n",
      "Average RMSE = 0.9599404359859957\n",
      " \n",
      "k = 66\n",
      "Average RMSE = 0.95908191860273\n",
      " \n",
      "k = 68\n",
      "Average RMSE = 0.9562675313471598\n",
      " \n",
      "k = 70\n",
      "Average RMSE = 0.9591626157975005\n",
      " \n",
      "k = 72\n",
      "Average RMSE = 0.9590631386925474\n",
      " \n",
      "k = 74\n",
      "Average RMSE = 0.9534328275783241\n",
      " \n",
      "k = 76\n",
      "Average RMSE = 0.9545182069042955\n",
      " \n",
      "k = 78\n",
      "Average RMSE = 0.9561147042371563\n",
      " \n",
      "k = 80\n",
      "Average RMSE = 0.9595362639331808\n",
      " \n",
      "k = 82\n",
      "Average RMSE = 0.9580098002398092\n",
      " \n",
      "k = 84\n",
      "Average RMSE = 0.9566805205377124\n",
      " \n",
      "k = 86\n",
      "Average RMSE = 0.9568956586839796\n",
      " \n",
      "k = 88\n",
      "Average RMSE = 0.9581272017958804\n",
      " \n",
      "k = 90\n",
      "Average RMSE = 0.9578525945251053\n",
      " \n",
      "k = 92\n",
      "Average RMSE = 0.9567326372683551\n",
      " \n",
      "k = 94\n",
      "Average RMSE = 0.9563399268695039\n",
      " \n",
      "k = 96\n",
      "Average RMSE = 0.9558030886659177\n",
      " \n",
      "k = 98\n",
      "Average RMSE = 0.9575400629500738\n",
      " \n",
      "k = 100\n",
      "Average RMSE = 0.9542525335580366\n",
      " \n"
     ]
    }
   ],
   "source": [
    "# Unpopular Movie Trimmed Test Set\n",
    "\n",
    "# Analyze unpopular dataset\n",
    "\n",
    "rmse_unpopular_scores = []\n",
    "\n",
    "for k in ks:\n",
    "    knn = KNNWithMeans(k=k, min_k=1, sim_options={'name': 'pearson', 'user_based': True}, verbose=False)\n",
    "    kf = KFold(n_splits=10)\n",
    "    rmse_per_fold = []\n",
    "    for trainset, testset in kf.split(rating_dataset):\n",
    "        unpop_testset = get_unpopular(testset)\n",
    "        knn.fit(trainset)\n",
    "        predictions = knn.test(unpop_testset)\n",
    "        rmse_per_fold.append(accuracy.rmse(predictions, verbose=False))\n",
    "    avg_rmse = np.mean(rmse_per_fold)\n",
    "    rmse_unpopular_scores.append(avg_rmse)\n",
    "    print('k = {}'.format(k))\n",
    "    print(\"Average RMSE = {}\".format(avg_rmse))\n",
    "    print(' ')"
   ]
  },
  {
   "cell_type": "code",
   "execution_count": 37,
   "metadata": {
    "collapsed": false
   },
   "outputs": [
    {
     "data": {
      "image/png": "[encoded data removed]",
      "text/plain": [
       "<Figure size 432x288 with 1 Axes>"
      ]
     },
     "metadata": {
      "needs_background": "light"
     },
     "output_type": "display_data"
    }
   ],
   "source": [
    "plt.figure()\n",
    "plt.plot(ks, rmse_unpopular_scores)\n",
    "plt.title('RMSE scores vs. k for unpopular dataset')\n",
    "plt.xlabel('k')\n",
    "plt.ylabel('RMSE scores')\n",
    "plt.show()"
   ]
  },
  {
   "cell_type": "code",
   "execution_count": 38,
   "metadata": {
    "collapsed": false
   },
   "outputs": [
    {
     "name": "stdout",
     "output_type": "stream",
     "text": [
      "Best k for RMSE: 74\n"
     ]
    }
   ],
   "source": [
    "print('Best k for RMSE: {}'.format(ks[np.argmin(rmse_unpopular_scores)]))"
   ]
  },
  {
   "cell_type": "markdown",
   "metadata": {},
   "source": [
    "## Question 14"
   ]
  },
  {
   "cell_type": "code",
   "execution_count": 39,
   "metadata": {
    "collapsed": false
   },
   "outputs": [
    {
     "name": "stdout",
     "output_type": "stream",
     "text": [
      "k = 2\n",
      "Average RMSE = 1.5400757941632301\n",
      " \n",
      "k = 4\n",
      "Average RMSE = 1.4291241961072108\n",
      " \n",
      "k = 6\n",
      "Average RMSE = 1.4409008623473443\n",
      " \n",
      "k = 8\n",
      "Average RMSE = 1.3982291221533714\n",
      " \n",
      "k = 10\n",
      "Average RMSE = 1.4104688288799525\n",
      " \n",
      "k = 12\n",
      "Average RMSE = 1.427693546154398\n",
      " \n",
      "k = 14\n",
      "Average RMSE = 1.3991875450544677\n",
      " \n",
      "k = 16\n",
      "Average RMSE = 1.41940292423816\n",
      " \n",
      "k = 18\n",
      "Average RMSE = 1.3868666406249752\n",
      " \n",
      "k = 20\n",
      "Average RMSE = 1.4038334231596057\n",
      " \n",
      "k = 22\n",
      "Average RMSE = 1.3801050647204036\n",
      " \n",
      "k = 24\n",
      "Average RMSE = 1.4218897788916867\n",
      " \n",
      "k = 26\n",
      "Average RMSE = 1.3997936000602536\n",
      " \n",
      "k = 28\n",
      "Average RMSE = 1.4198251973025215\n",
      " \n",
      "k = 30\n",
      "Average RMSE = 1.3816462728208792\n",
      " \n",
      "k = 32\n",
      "Average RMSE = 1.391552528292118\n",
      " \n",
      "k = 34\n",
      "Average RMSE = 1.4129429935614897\n",
      " \n",
      "k = 36\n",
      "Average RMSE = 1.4744015886975825\n",
      " \n",
      "k = 38\n",
      "Average RMSE = 1.397104665995832\n",
      " \n",
      "k = 40\n",
      "Average RMSE = 1.3908633205595742\n",
      " \n",
      "k = 42\n",
      "Average RMSE = 1.3995309472908177\n",
      " \n",
      "k = 44\n",
      "Average RMSE = 1.420884238308322\n",
      " \n",
      "k = 46\n",
      "Average RMSE = 1.4100906954726016\n",
      " \n",
      "k = 48\n",
      "Average RMSE = 1.4346707518588595\n",
      " \n",
      "k = 50\n",
      "Average RMSE = 1.3952020348980139\n",
      " \n",
      "k = 52\n",
      "Average RMSE = 1.4191017250971014\n",
      " \n",
      "k = 54\n",
      "Average RMSE = 1.454204138554235\n",
      " \n",
      "k = 56\n",
      "Average RMSE = 1.413120625858709\n",
      " \n",
      "k = 58\n",
      "Average RMSE = 1.3814594570454037\n",
      " \n",
      "k = 60\n",
      "Average RMSE = 1.413036079984454\n",
      " \n",
      "k = 62\n",
      "Average RMSE = 1.40417130426725\n",
      " \n",
      "k = 64\n",
      "Average RMSE = 1.4213470822658603\n",
      " \n",
      "k = 66\n",
      "Average RMSE = 1.4354475109172704\n",
      " \n",
      "k = 68\n",
      "Average RMSE = 1.4391993855276783\n",
      " \n",
      "k = 70\n",
      "Average RMSE = 1.4135764894198344\n",
      " \n",
      "k = 72\n",
      "Average RMSE = 1.3953961375203245\n",
      " \n",
      "k = 74\n",
      "Average RMSE = 1.3913699040387546\n",
      " \n",
      "k = 76\n",
      "Average RMSE = 1.429185575466085\n",
      " \n",
      "k = 78\n",
      "Average RMSE = 1.379047572848474\n",
      " \n",
      "k = 80\n",
      "Average RMSE = 1.3867708405953114\n",
      " \n",
      "k = 82\n",
      "Average RMSE = 1.360900057006492\n",
      " \n",
      "k = 84\n",
      "Average RMSE = 1.4115757632177253\n",
      " \n",
      "k = 86\n",
      "Average RMSE = 1.4380484652741956\n",
      " \n",
      "k = 88\n",
      "Average RMSE = 1.405497579057013\n",
      " \n",
      "k = 90\n",
      "Average RMSE = 1.4119829995856403\n",
      " \n",
      "k = 92\n",
      "Average RMSE = 1.4225184197655802\n",
      " \n",
      "k = 94\n",
      "Average RMSE = 1.4375129772797564\n",
      " \n",
      "k = 96\n",
      "Average RMSE = 1.3998185727695394\n",
      " \n",
      "k = 98\n",
      "Average RMSE = 1.4362734269692339\n",
      " \n",
      "k = 100\n",
      "Average RMSE = 1.426476578736788\n",
      " \n"
     ]
    }
   ],
   "source": [
    "# Analyze high variance dataset with KNN\n",
    "\n",
    "rmse_highvar_scores = []\n",
    "\n",
    "for k in ks:\n",
    "    knn = KNNWithMeans(k=k, min_k=1, sim_options={'name': 'pearson', 'user_based': True}, verbose=False)\n",
    "    kf = KFold(n_splits=10)\n",
    "    rmse_per_fold = []\n",
    "    for trainset, testset in kf.split(rating_dataset):\n",
    "        highvar_testset = get_highvar(testset)\n",
    "        knn.fit(trainset)\n",
    "        predictions = knn.test(highvar_testset)\n",
    "        rmse_per_fold.append(accuracy.rmse(predictions, verbose=False))\n",
    "    avg_rmse = np.mean(rmse_per_fold)\n",
    "    rmse_highvar_scores.append(avg_rmse)\n",
    "    print('k = {}'.format(k))\n",
    "    print('Average RMSE = {}'.format(avg_rmse))\n",
    "    print(' ')"
   ]
  },
  {
   "cell_type": "code",
   "execution_count": 40,
   "metadata": {
    "collapsed": false
   },
   "outputs": [
    {
     "data": {
      "image/png": "[encoded data removed]",
      "text/plain": [
       "<Figure size 432x288 with 1 Axes>"
      ]
     },
     "metadata": {
      "needs_background": "light"
     },
     "output_type": "display_data"
    }
   ],
   "source": [
    "plt.figure()\n",
    "plt.plot(ks, rmse_highvar_scores)\n",
    "plt.title('RMSE scores vs. k for high variance dataset')\n",
    "plt.xlabel('k')\n",
    "plt.ylabel('RMSE scores')\n",
    "plt.show()"
   ]
  },
  {
   "cell_type": "code",
   "execution_count": 41,
   "metadata": {
    "collapsed": false
   },
   "outputs": [
    {
     "name": "stdout",
     "output_type": "stream",
     "text": [
      "Best k for RMSE: 82\n"
     ]
    }
   ],
   "source": [
    "print('Best k for RMSE: {}'.format(ks[np.argmin(rmse_highvar_scores)]))"
   ]
  },
  {
   "cell_type": "markdown",
   "metadata": {},
   "source": [
    "## Question 15"
   ]
  },
  {
   "cell_type": "code",
   "execution_count": 42,
   "metadata": {
    "collapsed": true
   },
   "outputs": [],
   "source": [
    "from sklearn.metrics import roc_curve\n",
    "from sklearn.metrics import roc_auc_score\n",
    "from surprise.model_selection import train_test_split"
   ]
  },
  {
   "cell_type": "code",
   "execution_count": 43,
   "metadata": {
    "collapsed": true
   },
   "outputs": [],
   "source": [
    "thresholds = [2.5, 3, 3.5, 4]\n",
    "best_k_knn = 21"
   ]
  },
  {
   "cell_type": "code",
   "execution_count": 44,
   "metadata": {
    "collapsed": false
   },
   "outputs": [
    {
     "data": {
      "image/png": "[encoded data removed]",
      "text/plain": [
       "<Figure size 432x288 with 1 Axes>"
      ]
     },
     "metadata": {
      "needs_background": "light"
     },
     "output_type": "display_data"
    },
    {
     "data": {
      "image/png": "[encoded data removed]",
      "text/plain": [
       "<Figure size 432x288 with 1 Axes>"
      ]
     },
     "metadata": {
      "needs_background": "light"
     },
     "output_type": "display_data"
    },
    {
     "data": {
      "image/png": "[encoded data removed]",
      "text/plain": [
       "<Figure size 432x288 with 1 Axes>"
      ]
     },
     "metadata": {
      "needs_background": "light"
     },
     "output_type": "display_data"
    },
    {
     "data": {
      "image/png": "[encoded data removed]",
      "text/plain": [
       "<Figure size 432x288 with 1 Axes>"
      ]
     },
     "metadata": {
      "needs_background": "light"
     },
     "output_type": "display_data"
    }
   ],
   "source": [
    "knn = KNNWithMeans(k=best_k_knn, min_k=1, sim_options={'name': 'pearson', 'user_based': True}, verbose=False)\n",
    "trainset, testset = train_test_split(rating_dataset, test_size=0.1)\n",
    "knn.fit(trainset)\n",
    "predictions = knn.test(testset)\n",
    "for t in thresholds:\n",
    "    true_bin = [1 if pred.r_ui >= t else 0 for pred in predictions]\n",
    "    scores = [pred.est for pred in predictions]\n",
    "    \n",
    "    plt.figure()\n",
    "    fpr, tpr, thr = roc_curve(true_bin, scores)\n",
    "    plt.plot(fpr, tpr)\n",
    "    plt.text(0.5, 0.1, 'area under curve = %0.4f' % roc_auc_score(true_bin, scores))\n",
    "    plt.text(0.5, 0.2, 'threshold = {}'.format(t))\n",
    "    plt.xlabel('false positive rate')\n",
    "    plt.ylabel('true positive rate')\n",
    "    plt.show()"
   ]
  },
  {
   "cell_type": "markdown",
   "metadata": {},
   "source": [
    "### NMF"
   ]
  },
  {
   "cell_type": "code",
   "execution_count": 36,
   "metadata": {
    "collapsed": true
   },
   "outputs": [],
   "source": [
    "from surprise import NMF\n",
    "from surprise.model_selection import cross_validate\n",
    "from surprise.model_selection import KFold\n",
    "from surprise import accuracy"
   ]
  },
  {
   "cell_type": "markdown",
   "metadata": {},
   "source": [
    "#### Question 17, 18"
   ]
  },
  {
   "cell_type": "code",
   "execution_count": 37,
   "metadata": {
    "collapsed": true
   },
   "outputs": [],
   "source": [
    "ks = np.arange(2, 51, 2)"
   ]
  },
  {
   "cell_type": "code",
   "execution_count": 39,
   "metadata": {
    "collapsed": false,
    "scrolled": true
   },
   "outputs": [
    {
     "name": "stdout",
     "output_type": "stream",
     "text": [
      "k = 2\n",
      "1.146128962595108\n",
      "0.9633459240639326\n",
      " \n",
      "k = 4\n",
      "1.038383813636784\n",
      "0.8486986736662928\n",
      " \n",
      "k = 6\n",
      "0.9823324917773434\n",
      "0.7865541382157435\n",
      " \n",
      "k = 8\n",
      "0.9496199333586404\n",
      "0.7481533724714058\n",
      " \n",
      "k = 10\n",
      "0.9314443106560676\n",
      "0.7259302945247932\n",
      " \n",
      "k = 12\n",
      "0.9210761642980326\n",
      "0.7115466011035502\n",
      " \n",
      "k = 14\n",
      "0.9144861561435963\n",
      "0.7021084713569101\n",
      " \n",
      "k = 16\n",
      "0.9148780522677908\n",
      "0.6992663499500555\n",
      " \n",
      "k = 18\n",
      "0.9130071174361243\n",
      "0.6954223879718207\n",
      " \n",
      "k = 20\n",
      "0.9161478467533197\n",
      "0.6946295498184482\n",
      " \n",
      "k = 22\n",
      "0.9176507156865028\n",
      "0.6944643805654339\n",
      " \n",
      "k = 24\n",
      "0.9177233749984796\n",
      "0.6939372512642524\n",
      " \n",
      "k = 26\n",
      "0.9229385713258633\n",
      "0.6968238017163783\n",
      " \n",
      "k = 28\n",
      "0.9276856957846267\n",
      "0.6994940232626338\n",
      " \n",
      "k = 30\n",
      "0.9295714060595397\n",
      "0.7008020368403112\n",
      " \n",
      "k = 32\n",
      "0.9342584535349421\n",
      "0.7045218758695391\n",
      " \n",
      "k = 34\n",
      "0.9371080777287288\n",
      "0.7059225995499626\n",
      " \n",
      "k = 36\n",
      "0.9433335622709981\n",
      "0.7097746184428132\n",
      " \n",
      "k = 38\n",
      "0.9474380742801284\n",
      "0.7129769018248127\n",
      " \n",
      "k = 40\n",
      "0.9504879560115465\n",
      "0.7158052961427133\n",
      " \n",
      "k = 42\n",
      "0.9529910031439559\n",
      "0.7181296564407144\n",
      " \n",
      "k = 44\n",
      "0.957181829760294\n",
      "0.7205331345398931\n",
      " \n",
      "k = 46\n",
      "0.9604555594936798\n",
      "0.7241576713901715\n",
      " \n",
      "k = 48\n",
      "0.9635283562269729\n",
      "0.7262416530434797\n",
      " \n",
      "k = 50\n",
      "0.9672895061709742\n",
      "0.7285479209528745\n",
      " \n"
     ]
    }
   ],
   "source": [
    "# Analyze full dataset\n",
    "\n",
    "rmse_scores = []\n",
    "mae_scores = []\n",
    "\n",
    "for k in ks:\n",
    "    nmf = NMF(n_factors=k)\n",
    "    result = cross_validate(nmf, rating_dataset, measures=['rmse', 'mae'], cv=10)\n",
    "    \n",
    "    rmse = np.mean(result['test_rmse'])\n",
    "    mae = np.mean(result['test_mae'])\n",
    "    \n",
    "    print('k = {}'.format(k))\n",
    "    print(rmse)\n",
    "    print(mae)\n",
    "    print(' ')\n",
    "    \n",
    "    rmse_scores.append(rmse)\n",
    "    mae_scores.append(mae)"
   ]
  },
  {
   "cell_type": "code",
   "execution_count": 40,
   "metadata": {
    "collapsed": false
   },
   "outputs": [
    {
     "data": {
      "image/png": "[encoded data removed]",
      "text/plain": [
       "<Figure size 432x288 with 1 Axes>"
      ]
     },
     "metadata": {
      "needs_background": "light"
     },
     "output_type": "display_data"
    },
    {
     "data": {
      "image/png": "[encoded data removed]",
      "text/plain": [
       "<Figure size 432x288 with 1 Axes>"
      ]
     },
     "metadata": {
      "needs_background": "light"
     },
     "output_type": "display_data"
    }
   ],
   "source": [
    "plt.figure()\n",
    "plt.plot(ks, rmse_scores)\n",
    "plt.title('RMSE scores vs. k')\n",
    "plt.xlabel('k')\n",
    "plt.ylabel('RMSE scores')\n",
    "plt.show()\n",
    "\n",
    "plt.figure()\n",
    "plt.plot(ks, mae_scores)\n",
    "plt.title('MAE scores vs. k')\n",
    "plt.xlabel('k')\n",
    "plt.ylabel('MAE scores')\n",
    "plt.show()"
   ]
  },
  {
   "cell_type": "code",
   "execution_count": 41,
   "metadata": {
    "collapsed": false
   },
   "outputs": [
    {
     "name": "stdout",
     "output_type": "stream",
     "text": [
      "Best k for RMSE: 18\n",
      "Best k for MAE: 24\n"
     ]
    }
   ],
   "source": [
    "print('Best k for RMSE: {}'.format(ks[np.argmin(rmse_scores)]))\n",
    "print('Best k for MAE: {}'.format(ks[np.argmin(mae_scores)]))"
   ]
  },
  {
   "cell_type": "markdown",
   "metadata": {},
   "source": [
    "#### Question 19"
   ]
  },
  {
   "cell_type": "code",
   "execution_count": 42,
   "metadata": {
    "collapsed": false,
    "scrolled": true
   },
   "outputs": [
    {
     "name": "stdout",
     "output_type": "stream",
     "text": [
      "k = 2\n",
      "1.137866230223612\n",
      " \n",
      "k = 4\n",
      "1.015006432671863\n",
      " \n",
      "k = 6\n",
      "0.9464596979136299\n",
      " \n",
      "k = 8\n",
      "0.9080105592468012\n",
      " \n",
      "k = 10\n",
      "0.8891814730695774\n",
      " \n",
      "k = 12\n",
      "0.879751153344684\n",
      " \n",
      "k = 14\n",
      "0.8727754751853134\n",
      " \n",
      "k = 16\n",
      "0.8708652305299026\n",
      " \n",
      "k = 18\n",
      "0.8745410493005987\n",
      " \n",
      "k = 20\n",
      "0.8767621543186458\n",
      " \n",
      "k = 22\n",
      "0.8784568738053051\n",
      " \n",
      "k = 24\n",
      "0.884458015742044\n",
      " \n",
      "k = 26\n",
      "0.8874450933556082\n",
      " \n",
      "k = 28\n",
      "0.8901248180080803\n",
      " \n",
      "k = 30\n",
      "0.899450705003391\n",
      " \n",
      "k = 32\n",
      "0.9025220089825566\n",
      " \n",
      "k = 34\n",
      "0.9073762853140448\n",
      " \n",
      "k = 36\n",
      "0.914915158629183\n",
      " \n",
      "k = 38\n",
      "0.9173164281390618\n",
      " \n",
      "k = 40\n",
      "0.9211253653464541\n",
      " \n",
      "k = 42\n",
      "0.9297956201880743\n",
      " \n",
      "k = 44\n",
      "0.9331796165260975\n",
      " \n",
      "k = 46\n",
      "0.9350164047942051\n",
      " \n",
      "k = 48\n",
      "0.940632426978399\n",
      " \n",
      "k = 50\n",
      "0.9468359003726363\n",
      " \n"
     ]
    }
   ],
   "source": [
    "# Analyze popular dataset.\n",
    "\n",
    "rmse_popular_scores = []\n",
    "\n",
    "for k in ks:\n",
    "    nmf = NMF(n_factors=k)\n",
    "    kf = KFold(n_splits=10)\n",
    "    rmse_per_fold = []\n",
    "    for trainset, testset in kf.split(rating_dataset):\n",
    "        pop_testset = get_popular(testset)\n",
    "        nmf.fit(trainset)\n",
    "        predictions = nmf.test(pop_testset)\n",
    "        rmse_per_fold.append(accuracy.rmse(predictions, verbose=False))\n",
    "    avg_rmse = np.mean(rmse_per_fold)\n",
    "    rmse_popular_scores.append(avg_rmse)\n",
    "    print('k = {}'.format(k))\n",
    "    print(avg_rmse)\n",
    "    print(' ')"
   ]
  },
  {
   "cell_type": "code",
   "execution_count": 43,
   "metadata": {
    "collapsed": false
   },
   "outputs": [
    {
     "data": {
      "image/png": "[encoded data removed]",
      "text/plain": [
       "<Figure size 432x288 with 1 Axes>"
      ]
     },
     "metadata": {
      "needs_background": "light"
     },
     "output_type": "display_data"
    }
   ],
   "source": [
    "plt.figure()\n",
    "plt.plot(ks, rmse_popular_scores)\n",
    "plt.title('RMSE scores vs. k for popular dataset')\n",
    "plt.xlabel('k')\n",
    "plt.ylabel('RMSE scores')\n",
    "plt.show()"
   ]
  },
  {
   "cell_type": "code",
   "execution_count": 44,
   "metadata": {
    "collapsed": false
   },
   "outputs": [
    {
     "name": "stdout",
     "output_type": "stream",
     "text": [
      "Best k for RMSE: 16\n"
     ]
    }
   ],
   "source": [
    "print('Best k for RMSE: {}'.format(ks[np.argmin(rmse_popular_scores)]))"
   ]
  },
  {
   "cell_type": "markdown",
   "metadata": {
    "collapsed": true
   },
   "source": [
    "#### Question 20"
   ]
  },
  {
   "cell_type": "code",
   "execution_count": 45,
   "metadata": {
    "collapsed": false,
    "scrolled": true
   },
   "outputs": [
    {
     "name": "stdout",
     "output_type": "stream",
     "text": [
      "k = 2\n",
      "1.1638167476675376\n",
      " \n",
      "k = 4\n",
      "1.0912186431256956\n",
      " \n",
      "k = 6\n",
      "1.0500479054837009\n",
      " \n",
      "k = 8\n",
      "1.0297314886793958\n",
      " \n",
      "k = 10\n",
      "1.0175771274289864\n",
      " \n",
      "k = 12\n",
      "1.0053615971571124\n",
      " \n",
      "k = 14\n",
      "0.9981624983528752\n",
      " \n",
      "k = 16\n",
      "0.9992551793344671\n",
      " \n",
      "k = 18\n",
      "0.9957316693071325\n",
      " \n",
      "k = 20\n",
      "0.9966558281624815\n",
      " \n",
      "k = 22\n",
      "0.9906676004296052\n",
      " \n",
      "k = 24\n",
      "0.9958524584322817\n",
      " \n",
      "k = 26\n",
      "0.9957688876178536\n",
      " \n",
      "k = 28\n",
      "0.9955408868295657\n",
      " \n",
      "k = 30\n",
      "0.995533504394856\n",
      " \n",
      "k = 32\n",
      "1.0012194637437506\n",
      " \n",
      "k = 34\n",
      "1.003105118881769\n",
      " \n",
      "k = 36\n",
      "1.0077264842824123\n",
      " \n",
      "k = 38\n",
      "1.0028041234679037\n",
      " \n",
      "k = 40\n",
      "1.0045793302584425\n",
      " \n",
      "k = 42\n",
      "1.00463718632026\n",
      " \n",
      "k = 44\n",
      "1.0087941252996182\n",
      " \n",
      "k = 46\n",
      "1.0127566877584928\n",
      " \n",
      "k = 48\n",
      "1.0125418453216892\n",
      " \n",
      "k = 50\n",
      "1.0166510085897098\n",
      " \n"
     ]
    }
   ],
   "source": [
    "# Analyze unpopular dataset\n",
    "\n",
    "rmse_unpopular_scores = []\n",
    "\n",
    "for k in ks:\n",
    "    nmf = NMF(n_factors=k)\n",
    "    kf = KFold(n_splits=10)\n",
    "    rmse_per_fold = []\n",
    "    for trainset, testset in kf.split(rating_dataset):\n",
    "        unpop_testset = get_unpopular(testset)\n",
    "        nmf.fit(trainset)\n",
    "        predictions = nmf.test(unpop_testset)\n",
    "        rmse_per_fold.append(accuracy.rmse(predictions, verbose=False))\n",
    "    avg_rmse = np.mean(rmse_per_fold)\n",
    "    rmse_unpopular_scores.append(avg_rmse)\n",
    "    print('k = {}'.format(k))\n",
    "    print(avg_rmse)\n",
    "    print(' ')"
   ]
  },
  {
   "cell_type": "code",
   "execution_count": 46,
   "metadata": {
    "collapsed": false
   },
   "outputs": [
    {
     "data": {
      "image/png": "[encoded data removed]",
      "text/plain": [
       "<Figure size 432x288 with 1 Axes>"
      ]
     },
     "metadata": {
      "needs_background": "light"
     },
     "output_type": "display_data"
    }
   ],
   "source": [
    "plt.figure()\n",
    "plt.plot(ks, rmse_unpopular_scores)\n",
    "plt.title('RMSE scores vs. k for unpopular dataset')\n",
    "plt.xlabel('k')\n",
    "plt.ylabel('RMSE scores')\n",
    "plt.show()"
   ]
  },
  {
   "cell_type": "code",
   "execution_count": 47,
   "metadata": {
    "collapsed": false
   },
   "outputs": [
    {
     "name": "stdout",
     "output_type": "stream",
     "text": [
      "Best k for RMSE: 22\n"
     ]
    }
   ],
   "source": [
    "print('Best k for RMSE: {}'.format(ks[np.argmin(rmse_unpopular_scores)]))"
   ]
  },
  {
   "cell_type": "markdown",
   "metadata": {},
   "source": [
    "#### Question 21"
   ]
  },
  {
   "cell_type": "code",
   "execution_count": 49,
   "metadata": {
    "collapsed": false,
    "scrolled": true
   },
   "outputs": [
    {
     "name": "stdout",
     "output_type": "stream",
     "text": [
      "k = 2\n",
      "1.462199615456143\n",
      " \n",
      "k = 4\n",
      "1.4275058714139164\n",
      " \n",
      "k = 6\n",
      "1.3819990911907392\n",
      " \n",
      "k = 8\n",
      "1.3948323264929272\n",
      " \n",
      "k = 10\n",
      "1.3941022755691912\n",
      " \n",
      "k = 12\n",
      "1.4000956803844506\n",
      " \n",
      "k = 14\n",
      "1.3986491221195103\n",
      " \n",
      "k = 16\n",
      "1.4250211388834324\n",
      " \n",
      "k = 18\n",
      "1.4132684902594232\n",
      " \n",
      "k = 20\n",
      "1.4336694976119924\n",
      " \n",
      "k = 22\n",
      "1.467830136477057\n",
      " \n",
      "k = 24\n",
      "1.4487020337905268\n",
      " \n",
      "k = 26\n",
      "1.4818124450938417\n",
      " \n",
      "k = 28\n",
      "1.4344190964434345\n",
      " \n",
      "k = 30\n",
      "1.454007765919362\n",
      " \n",
      "k = 32\n",
      "1.4504688894017068\n",
      " \n",
      "k = 34\n",
      "1.4624392640224577\n",
      " \n",
      "k = 36\n",
      "1.5204698208432623\n",
      " \n",
      "k = 38\n",
      "1.465358340944009\n",
      " \n",
      "k = 40\n",
      "1.5048406288522385\n",
      " \n",
      "k = 42\n",
      "1.494536088390023\n",
      " \n",
      "k = 44\n",
      "1.5482132729750924\n",
      " \n",
      "k = 46\n",
      "1.5379723423181004\n",
      " \n",
      "k = 48\n",
      "1.564704517733078\n",
      " \n",
      "k = 50\n",
      "1.5333582843369862\n",
      " \n"
     ]
    }
   ],
   "source": [
    "# Analyze high variance dataset\n",
    "\n",
    "rmse_highvar_scores = []\n",
    "\n",
    "for k in ks:\n",
    "    nmf = NMF(n_factors=k)\n",
    "    kf = KFold(n_splits=10)\n",
    "    rmse_per_fold = []\n",
    "    for trainset, testset in kf.split(rating_dataset):\n",
    "        highvar_testset = get_highvar(testset)\n",
    "        nmf.fit(trainset)\n",
    "        predictions = nmf.test(highvar_testset)\n",
    "        rmse_per_fold.append(accuracy.rmse(predictions, verbose=False))\n",
    "    avg_rmse = np.mean(rmse_per_fold)\n",
    "    rmse_highvar_scores.append(avg_rmse)\n",
    "    print('k = {}'.format(k))\n",
    "    print(avg_rmse)\n",
    "    print(' ')"
   ]
  },
  {
   "cell_type": "code",
   "execution_count": 50,
   "metadata": {
    "collapsed": false
   },
   "outputs": [
    {
     "data": {
      "image/png": "[encoded data removed]",
      "text/plain": [
       "<Figure size 432x288 with 1 Axes>"
      ]
     },
     "metadata": {
      "needs_background": "light"
     },
     "output_type": "display_data"
    }
   ],
   "source": [
    "plt.figure()\n",
    "plt.plot(ks, rmse_highvar_scores)\n",
    "plt.title('RMSE scores vs. k for high variance dataset')\n",
    "plt.xlabel('k')\n",
    "plt.ylabel('RMSE scores')\n",
    "plt.show()"
   ]
  },
  {
   "cell_type": "code",
   "execution_count": 51,
   "metadata": {
    "collapsed": false
   },
   "outputs": [
    {
     "name": "stdout",
     "output_type": "stream",
     "text": [
      "Best k for RMSE: 6\n"
     ]
    }
   ],
   "source": [
    "print('Best k for RMSE: {}'.format(ks[np.argmin(rmse_highvar_scores)]))"
   ]
  },
  {
   "cell_type": "markdown",
   "metadata": {
    "collapsed": true
   },
   "source": [
    "#### Question 22"
   ]
  },
  {
   "cell_type": "code",
   "execution_count": 52,
   "metadata": {
    "collapsed": true
   },
   "outputs": [],
   "source": [
    "from sklearn.metrics import roc_curve\n",
    "from sklearn.metrics import roc_auc_score\n",
    "from surprise import NMF\n",
    "from surprise.model_selection import train_test_split"
   ]
  },
  {
   "cell_type": "code",
   "execution_count": 53,
   "metadata": {
    "collapsed": true
   },
   "outputs": [],
   "source": [
    "thresholds = [2.5, 3, 3.5, 4]\n",
    "best_k = 16"
   ]
  },
  {
   "cell_type": "code",
   "execution_count": 54,
   "metadata": {
    "collapsed": false
   },
   "outputs": [
    {
     "data": {
      "image/png": "[encoded data removed]",
      "text/plain": [
       "<Figure size 432x288 with 1 Axes>"
      ]
     },
     "metadata": {
      "needs_background": "light"
     },
     "output_type": "display_data"
    },
    {
     "data": {
      "image/png": "[encoded data removed]",
      "text/plain": [
       "<Figure size 432x288 with 1 Axes>"
      ]
     },
     "metadata": {
      "needs_background": "light"
     },
     "output_type": "display_data"
    },
    {
     "data": {
      "image/png": "[encoded data removed]",
      "text/plain": [
       "<Figure size 432x288 with 1 Axes>"
      ]
     },
     "metadata": {
      "needs_background": "light"
     },
     "output_type": "display_data"
    },
    {
     "data": {
      "image/png": "[encoded data removed]",
      "text/plain": [
       "<Figure size 432x288 with 1 Axes>"
      ]
     },
     "metadata": {
      "needs_background": "light"
     },
     "output_type": "display_data"
    }
   ],
   "source": [
    "nmf = NMF(n_factors=best_k)\n",
    "trainset, testset = train_test_split(rating_dataset, test_size=0.1)\n",
    "nmf.fit(trainset)\n",
    "predictions = nmf.test(testset)\n",
    "for t in thresholds:\n",
    "    true_bin = [1 if pred.r_ui >= t else 0 for pred in predictions]\n",
    "    scores = [pred.est for pred in predictions]\n",
    "    \n",
    "    plt.figure()\n",
    "    fpr, tpr, thr = roc_curve(true_bin, scores)\n",
    "    plt.plot(fpr, tpr)\n",
    "    plt.text(0.5, 0.1, 'area under curve = %0.4f' % roc_auc_score(true_bin, scores))\n",
    "    plt.text(0.5, 0.2, 'threshold = {}'.format(t))\n",
    "    plt.xlabel('false positive rate')\n",
    "    plt.ylabel('true positive rate')\n",
    "    plt.show()"
   ]
  },
  {
   "cell_type": "markdown",
   "metadata": {},
   "source": [
    "#### Question 23"
   ]
  },
  {
   "cell_type": "code",
   "execution_count": 55,
   "metadata": {
    "collapsed": true
   },
   "outputs": [],
   "source": [
    "from surprise import NMF"
   ]
  },
  {
   "cell_type": "code",
   "execution_count": 56,
   "metadata": {
    "collapsed": true
   },
   "outputs": [],
   "source": [
    "df=pd.read_csv('ml-latest-small/ratings.csv')\n",
    "df_movies=pd.read_csv('ml-latest-small/movies.csv')\n",
    "nmf = NMF(n_factors=20, random_state=0)\n",
    "nmf.fit(rating_dataset.build_full_trainset())\n",
    "V = nmf.qi"
   ]
  },
  {
   "cell_type": "code",
   "execution_count": 57,
   "metadata": {
    "collapsed": false,
    "scrolled": false
   },
   "outputs": [
    {
     "name": "stdout",
     "output_type": "stream",
     "text": [
      "Feature 1 top 10 genres\n",
      "Comedy|Drama|Romance\n",
      "Horror|Sci-Fi\n",
      "Crime|Drama|Musical\n",
      "Comedy|Drama|Romance\n",
      "Drama|Romance\n",
      "Comedy\n",
      "Drama|Mystery|Sci-Fi|Thriller\n",
      "Drama\n",
      "Drama\n",
      "Drama|Thriller|War\n",
      " \n",
      "Feature 2 top 10 genres\n",
      "Drama|Western\n",
      "Drama|Musical\n",
      "Film-Noir|Thriller\n",
      "Comedy\n",
      "Comedy|Romance\n",
      "Comedy\n",
      "Action|Comedy\n",
      "Action|Crime|Thriller\n",
      "Horror|Sci-Fi|Thriller\n",
      "Children|Comedy\n",
      " \n",
      "Feature 3 top 10 genres\n",
      "Comedy|Drama|Romance\n",
      "Horror|Thriller\n",
      "Drama\n",
      "Drama|Romance\n",
      "Adventure|Children\n",
      "Drama|Romance\n",
      "Drama\n",
      "Crime|Drama|Film-Noir|Thriller\n",
      "Drama\n",
      "Adventure|Children|Comedy|Mystery\n",
      " \n",
      "Feature 4 top 10 genres\n",
      "Drama\n",
      "Children|Drama\n",
      "Thriller\n",
      "Action|Adventure|Fantasy|Sci-Fi\n",
      "Comedy|Romance\n",
      "Comedy\n",
      "Action|Adventure|Comedy\n",
      "Documentary\n",
      "Comedy|Crime\n",
      "Comedy|Romance\n",
      " \n",
      "Feature 5 top 10 genres\n",
      "Drama\n",
      "Horror|Thriller\n",
      "Drama\n",
      "Action|Comedy|Sci-Fi\n",
      "Comedy\n",
      "Drama\n",
      "Drama\n",
      "Comedy\n",
      "Comedy|Drama|Thriller\n",
      "Crime|Drama\n",
      " \n",
      "Feature 6 top 10 genres\n",
      "Documentary\n",
      "Comedy\n",
      "Comedy|Drama|Romance\n",
      "Horror\n",
      "Adventure|Animation|Children|Comedy\n",
      "Drama\n",
      "Comedy|Drama\n",
      "Crime|Fantasy|Horror\n",
      "Comedy|Romance\n",
      "Animation|Children|Comedy|Crime\n",
      " \n",
      "Feature 7 top 10 genres\n",
      "Drama\n",
      "Drama\n",
      "Drama\n",
      "Adventure|Children|Comedy\n",
      "Drama|Fantasy|Musical|Romance\n",
      "Action|Adventure|Drama|Thriller\n",
      "Sci-Fi\n",
      "Drama|Musical\n",
      "Comedy|War\n",
      "Comedy\n",
      " \n",
      "Feature 8 top 10 genres\n",
      "Comedy|Drama|Romance\n",
      "Drama\n",
      "Action|Crime|Drama\n",
      "Action|Thriller\n",
      "Horror|Sci-Fi\n",
      "Adventure|Animation|Children|Comedy\n",
      "Drama\n",
      "Drama|Mystery|Sci-Fi|Thriller\n",
      "Action|Comedy|Drama\n",
      "Adventure|Western\n",
      " \n",
      "Feature 9 top 10 genres\n",
      "Comedy|Romance\n",
      "Drama|Fantasy|Romance\n",
      "Comedy\n",
      "Crime|Drama\n",
      "Comedy|Drama|Romance\n",
      "Comedy\n",
      "Drama\n",
      "Comedy\n",
      "Action|Drama\n",
      "Drama\n",
      " \n",
      "Feature 10 top 10 genres\n",
      "Horror|Thriller\n",
      "Drama|Mystery|Thriller\n",
      "Horror|Thriller\n",
      "Drama\n",
      "Drama|Musical\n",
      "Horror|Sci-Fi\n",
      "Drama\n",
      "Crime|Drama\n",
      "Comedy|Drama|Romance\n",
      "Drama\n",
      " \n",
      "Feature 11 top 10 genres\n",
      "Sci-Fi\n",
      "Comedy\n",
      "Comedy\n",
      "Crime|Drama|Film-Noir\n",
      "Action|Comedy\n",
      "Crime|Thriller\n",
      "Drama|Horror\n",
      "Comedy|Drama\n",
      "Adventure|Children|Comedy\n",
      "Comedy\n",
      " \n",
      "Feature 12 top 10 genres\n",
      "Comedy\n",
      "Drama\n",
      "Drama\n",
      "Drama\n",
      "Action|Adventure|Fantasy\n",
      "Fantasy|Sci-Fi\n",
      "Action|Drama|Thriller\n",
      "Drama\n",
      "Comedy|Romance\n",
      "Comedy|Drama\n",
      " \n",
      "Feature 13 top 10 genres\n",
      "Children|Comedy\n",
      "Horror|Sci-Fi\n",
      "Drama\n",
      "Action|Adventure|Thriller|IMAX\n",
      "Drama\n",
      "Crime|Drama\n",
      "Comedy\n",
      "Comedy|Drama\n",
      "Comedy\n",
      "Action|Crime|Horror\n",
      " \n",
      "Feature 14 top 10 genres\n",
      "Comedy|Crime\n",
      "Drama|Film-Noir\n",
      "Horror\n",
      "Drama\n",
      "Drama\n",
      "Crime|Drama\n",
      "Action|Adventure|Comedy|Fantasy\n",
      "Drama|Horror|Mystery|Romance|Thriller\n",
      "Comedy|Sci-Fi\n",
      "Sci-Fi\n",
      " \n",
      "Feature 15 top 10 genres\n",
      "Drama|Horror|Mystery|Thriller\n",
      "Drama\n",
      "Drama\n",
      "Action|Animation|Film-Noir|Sci-Fi|Thriller\n",
      "Documentary|Mystery\n",
      "Action|Drama|War\n",
      "Drama\n",
      "Drama\n",
      "Comedy\n",
      "Horror\n",
      " \n",
      "Feature 16 top 10 genres\n",
      "Comedy\n",
      "Drama\n",
      "Horror|Sci-Fi\n",
      "Comedy\n",
      "Comedy|Horror|Sci-Fi\n",
      "Mystery|Romance|Thriller\n",
      "Comedy\n",
      "Action|Horror|Sci-Fi|Thriller\n",
      "Drama|Romance\n",
      "Documentary\n",
      " \n",
      "Feature 17 top 10 genres\n",
      "Drama\n",
      "Adventure|Comedy|Fantasy\n",
      "Crime|Drama\n",
      "Crime|Drama\n",
      "Drama\n",
      "Horror|Thriller\n",
      "Drama|Thriller\n",
      "Comedy|Crime|Mystery\n",
      "Comedy|Horror\n",
      "Comedy\n",
      " \n",
      "Feature 18 top 10 genres\n",
      "Drama|Fantasy|Horror|Romance\n",
      "Crime\n",
      "Mystery|Thriller\n",
      "Comedy|Drama|Romance\n",
      "Comedy\n",
      "Comedy|Crime\n",
      "Crime|Drama|Mystery|Thriller\n",
      "Comedy|Drama\n",
      "Comedy|Musical\n",
      "Comedy|Drama|Musical|Romance\n",
      " \n",
      "Feature 19 top 10 genres\n",
      "Crime|Drama\n",
      "Drama\n",
      "Drama\n",
      "Drama\n",
      "Action|Adventure|Thriller\n",
      "Comedy|Drama|Romance\n",
      "Action|Crime\n",
      "Drama|Film-Noir|Romance\n",
      "Drama|Romance|War\n",
      "Crime|Drama|Thriller\n",
      " \n",
      "Feature 20 top 10 genres\n",
      "Drama|Romance|War\n",
      "Comedy|Drama\n",
      "Comedy|Crime|Romance|Thriller\n",
      "Comedy|Drama\n",
      "Action|Adventure|Fantasy\n",
      "Drama|Musical|Romance\n",
      "Action|Comedy|Sci-Fi|IMAX\n",
      "Drama\n",
      "Comedy\n",
      "Action|Animation\n",
      " \n"
     ]
    }
   ],
   "source": [
    "for f in range(20):\n",
    "    temp = [[V[:,f][k], k] for k in range(np.size(V[:,0]))]\n",
    "    temp.sort(key=lambda x: x[0])\n",
    "    temp.reverse()\n",
    "    print('Feature {} top 10 genres'.format(f+1))\n",
    "    for i in range(10):\n",
    "        print(df_movies['genres'][temp[i][1]])\n",
    "    print(' ')"
   ]
  },
  {
   "cell_type": "markdown",
   "metadata": {},
   "source": [
    "### MF with Bias"
   ]
  },
  {
   "cell_type": "markdown",
   "metadata": {},
   "source": [
    "#### Question 24\n",
    "\n",
    "Design a MF with bias collaborative filter on full data set."
   ]
  },
  {
   "cell_type": "code",
   "execution_count": 35,
   "metadata": {
    "collapsed": true
   },
   "outputs": [],
   "source": [
    "from surprise import SVD\n",
    "from surprise.model_selection import cross_validate\n",
    "from surprise.model_selection import KFold\n",
    "from surprise import accuracy"
   ]
  },
  {
   "cell_type": "code",
   "execution_count": 59,
   "metadata": {
    "collapsed": false
   },
   "outputs": [
    {
     "name": "stdout",
     "output_type": "stream",
     "text": [
      "k = 2\n",
      "0.8670574662586743\n",
      "0.6655094207803763\n",
      " \n",
      "k = 4\n",
      "0.8664564795842713\n",
      "0.6658729354877889\n",
      " \n",
      "k = 6\n",
      "0.8665738691849052\n",
      "0.6655752271967791\n",
      " \n",
      "k = 8\n",
      "0.8655244939306315\n",
      "0.6649137919222816\n",
      " \n",
      "k = 10\n",
      "0.866101044190436\n",
      "0.6654378911368927\n",
      " \n",
      "k = 12\n",
      "0.8666454379717479\n",
      "0.6651755351459773\n",
      " \n",
      "k = 14\n",
      "0.8659006845427646\n",
      "0.6650933251613853\n",
      " \n",
      "k = 16\n",
      "0.8654168032582605\n",
      "0.6647799785737074\n",
      " \n",
      "k = 18\n",
      "0.8658289421973773\n",
      "0.6648729168406172\n",
      " \n",
      "k = 20\n",
      "0.8653052426350486\n",
      "0.664546192291952\n",
      " \n",
      "k = 22\n",
      "0.8660702258856414\n",
      "0.6651053957905203\n",
      " \n",
      "k = 24\n",
      "0.8658254582315182\n",
      "0.6650279083905608\n",
      " \n",
      "k = 26\n",
      "0.8650320745151244\n",
      "0.6641895465236154\n",
      " \n",
      "k = 28\n",
      "0.8651056091994226\n",
      "0.6643125483188628\n",
      " \n",
      "k = 30\n",
      "0.8655501602389164\n",
      "0.6644067631527799\n",
      " \n",
      "k = 32\n",
      "0.8655273325500961\n",
      "0.664577974632477\n",
      " \n",
      "k = 34\n",
      "0.8662064361049844\n",
      "0.6649665331258856\n",
      " \n",
      "k = 36\n",
      "0.8658574992160444\n",
      "0.6646391404639622\n",
      " \n",
      "k = 38\n",
      "0.8656549842121406\n",
      "0.6647690350909545\n",
      " \n",
      "k = 40\n",
      "0.8662056928123268\n",
      "0.6647353836201789\n",
      " \n",
      "k = 42\n",
      "0.86526955816562\n",
      "0.6640776876193643\n",
      " \n",
      "k = 44\n",
      "0.8669759491956082\n",
      "0.6652171128678785\n",
      " \n",
      "k = 46\n",
      "0.866580338664248\n",
      "0.6656319929478297\n",
      " \n",
      "k = 48\n",
      "0.8665604014147712\n",
      "0.6650517677944916\n",
      " \n",
      "k = 50\n",
      "0.865574867976218\n",
      "0.6645250877968001\n",
      " \n"
     ]
    }
   ],
   "source": [
    "ks = np.arange(2, 51, 2)\n",
    "\n",
    "# MF with Bias, Full data set\n",
    "\n",
    "rmse_scores = []\n",
    "mae_scores = []\n",
    "\n",
    "for k in ks:\n",
    "    svd = SVD(n_factors=k)\n",
    "    result = cross_validate(svd, rating_dataset, cv = 10)\n",
    "    \n",
    "    rmse = np.mean(result['test_rmse'])\n",
    "    mae = np.mean(result['test_mae'])\n",
    "    \n",
    "    print('k = {}'.format(k))\n",
    "    print(rmse)\n",
    "    print(mae)\n",
    "    print(' ')\n",
    "    \n",
    "    rmse_scores.append(rmse)\n",
    "    mae_scores.append(mae)"
   ]
  },
  {
   "cell_type": "code",
   "execution_count": 60,
   "metadata": {
    "collapsed": false
   },
   "outputs": [
    {
     "data": {
      "image/png": "[encoded data removed]",
      "text/plain": [
       "<Figure size 432x288 with 1 Axes>"
      ]
     },
     "metadata": {
      "needs_background": "light"
     },
     "output_type": "display_data"
    },
    {
     "data": {
      "image/png": "[encoded data removed]",
      "text/plain": [
       "<Figure size 432x288 with 1 Axes>"
      ]
     },
     "metadata": {
      "needs_background": "light"
     },
     "output_type": "display_data"
    }
   ],
   "source": [
    "plt.figure()\n",
    "plt.plot(ks, rmse_scores)\n",
    "plt.title('RMSE scores vs. k')\n",
    "plt.xlabel('k')\n",
    "plt.ylabel('RMSE scores')\n",
    "plt.show()\n",
    "\n",
    "plt.figure()\n",
    "plt.plot(ks, mae_scores)\n",
    "plt.title('MAE scores vs. k')\n",
    "plt.xlabel('k')\n",
    "plt.ylabel('MAE scores')\n",
    "plt.show()"
   ]
  },
  {
   "cell_type": "markdown",
   "metadata": {},
   "source": [
    "#### Question 25\n",
    "Find the optimal value of k."
   ]
  },
  {
   "cell_type": "code",
   "execution_count": 61,
   "metadata": {
    "collapsed": false
   },
   "outputs": [
    {
     "name": "stdout",
     "output_type": "stream",
     "text": [
      "Best k for RMSE: 26\n",
      "Best k for MAE: 42\n",
      "Min average value for RMSE: 0.8650320745151244\n",
      "Min average value for MAE: 0.6640776876193643\n"
     ]
    }
   ],
   "source": [
    "best_k_MF_bias = ks[np.argmin(rmse_scores)]\n",
    "\n",
    "print('Best k for RMSE: {}'.format(best_k_MF_bias))\n",
    "print('Best k for MAE: {}'.format(ks[np.argmin(mae_scores)]))\n",
    "\n",
    "print('Min average value for RMSE:', np.amin(rmse_scores))\n",
    "print('Min average value for MAE:', np.amin(mae_scores))"
   ]
  },
  {
   "cell_type": "markdown",
   "metadata": {},
   "source": [
    "#### Question 26\n",
    "Design a MF with bias collaborative filter on popular movie trimmed test set."
   ]
  },
  {
   "cell_type": "code",
   "execution_count": 62,
   "metadata": {
    "collapsed": false
   },
   "outputs": [
    {
     "name": "stdout",
     "output_type": "stream",
     "text": [
      "k = 2\n",
      "0.8487469604121213\n",
      " \n",
      "k = 4\n",
      "0.8513760532016921\n",
      " \n",
      "k = 6\n",
      "0.8514866569952048\n",
      " \n",
      "k = 8\n",
      "0.8480233213813231\n",
      " \n",
      "k = 10\n",
      "0.8495245671412851\n",
      " \n",
      "k = 12\n",
      "0.8489807216612171\n",
      " \n",
      "k = 14\n",
      "0.8515473648111257\n",
      " \n",
      "k = 16\n",
      "0.8478553975598644\n",
      " \n",
      "k = 18\n",
      "0.8489294825741679\n",
      " \n",
      "k = 20\n",
      "0.8484186751578022\n",
      " \n",
      "k = 22\n",
      "0.8482395261749085\n",
      " \n",
      "k = 24\n",
      "0.8497943071828968\n",
      " \n",
      "k = 26\n",
      "0.8459684486924625\n",
      " \n",
      "k = 28\n",
      "0.8483377911324423\n",
      " \n",
      "k = 30\n",
      "0.848977314782519\n",
      " \n",
      "k = 32\n",
      "0.8489426349908541\n",
      " \n",
      "k = 34\n",
      "0.8471815469543674\n",
      " \n",
      "k = 36\n",
      "0.8480533756554017\n",
      " \n",
      "k = 38\n",
      "0.8502033082595737\n",
      " \n",
      "k = 40\n",
      "0.848960400028276\n",
      " \n",
      "k = 42\n",
      "0.8457769087427284\n",
      " \n",
      "k = 44\n",
      "0.8490085875727592\n",
      " \n",
      "k = 46\n",
      "0.8491714081954742\n",
      " \n",
      "k = 48\n",
      "0.8458828074776144\n",
      " \n",
      "k = 50\n",
      "0.8452120559192975\n",
      " \n"
     ]
    }
   ],
   "source": [
    "# MF with Bias, Analyze popular dataset\n",
    "\n",
    "rmse_popular_scores = []\n",
    "\n",
    "for k in ks:\n",
    "    svd = SVD(n_factors=k)\n",
    "    kf = KFold(n_splits=10)\n",
    "    rmse_per_fold = []\n",
    "    for trainset, testset in kf.split(rating_dataset):\n",
    "        pop_testset = get_popular(testset)\n",
    "        svd.fit(trainset)\n",
    "        predictions = svd.test(pop_testset)\n",
    "        rmse_per_fold.append(accuracy.rmse(predictions, verbose=False))\n",
    "    avg_rmse = np.mean(rmse_per_fold)\n",
    "    rmse_popular_scores.append(avg_rmse)\n",
    "    print('k = {}'.format(k))\n",
    "    print(avg_rmse)\n",
    "    print(' ')"
   ]
  },
  {
   "cell_type": "code",
   "execution_count": 63,
   "metadata": {
    "collapsed": false
   },
   "outputs": [
    {
     "data": {
      "image/png": "[encoded data removed]",
      "text/plain": [
       "<Figure size 432x288 with 1 Axes>"
      ]
     },
     "metadata": {
      "needs_background": "light"
     },
     "output_type": "display_data"
    }
   ],
   "source": [
    "plt.figure()\n",
    "plt.plot(ks, rmse_popular_scores)\n",
    "plt.title('RMSE scores vs. k for popular dataset')\n",
    "plt.xlabel('k')\n",
    "plt.ylabel('RMSE scores')\n",
    "plt.show()"
   ]
  },
  {
   "cell_type": "code",
   "execution_count": 64,
   "metadata": {
    "collapsed": false
   },
   "outputs": [
    {
     "name": "stdout",
     "output_type": "stream",
     "text": [
      "Best k for RMSE: 50\n",
      "Min average value for RMSE: 0.8452120559192975\n"
     ]
    }
   ],
   "source": [
    "print('Best k for RMSE: {}'.format(ks[np.argmin(rmse_popular_scores)]))\n",
    "print('Min average value for RMSE:', np.amin(rmse_popular_scores))"
   ]
  },
  {
   "cell_type": "markdown",
   "metadata": {},
   "source": [
    "#### Question 27\n",
    "Design a MF with bias collaborative filter on unpopular movie trimmed test set."
   ]
  },
  {
   "cell_type": "code",
   "execution_count": 65,
   "metadata": {
    "collapsed": false
   },
   "outputs": [
    {
     "name": "stdout",
     "output_type": "stream",
     "text": [
      "k = 2\n",
      "0.9004344323789937\n",
      " \n",
      "k = 4\n",
      "0.9019851556784981\n",
      " \n",
      "k = 6\n",
      "0.8995168985793315\n",
      " \n",
      "k = 8\n",
      "0.9032977364172089\n",
      " \n",
      "k = 10\n",
      "0.9034192724032468\n",
      " \n",
      "k = 12\n",
      "0.9023005436009971\n",
      " \n",
      "k = 14\n",
      "0.9041187633997451\n",
      " \n",
      "k = 16\n",
      "0.9049139592609965\n",
      " \n",
      "k = 18\n",
      "0.9033595193785853\n",
      " \n",
      "k = 20\n",
      "0.9004802744245402\n",
      " \n",
      "k = 22\n",
      "0.8991509633452693\n",
      " \n",
      "k = 24\n",
      "0.9018518348450859\n",
      " \n",
      "k = 26\n",
      "0.9010403794057487\n",
      " \n",
      "k = 28\n",
      "0.9052199313992556\n",
      " \n",
      "k = 30\n",
      "0.9037205406158902\n",
      " \n",
      "k = 32\n",
      "0.9025097402288855\n",
      " \n",
      "k = 34\n",
      "0.9032253469612677\n",
      " \n",
      "k = 36\n",
      "0.9021512757908189\n",
      " \n",
      "k = 38\n",
      "0.9070316322778702\n",
      " \n",
      "k = 40\n",
      "0.9058117169305693\n",
      " \n",
      "k = 42\n",
      "0.8997654286940543\n",
      " \n",
      "k = 44\n",
      "0.9045349508496162\n",
      " \n",
      "k = 46\n",
      "0.9074571329764147\n",
      " \n",
      "k = 48\n",
      "0.9029311153310544\n",
      " \n",
      "k = 50\n",
      "0.9068387408014507\n",
      " \n"
     ]
    }
   ],
   "source": [
    "# MF with Bias, Analyze unpopular dataset\n",
    "\n",
    "rmse_unpopular_scores = []\n",
    "\n",
    "for k in ks:\n",
    "    svd = SVD(n_factors=k)\n",
    "    kf = KFold(n_splits=10)\n",
    "    rmse_per_fold = []\n",
    "    for trainset, testset in kf.split(rating_dataset):\n",
    "        unpop_testset = get_unpopular(testset)\n",
    "        svd.fit(trainset)\n",
    "        predictions = svd.test(unpop_testset)\n",
    "        rmse_per_fold.append(accuracy.rmse(predictions, verbose=False))\n",
    "    avg_rmse = np.mean(rmse_per_fold)\n",
    "    rmse_unpopular_scores.append(avg_rmse)\n",
    "    print('k = {}'.format(k))\n",
    "    print(avg_rmse)\n",
    "    print(' ')"
   ]
  },
  {
   "cell_type": "code",
   "execution_count": 66,
   "metadata": {
    "collapsed": false
   },
   "outputs": [
    {
     "data": {
      "image/png": "[encoded data removed]",
      "text/plain": [
       "<Figure size 432x288 with 1 Axes>"
      ]
     },
     "metadata": {
      "needs_background": "light"
     },
     "output_type": "display_data"
    }
   ],
   "source": [
    "plt.figure()\n",
    "plt.plot(ks, rmse_unpopular_scores)\n",
    "plt.title('RMSE scores vs. k for unpopular dataset')\n",
    "plt.xlabel('k')\n",
    "plt.ylabel('RMSE scores')\n",
    "plt.show()"
   ]
  },
  {
   "cell_type": "code",
   "execution_count": 67,
   "metadata": {
    "collapsed": false
   },
   "outputs": [
    {
     "name": "stdout",
     "output_type": "stream",
     "text": [
      "Best k for RMSE: 22\n",
      "Min average value for RMSE: 0.8991509633452693\n"
     ]
    }
   ],
   "source": [
    "print('Best k for RMSE: {}'.format(ks[np.argmin(rmse_unpopular_scores)]))\n",
    "print('Min average value for RMSE:', np.amin(rmse_unpopular_scores))"
   ]
  },
  {
   "cell_type": "markdown",
   "metadata": {},
   "source": [
    "#### Question 28\n",
    "Design a MF with bias collaborative filter on high variance movie trimmed test set."
   ]
  },
  {
   "cell_type": "code",
   "execution_count": 68,
   "metadata": {
    "collapsed": false
   },
   "outputs": [
    {
     "name": "stdout",
     "output_type": "stream",
     "text": [
      "k = 2\n",
      "1.4090909741597701\n",
      " \n",
      "k = 4\n",
      "1.4194632961877662\n",
      " \n",
      "k = 6\n",
      "1.4253883229352577\n",
      " \n",
      "k = 8\n",
      "1.4138062484223075\n",
      " \n",
      "k = 10\n",
      "1.4165275296041488\n",
      " \n",
      "k = 12\n",
      "1.406686811129402\n",
      " \n",
      "k = 14\n",
      "1.3962040093415855\n",
      " \n",
      "k = 16\n",
      "1.4494224060198426\n",
      " \n",
      "k = 18\n",
      "1.3517553880939661\n",
      " \n",
      "k = 20\n",
      "1.3957468511976725\n",
      " \n",
      "k = 22\n",
      "1.4342078030114178\n",
      " \n",
      "k = 24\n",
      "1.3985358738763058\n",
      " \n",
      "k = 26\n",
      "1.4103543861313126\n",
      " \n",
      "k = 28\n",
      "1.3971647337641429\n",
      " \n",
      "k = 30\n",
      "1.3735336747570992\n",
      " \n",
      "k = 32\n",
      "1.4130320435624846\n",
      " \n",
      "k = 34\n",
      "1.3980986378008455\n",
      " \n",
      "k = 36\n",
      "1.3792668360481284\n",
      " \n",
      "k = 38\n",
      "1.3794388408559795\n",
      " \n",
      "k = 40\n",
      "1.4299990065766202\n",
      " \n",
      "k = 42\n",
      "1.4050755641826957\n",
      " \n",
      "k = 44\n",
      "1.44027459106155\n",
      " \n",
      "k = 46\n",
      "1.4165063474827533\n",
      " \n",
      "k = 48\n",
      "1.3549724492550073\n",
      " \n",
      "k = 50\n",
      "1.397714519857993\n",
      " \n"
     ]
    }
   ],
   "source": [
    "# MF with Bias, Analyze high variance dataset\n",
    "\n",
    "rmse_highvar_scores = []\n",
    "\n",
    "for k in ks:\n",
    "    svd = SVD(n_factors=k)\n",
    "    kf = KFold(n_splits=10)\n",
    "    rmse_per_fold = []\n",
    "    for trainset, testset in kf.split(rating_dataset):\n",
    "        highvar_testset = get_highvar(testset)\n",
    "        svd.fit(trainset)\n",
    "        predictions = svd.test(highvar_testset)\n",
    "        rmse_per_fold.append(accuracy.rmse(predictions, verbose=False))\n",
    "    avg_rmse = np.mean(rmse_per_fold)\n",
    "    rmse_highvar_scores.append(avg_rmse)\n",
    "    print('k = {}'.format(k))\n",
    "    print(avg_rmse)\n",
    "    print(' ')"
   ]
  },
  {
   "cell_type": "code",
   "execution_count": 69,
   "metadata": {
    "collapsed": false
   },
   "outputs": [
    {
     "data": {
      "image/png": "[encoded data removed]",
      "text/plain": [
       "<Figure size 432x288 with 1 Axes>"
      ]
     },
     "metadata": {
      "needs_background": "light"
     },
     "output_type": "display_data"
    }
   ],
   "source": [
    "plt.figure()\n",
    "plt.plot(ks, rmse_highvar_scores)\n",
    "plt.title('RMSE scores vs. k for high variance dataset')\n",
    "plt.xlabel('k')\n",
    "plt.ylabel('RMSE scores')\n",
    "plt.show()"
   ]
  },
  {
   "cell_type": "code",
   "execution_count": 70,
   "metadata": {
    "collapsed": false
   },
   "outputs": [
    {
     "name": "stdout",
     "output_type": "stream",
     "text": [
      "Best k for RMSE: 18\n",
      "Min average value for RMSE: 1.3517553880939661\n"
     ]
    }
   ],
   "source": [
    "print('Best k for RMSE: {}'.format(ks[np.argmin(rmse_highvar_scores)]))\n",
    "print('Min average value for RMSE:', np.amin(rmse_highvar_scores))"
   ]
  },
  {
   "cell_type": "markdown",
   "metadata": {},
   "source": [
    "#### Question 29\n",
    "Plot ROC cures from Question 24 with optimal k value. Specify AUC."
   ]
  },
  {
   "cell_type": "code",
   "execution_count": 71,
   "metadata": {
    "collapsed": true
   },
   "outputs": [],
   "source": [
    "from sklearn.metrics import roc_curve\n",
    "from sklearn.metrics import roc_auc_score\n",
    "from surprise.model_selection import train_test_split"
   ]
  },
  {
   "cell_type": "code",
   "execution_count": 72,
   "metadata": {
    "collapsed": true
   },
   "outputs": [],
   "source": [
    "thresholds = [2.5, 3, 3.5, 4]"
   ]
  },
  {
   "cell_type": "code",
   "execution_count": 73,
   "metadata": {
    "collapsed": false
   },
   "outputs": [
    {
     "data": {
      "image/png": "[encoded data removed]",
      "text/plain": [
       "<Figure size 432x288 with 1 Axes>"
      ]
     },
     "metadata": {
      "needs_background": "light"
     },
     "output_type": "display_data"
    },
    {
     "data": {
      "image/png": "[encoded data removed]",
      "text/plain": [
       "<Figure size 432x288 with 1 Axes>"
      ]
     },
     "metadata": {
      "needs_background": "light"
     },
     "output_type": "display_data"
    },
    {
     "data": {
      "image/png": "[encoded data removed]",
      "text/plain": [
       "<Figure size 432x288 with 1 Axes>"
      ]
     },
     "metadata": {
      "needs_background": "light"
     },
     "output_type": "display_data"
    },
    {
     "data": {
      "image/png": "[encoded data removed]",
      "text/plain": [
       "<Figure size 432x288 with 1 Axes>"
      ]
     },
     "metadata": {
      "needs_background": "light"
     },
     "output_type": "display_data"
    }
   ],
   "source": [
    "svd = SVD(n_factors=best_k_MF_bias)\n",
    "trainset, testset = train_test_split(rating_dataset, test_size=0.1)\n",
    "svd.fit(trainset)\n",
    "predictions = svd.test(testset)\n",
    "for t in thresholds:\n",
    "    true_bin = [1 if pred.r_ui >= t else 0 for pred in predictions]\n",
    "    scores = [pred.est for pred in predictions]\n",
    "    \n",
    "    plt.figure()\n",
    "    fpr, tpr, thr = roc_curve(true_bin, scores)\n",
    "    plt.plot(fpr, tpr)\n",
    "    plt.text(0.5, 0.1, 'area under curve = %0.4f' % roc_auc_score(true_bin, scores))\n",
    "    plt.text(0.5, 0.2, 'threshold = {}'.format(t))\n",
    "    plt.xlabel('false positive rate')\n",
    "    plt.ylabel('true positive rate')\n",
    "    plt.show()"
   ]
  },
  {
   "cell_type": "code",
   "execution_count": null,
   "metadata": {
    "collapsed": true
   },
   "outputs": [],
   "source": []
  },
  {
   "cell_type": "markdown",
   "metadata": {
    "collapsed": true
   },
   "source": [
    "#### Question 30\n",
    "\n",
    "Filter original R matrix into popular, unpopular, and high-variance datasets"
   ]
  },
  {
   "cell_type": "code",
   "execution_count": 8,
   "metadata": {
    "collapsed": false
   },
   "outputs": [
    {
     "name": "stdout",
     "output_type": "stream",
     "text": [
      "Original (610, 9724)\n",
      "Popular movies: (610, 4980)\n",
      "Unpopular movies: (610, 4744)\n",
      "High-var movies: (610, 40)\n"
     ]
    }
   ],
   "source": [
    "print('Original', R.shape)\n",
    "\n",
    "def get_popular_z(R):\n",
    "    counts_per_movie = np.sum(R != 0, axis=0)\n",
    "    popular_ones = counts_per_movie > 2\n",
    "    return R[:, popular_ones]\n",
    "    \n",
    "data_popular = get_popular_z(R)\n",
    "print('Popular movies:', data_popular.shape)\n",
    "\n",
    "def get_unpopular_z(R):\n",
    "    counts_per_movie = np.sum(R != 0, axis=0)\n",
    "    unpopular_ones = counts_per_movie <= 2\n",
    "    return R[:, unpopular_ones]\n",
    "    \n",
    "data_unpopular = get_unpopular_z(R)\n",
    "print('Unpopular movies:', data_unpopular.shape)\n",
    "\n",
    "def get_highvar_z(R):\n",
    "    counts_per_movie = np.sum(R != 0, axis=0)\n",
    "    count_popular = counts_per_movie >= 5\n",
    "    \n",
    "    # manually calculate variances:\n",
    "    variances_per_movie = np.zeros(R.shape[1])\n",
    "    for idx, col in enumerate(R.T):\n",
    "        nonzero = np.nonzero(col)\n",
    "        variances_per_movie[idx] = np.var(col[nonzero])\n",
    "    \n",
    "    high_var = variances_per_movie >= 2\n",
    "    \n",
    "    return R[:, np.all([count_popular, high_var], axis=0)]\n",
    "\n",
    "data_highvar = get_highvar_z(R)\n",
    "print('High-var movies:', data_highvar.shape)"
   ]
  },
  {
   "cell_type": "markdown",
   "metadata": {
    "collapsed": true
   },
   "source": [
    "##### Define Naive model\n",
    "\n",
    "Calculate the average rating, $\\mu_i$, for each user rating, $r_i$"
   ]
  },
  {
   "cell_type": "code",
   "execution_count": 9,
   "metadata": {
    "collapsed": true
   },
   "outputs": [],
   "source": [
    "class Naive():\n",
    "    '''\n",
    "    Custom collaborative filter designed to work with the cross-validation function\n",
    "    '''\n",
    "\n",
    "    # mean ratings, one required per user\n",
    "    mu_i = None\n",
    "\n",
    "    def __init__(self, X_train):\n",
    "        self.mu_i = np.zeros(np.mean(X_train, axis=1).shape)\n",
    "        self.fit(X_train, None, enabled=True)\n",
    "\n",
    "    # calculate mu_i for training\n",
    "    def fit(self, X, y, enabled=False):\n",
    "        if enabled:\n",
    "            for idx, row in enumerate(X):\n",
    "                self.mu_i[idx] = np.mean(row[np.nonzero(row)])\n",
    "\n",
    "    # return mu_i as rating prediction (for each movie)\n",
    "    def predict(self, X, inds=None):\n",
    "        if inds is None:\n",
    "            return np.repeat(np.reshape(self.mu_i, (self.mu_i.shape[0], 1)), X.shape[1], axis=1)\n",
    "        else:\n",
    "            # return a specific set of mu_i's:\n",
    "            return np.repeat(np.reshape(self.mu_i[inds], (self.mu_i[inds].shape[0], 1)), X.shape[1], axis=1)"
   ]
  },
  {
   "cell_type": "markdown",
   "metadata": {},
   "source": [
    "Custom cross validation function"
   ]
  },
  {
   "cell_type": "code",
   "execution_count": 10,
   "metadata": {
    "collapsed": true
   },
   "outputs": [],
   "source": [
    "from sklearn.metrics import mean_squared_error, mean_absolute_error\n",
    "from math import sqrt\n",
    "\n",
    "\n",
    "def custom_crossval(X_train, y_train, model, num_folds=10, metrics=['RMSE', 'MAE', 'accuracy'],\n",
    "                    randomize=True, include_inds=False):\n",
    "    '''\n",
    "    Requires a model that has the following functions:\n",
    "        model.fit(X, y): fits the model on a particular set of X/y\n",
    "        model.predict(X): predicts y given an input of X\n",
    "    '''\n",
    "    X_train_folds = []\n",
    "    y_train_folds = []\n",
    "    X_val_folds = []\n",
    "    y_val_folds = []\n",
    "\n",
    "    # necessary for some models (Naive)\n",
    "    train_inds = []\n",
    "    val_inds = []\n",
    "\n",
    "    # initialize cumulative errors object\n",
    "    cumulative_metrics = {}\n",
    "    for met in metrics:\n",
    "        cumulative_metrics[met] = 0\n",
    "\n",
    "    k = num_folds\n",
    "\n",
    "    ##############################################################################\n",
    "    # 1. Divide dataset into training and validation folds\n",
    "    idx = np.arange(X_train.shape[0])\n",
    "    fold_size = X_train.shape[0] // num_folds\n",
    "\n",
    "    # randomize indices\n",
    "    if randomize:\n",
    "        np.random.shuffle(idx)\n",
    "\n",
    "    for i in range(num_folds):\n",
    "        test_idx = idx[i * fold_size:(i + 1) * fold_size]\n",
    "        train_idx = np.concatenate((idx[:i * fold_size:], idx[(i + 1) * fold_size:]))\n",
    "\n",
    "        X_train_folds.append(X_train[train_idx])\n",
    "        y_train_folds.append(y_train[train_idx])\n",
    "\n",
    "        X_val_folds.append(X_train[test_idx])\n",
    "        y_val_folds.append(y_train[test_idx])\n",
    "\n",
    "        train_inds.append(train_idx)\n",
    "        val_inds.append(test_idx)\n",
    "        \n",
    "    # initialize metric lists\n",
    "    for met in metrics:\n",
    "        cumulative_metrics[met] = []\n",
    "\n",
    "    ##############################################################################\n",
    "    # 2. Train on train set, test on validation set, calculate errors\n",
    "    for i in range(len(X_train_folds)):\n",
    "        # train model on the train folds (k-1 folds):\n",
    "        model.fit(X_train_folds[i], y_train_folds[i])\n",
    "\n",
    "        # measure error of test predictions\n",
    "        if include_inds:\n",
    "            y_pred = model.predict(X_val_folds[i], inds=val_inds[i])\n",
    "        else:\n",
    "            y_pred = model.predict(X_val_folds[i])\n",
    "\n",
    "        # calculate errors:\n",
    "        y_actual = y_val_folds[i]\n",
    "        \n",
    "        nonzero = np.nonzero(y_actual)\n",
    "        for met in metrics:\n",
    "            if met == 'RMSE':\n",
    "                rms = sqrt(mean_squared_error(y_actual[nonzero], y_pred[nonzero]))\n",
    "                cumulative_metrics[met].append(rms)\n",
    "            elif met == 'MAE':\n",
    "                mae = mean_absolute_error(y_actual[nonzero], y_pred[nonzero])\n",
    "                cumulative_metrics[met].append(mae)\n",
    "            elif met == 'accuracy':\n",
    "                num_correct = np.sum(y_pred[nonzero] == y_actual[nonzero])\n",
    "                cumulative_metrics[met].append(num_correct / y_val_folds[i].shape[0])\n",
    "            else:\n",
    "                raise Exception(\"Error: requested error ('{}') is not incoporated into this function yet.\".format(met))\n",
    "\n",
    "    ##############################################################################\n",
    "    # 3. Average and return metrics object\n",
    "    for met in metrics:\n",
    "        cumulative_metrics[\"{}_avg\".format(met)] = np.mean(cumulative_metrics[met])\n",
    "    return cumulative_metrics"
   ]
  },
  {
   "cell_type": "code",
   "execution_count": 11,
   "metadata": {
    "collapsed": false
   },
   "outputs": [
    {
     "name": "stdout",
     "output_type": "stream",
     "text": [
      "average rating shape: (610,) - should be 610\n",
      "average rating range: 1.275 5.0\n",
      "(610, 9724) (610, 9724)\n"
     ]
    }
   ],
   "source": [
    "model = Naive(R)\n",
    "mu_i = model.mu_i\n",
    "print(\"average rating shape:\", mu_i.shape, \"- should be\", num_users)\n",
    "print(\"average rating range:\", np.min(mu_i), np.max(mu_i))\n",
    "\n",
    "y_pred = model.predict(R)\n",
    "print(R.shape, y_pred.shape)"
   ]
  },
  {
   "cell_type": "code",
   "execution_count": 12,
   "metadata": {
    "collapsed": false
   },
   "outputs": [
    {
     "name": "stdout",
     "output_type": "stream",
     "text": [
      "RMSE: [0.980377644026666, 0.8894267281038554, 0.9578416198079053, 0.9027217645774974, 0.9255560254043154, 0.9117285135298724, 0.9465737923430447, 0.9410266745252384, 0.9939839815672974, 0.9242411001224387]\n",
      "Average: 0.937347784400813\n"
     ]
    }
   ],
   "source": [
    "error = custom_crossval(R, R, model, num_folds=10, metrics=['RMSE', 'MAE'],\n",
    "                        randomize=False, include_inds=True)\n",
    "\n",
    "print('RMSE:', error['RMSE'])\n",
    "print('Average:', error['RMSE_avg'])"
   ]
  },
  {
   "cell_type": "markdown",
   "metadata": {},
   "source": [
    "#### Question 31"
   ]
  },
  {
   "cell_type": "code",
   "execution_count": 13,
   "metadata": {
    "collapsed": false
   },
   "outputs": [
    {
     "name": "stdout",
     "output_type": "stream",
     "text": [
      "RMSE popular-trimmed data: [0.9772433030189075, 0.8803782938378956, 0.9585488778167809, 0.8956604800433992, 0.9231132955809138, 0.9118603953011065, 0.9428048598381606, 0.9437903395000913, 0.9894158068194451, 0.9228684288270669]\n",
      "Average: 0.9345684080583767\n"
     ]
    }
   ],
   "source": [
    "# model = Naive(data_popular)\n",
    "error = custom_crossval(data_popular, data_popular, model, num_folds=10, metrics=['RMSE', 'MAE'],\n",
    "                        randomize=False, include_inds=True)\n",
    "\n",
    "print('RMSE popular-trimmed data:', error['RMSE'])\n",
    "print('Average:', error['RMSE_avg'])"
   ]
  },
  {
   "cell_type": "markdown",
   "metadata": {},
   "source": [
    "#### Question 32"
   ]
  },
  {
   "cell_type": "code",
   "execution_count": 16,
   "metadata": {
    "collapsed": false
   },
   "outputs": [
    {
     "name": "stdout",
     "output_type": "stream",
     "text": [
      "RMSE unpopular-trimmed data: [1.0561917419099505, 0.9981303401161437, 0.937437813725344, 1.0831281659706797, 0.9943208413745765, 0.909345213649323, 1.0007562505280165, 0.9128780746587065, 1.092262113773724, 0.9373612536593925]\n",
      "Average: 0.9921811809365858\n"
     ]
    }
   ],
   "source": [
    "# model = Naive(data_unpopular)\n",
    "error = custom_crossval(data_unpopular, data_unpopular, model, num_folds=10, metrics=['RMSE', 'MAE'],\n",
    "                        randomize=False, include_inds=True)\n",
    "\n",
    "print('RMSE unpopular-trimmed data:', error['RMSE'])\n",
    "print('Average:', error['RMSE_avg'])"
   ]
  },
  {
   "cell_type": "markdown",
   "metadata": {},
   "source": [
    "#### Question 33"
   ]
  },
  {
   "cell_type": "code",
   "execution_count": 15,
   "metadata": {
    "collapsed": false
   },
   "outputs": [
    {
     "name": "stdout",
     "output_type": "stream",
     "text": [
      "RMSE high-variance-trimmed data: [1.832221602396677, 1.368264785638802, 1.6320849074985369, 1.7816921791526146, 1.4424431104412154, 1.317276683254397, 1.1891331442068152, 1.6118238341199815, 1.551091924881938, 1.3973496709893045]\n",
      "Average: 1.5123381842580284\n"
     ]
    }
   ],
   "source": [
    "# model = Naive(data_highvar)\n",
    "error = custom_crossval(data_highvar, data_highvar, model, num_folds=10, metrics=['RMSE', 'MAE'],\n",
    "                        randomize=False, include_inds=True)\n",
    "\n",
    "print('RMSE high-variance-trimmed data:', error['RMSE'])\n",
    "print('Average:', error['RMSE_avg'])"
   ]
  },
  {
   "cell_type": "markdown",
   "metadata": {
    "collapsed": true
   },
   "source": [
    "#### Question 34"
   ]
  },
  {
   "cell_type": "code",
   "execution_count": 98,
   "metadata": {
    "collapsed": false
   },
   "outputs": [
    {
     "data": {
      "image/png": "[encoded data removed]",
      "text/plain": [
       "<Figure size 432x288 with 1 Axes>"
      ]
     },
     "metadata": {
      "needs_background": "light"
     },
     "output_type": "display_data"
    }
   ],
   "source": [
    "# KNN\n",
    "knn = KNNWithMeans(k=21, min_k=1, sim_options={'name': 'pearson', 'user_based': True}, verbose=False)\n",
    "trainset, testset = train_test_split(rating_dataset, test_size=0.1)\n",
    "knn.fit(trainset)\n",
    "predictions_knn = knn.test(testset)\n",
    "\n",
    "# NNMF\n",
    "nmf = NMF(n_factors=16)\n",
    "trainset, testset = train_test_split(rating_dataset, test_size=0.1)\n",
    "nmf.fit(trainset)\n",
    "predictions_nmf = nmf.test(testset)\n",
    "\n",
    "# MF with Bias\n",
    "svd = SVD(n_factors=best_k_MF_bias)\n",
    "trainset, testset = train_test_split(rating_dataset, test_size=0.1)\n",
    "svd.fit(trainset)\n",
    "predictions_mf = svd.test(testset)\n",
    "\n",
    "threshold = 3\n",
    "\n",
    "# predictions array\n",
    "predicts = [predictions_knn, predictions_nmf, predictions_mf]\n",
    "\n",
    "#labels for legend\n",
    "labels = ['KNN', 'NNMF', 'MF with bias']\n",
    "\n",
    "plt.figure()\n",
    "\n",
    "for p in predicts:\n",
    "    true_bin = [1 if pred.r_ui >= threshold else 0 for pred in p]\n",
    "    scores = [pred.est for pred in p]\n",
    "    \n",
    "    \n",
    "    fpr, tpr, thr = roc_curve(true_bin, scores)\n",
    "    plt.plot(fpr, tpr)\n",
    "#     plt.text(0.5, 0.1, 'area under curve = %0.4f' % roc_auc_score(true_bin, scores))\n",
    "#     plt.text(0.5, 0.2, 'threshold = {}'.format(t))\n",
    "    plt.xlabel('false positive rate')\n",
    "    plt.ylabel('true positive rate')\n",
    "    plt.legend(labels)\n",
    "    "
   ]
  },
  {
   "cell_type": "markdown",
   "metadata": {},
   "source": [
    "## Question 36"
   ]
  },
  {
   "cell_type": "code",
   "execution_count": 177,
   "metadata": {
    "collapsed": true
   },
   "outputs": [],
   "source": [
    "def ranking_predictions(predictions, k):\n",
    "    \n",
    "    # we need to use the threshold 3 for obtaining G set.\n",
    "    threshold = 3\n",
    "    \n",
    "    precisions = {}\n",
    "    recalls = {}\n",
    "    \n",
    "    ground_truth_user = defaultdict(list)\n",
    "    \n",
    "    #predictions for each user\n",
    "    for uid, _, true_r, est, _ in predictions:\n",
    "        ground_truth_user[uid].append((est, true_r))\n",
    "\n",
    "    \n",
    "    for uid, user_ratings in ground_truth_user.items():\n",
    "        # Dropping users who have rated less than t items\n",
    "        if len(user_ratings) < k:\n",
    "            continue\n",
    "    \n",
    "        # sorting the dict in descending order\n",
    "        user_ratings.sort(key=lambda x: x[0], reverse=True)\n",
    "\n",
    "        # Number of relevant items\n",
    "        n_rel = sum((true_r >= threshold) for (_, true_r) in user_ratings)\n",
    "        # dropping users who have |G| = 0\n",
    "        if n_rel is 0:\n",
    "            continue\n",
    "        \n",
    "        # Number of recommended items in top k\n",
    "        n_rec_k = sum((est >= threshold) for (est, _) in user_ratings[:k])\n",
    "\n",
    "        # Number of relevant and recommended items in top k\n",
    "        n_rel_and_rec_k = sum(((true_r >= threshold) and (est >= threshold))\n",
    "                              for (est, true_r) in user_ratings[:k])\n",
    "\n",
    "        # Precision@K: Proportion of recommended items that are relevant\n",
    "        precisions[uid] = n_rel_and_rec_k / n_rec_k if n_rec_k != 0 else 1\n",
    "\n",
    "        # Recall@K: Proportion of relevant items that are recommended\n",
    "        recalls[uid] = n_rel_and_rec_k / n_rel if n_rel != 0 else 1\n",
    "    \n",
    "    # return the average values\n",
    "    return np.mean(list(precisions.values())), np.mean(list(recalls.values()))"
   ]
  },
  {
   "cell_type": "code",
   "execution_count": 178,
   "metadata": {
    "collapsed": true
   },
   "outputs": [],
   "source": [
    "t_list = np.arange(1, 26, 1) # list to store size of items"
   ]
  },
  {
   "cell_type": "code",
   "execution_count": 179,
   "metadata": {
    "collapsed": false,
    "scrolled": false
   },
   "outputs": [
    {
     "name": "stdout",
     "output_type": "stream",
     "text": [
      "Execution Started\n",
      "Program executed succefully\n",
      "Total time elapsed: 277.79098200798035\n"
     ]
    }
   ],
   "source": [
    "# KNN\n",
    "\n",
    "avg_precisions_knn = []\n",
    "avg_recalls_knn = []\n",
    "\n",
    "num_folds = 10\n",
    "\n",
    "start_time = time.time()\n",
    "\n",
    "print(\"Execution Started\")\n",
    "for t in t_list:\n",
    "    total_precisions = 0\n",
    "    total_recalls = 0\n",
    "    \n",
    "    knn = KNNWithMeans(k=21, min_k=1, sim_options={'name': 'pearson', 'user_based': True}, verbose=False)\n",
    "    kf = KFold(n_splits=num_folds)\n",
    "    rmse_per_fold = []\n",
    "    for trainset, testset in kf.split(rating_dataset):\n",
    "        pop_testset = get_popular(testset)\n",
    "        knn.fit(trainset)\n",
    "        predictions = knn.test(pop_testset)\n",
    "        precisions_avg, recalls_avg = ranking_predictions(predictions, k=t)\n",
    "        total_precisions = total_precisions + precisions_avg\n",
    "        total_recalls = total_recalls + recalls_avg\n",
    "   \n",
    "    avg_precisions_knn.append(total_precisions/num_folds)\n",
    "    avg_recalls_knn.append(total_recalls/num_folds)\n",
    "\n",
    "print(\"Program executed succefully\")\n",
    "print(\"Total time elapsed: {}\".format(time.time() - start_time))"
   ]
  },
  {
   "cell_type": "code",
   "execution_count": 171,
   "metadata": {
    "collapsed": false
   },
   "outputs": [
    {
     "data": {
      "image/png": "[encoded data removed]",
      "text/plain": [
       "<Figure size 432x288 with 1 Axes>"
      ]
     },
     "metadata": {
      "needs_background": "light"
     },
     "output_type": "display_data"
    },
    {
     "data": {
      "image/png": "[encoded data removed]",
      "text/plain": [
       "<Figure size 432x288 with 1 Axes>"
      ]
     },
     "metadata": {
      "needs_background": "light"
     },
     "output_type": "display_data"
    },
    {
     "data": {
      "image/png": "[encoded data removed]",
      "text/plain": [
       "<Figure size 432x288 with 1 Axes>"
      ]
     },
     "metadata": {
      "needs_background": "light"
     },
     "output_type": "display_data"
    }
   ],
   "source": [
    "plt.figure()\n",
    "plt.plot(t_list, avg_precisions_knn)\n",
    "plt.title(\"Average Precision vs t\")\n",
    "plt.ylabel(\"Average Precision\")\n",
    "plt.xlabel(\"t\")\n",
    "plt.show()\n",
    "\n",
    "plt.figure()\n",
    "plt.plot(t_list, avg_recalls_knn)\n",
    "plt.title(\"Average Recalls vs t\")\n",
    "plt.ylabel(\"Average Recalls\")\n",
    "plt.xlabel(\"t\")\n",
    "plt.show()\n",
    "\n",
    "plt.figure()\n",
    "plt.plot(avg_recalls_knn, avg_precisions_knn)\n",
    "plt.title(\"Average Precision vs. Average Recall\")\n",
    "plt.ylabel(\"Average Precision\")\n",
    "plt.xlabel(\"Average Recall\")\n",
    "plt.show()"
   ]
  },
  {
   "cell_type": "markdown",
   "metadata": {},
   "source": [
    "## Question 37"
   ]
  },
  {
   "cell_type": "code",
   "execution_count": 167,
   "metadata": {
    "collapsed": false
   },
   "outputs": [
    {
     "name": "stdout",
     "output_type": "stream",
     "text": [
      "Execution Started\n",
      "Program executed succefully\n",
      "Total time elapsed: 1568.1056320667267\n"
     ]
    }
   ],
   "source": [
    "# NNMF\n",
    "\n",
    "avg_precisions_nnmf = []\n",
    "avg_recalls_nnmf = []\n",
    "\n",
    "num_folds = 10\n",
    "\n",
    "start_time = time.time()\n",
    "\n",
    "print(\"Execution Started\")\n",
    "for t in t_list:\n",
    "    total_precisions = 0\n",
    "    total_recalls = 0\n",
    "    \n",
    "    nmf = NMF(n_factors=16)\n",
    "    kf = KFold(n_splits=num_folds)\n",
    "    for trainset, testset in kf.split(rating_dataset):\n",
    "        pop_testset = get_popular(testset)\n",
    "        nmf.fit(trainset)\n",
    "        predictions = nmf.test(pop_testset)\n",
    "        precisions_avg, recalls_avg = ranking_predictions(predictions, k=t)\n",
    "        total_precisions = total_precisions + precisions_avg\n",
    "        total_recalls = total_recalls + recalls_avg\n",
    "   \n",
    "    avg_precisions_nnmf.append(total_precisions/num_folds)\n",
    "    avg_recalls_nnmf.append(total_recalls/num_folds)\n",
    "\n",
    "print(\"Program executed succefully\")\n",
    "print(\"Total time elapsed: {}\".format(time.time() - start_time))"
   ]
  },
  {
   "cell_type": "code",
   "execution_count": 168,
   "metadata": {
    "collapsed": false
   },
   "outputs": [
    {
     "data": {
      "image/png": "[encoded data removed]",
      "text/plain": [
       "<Figure size 432x288 with 1 Axes>"
      ]
     },
     "metadata": {
      "needs_background": "light"
     },
     "output_type": "display_data"
    },
    {
     "data": {
      "image/png": "[encoded data removed]",
      "text/plain": [
       "<Figure size 432x288 with 1 Axes>"
      ]
     },
     "metadata": {
      "needs_background": "light"
     },
     "output_type": "display_data"
    },
    {
     "data": {
      "image/png": "[encoded data removed]",
      "text/plain": [
       "<Figure size 432x288 with 1 Axes>"
      ]
     },
     "metadata": {
      "needs_background": "light"
     },
     "output_type": "display_data"
    }
   ],
   "source": [
    "plt.figure()\n",
    "plt.plot(t_list, avg_precisions_nnmf)\n",
    "plt.title(\"Average Precision vs t\")\n",
    "plt.ylabel(\"Average Precision\")\n",
    "plt.xlabel(\"t\")\n",
    "plt.show()\n",
    "\n",
    "plt.figure()\n",
    "plt.plot(t_list, avg_recalls_nnmf)\n",
    "plt.title(\"Average Recalls vs t\")\n",
    "plt.ylabel(\"Average Recalls\")\n",
    "plt.xlabel(\"t\")\n",
    "plt.show()\n",
    "\n",
    "plt.figure()\n",
    "plt.plot(avg_recalls_nnmf, avg_precisions_nnmf)\n",
    "plt.title(\"Average Precision vs. Average Recall\")\n",
    "plt.ylabel(\"Average Precision\")\n",
    "plt.xlabel(\"Average Recall\")\n",
    "plt.show()"
   ]
  },
  {
   "cell_type": "markdown",
   "metadata": {},
   "source": [
    "## Question 38"
   ]
  },
  {
   "cell_type": "code",
   "execution_count": 165,
   "metadata": {
    "collapsed": false
   },
   "outputs": [
    {
     "name": "stdout",
     "output_type": "stream",
     "text": [
      "Execution Started\n",
      "Program executed succefully\n",
      "Total time elapsed: 650.4420170783997\n"
     ]
    }
   ],
   "source": [
    "# KNN\n",
    "\n",
    "avg_precisions_mf = []\n",
    "avg_recalls_mf = []\n",
    "\n",
    "num_folds = 10\n",
    "\n",
    "start_time = time.time()\n",
    "\n",
    "print(\"Execution Started\")\n",
    "for t in t_list:\n",
    "    total_precisions = 0\n",
    "    total_recalls = 0\n",
    "    \n",
    "    svd = SVD(n_factors=best_k_MF_bias)\n",
    "    kf = KFold(n_splits=num_folds)\n",
    "    rmse_per_fold = []\n",
    "    for trainset, testset in kf.split(rating_dataset):\n",
    "        pop_testset = get_popular(testset)\n",
    "        svd.fit(trainset)\n",
    "        predictions = svd.test(pop_testset)\n",
    "        precisions_avg, recalls_avg = ranking_predictions(predictions, k=t)\n",
    "        total_precisions = total_precisions + precisions_avg\n",
    "        total_recalls = total_recalls + recalls_avg\n",
    "   \n",
    "    avg_precisions_mf.append(total_precisions/num_folds)\n",
    "    avg_recalls_mf.append(total_recalls/num_folds)\n",
    "\n",
    "print(\"Program executed succefully\")\n",
    "print(\"Total time elapsed: {}\".format(time.time() - start_time))"
   ]
  },
  {
   "cell_type": "code",
   "execution_count": 166,
   "metadata": {
    "collapsed": false
   },
   "outputs": [
    {
     "data": {
      "image/png": "[encoded data removed]",
      "text/plain": [
       "<Figure size 432x288 with 1 Axes>"
      ]
     },
     "metadata": {
      "needs_background": "light"
     },
     "output_type": "display_data"
    },
    {
     "data": {
      "image/png": "[encoded data removed]",
      "text/plain": [
       "<Figure size 432x288 with 1 Axes>"
      ]
     },
     "metadata": {
      "needs_background": "light"
     },
     "output_type": "display_data"
    },
    {
     "data": {
      "image/png": "[encoded data removed]",
      "text/plain": [
       "<Figure size 432x288 with 1 Axes>"
      ]
     },
     "metadata": {
      "needs_background": "light"
     },
     "output_type": "display_data"
    }
   ],
   "source": [
    "plt.figure()\n",
    "plt.plot(t_list, avg_precisions_mf)\n",
    "plt.title(\"Average Precision vs t\")\n",
    "plt.ylabel(\"Average Precision\")\n",
    "plt.xlabel(\"t\")\n",
    "plt.show()\n",
    "\n",
    "plt.figure()\n",
    "plt.plot(t_list, avg_recalls_mf)\n",
    "plt.title(\"Average Recalls vs t\")\n",
    "plt.ylabel(\"Average Recalls\")\n",
    "plt.xlabel(\"t\")\n",
    "plt.show()\n",
    "\n",
    "plt.figure()\n",
    "plt.plot(avg_recalls_mf, avg_precisions_mf)\n",
    "plt.title(\"Average Precision vs. Average Recall\")\n",
    "plt.ylabel(\"Average Precision\")\n",
    "plt.xlabel(\"Average Recall\")\n",
    "plt.show()"
   ]
  },
  {
   "cell_type": "markdown",
   "metadata": {},
   "source": [
    "## Question 39"
   ]
  },
  {
   "cell_type": "code",
   "execution_count": 173,
   "metadata": {
    "collapsed": false
   },
   "outputs": [
    {
     "data": {
      "image/png": "[encoded data removed]",
      "text/plain": [
       "<Figure size 432x288 with 1 Axes>"
      ]
     },
     "metadata": {
      "needs_background": "light"
     },
     "output_type": "display_data"
    }
   ],
   "source": [
    "labels = ['KNN', 'NNMF', 'MF with bias']\n",
    "\n",
    "plt.figure()\n",
    "\n",
    "# KNN\n",
    "plt.plot(avg_recalls_knn, avg_precisions_knn)\n",
    "\n",
    "#NNMF\n",
    "plt.plot(avg_recalls_nnmf, avg_precisions_nnmf)\n",
    "\n",
    "#MF with bias\n",
    "plt.plot(avg_recalls_mf, avg_precisions_mf)\n",
    "\n",
    "plt.xlabel('Average Recall')\n",
    "plt.ylabel('Average Precision')\n",
    "plt.title('Average Precision vs. Average Recall')\n",
    "plt.legend(labels)\n",
    "\n",
    "plt.show()"
   ]
  },
  {
   "cell_type": "code",
   "execution_count": null,
   "metadata": {
    "collapsed": true
   },
   "outputs": [],
   "source": []
  }
 ],
 "metadata": {
  "anaconda-cloud": {},
  "kernelspec": {
   "display_name": "Python [anaconda]",
   "language": "python",
   "name": "Python [anaconda]"
  },
  "language_info": {
   "codemirror_mode": {
    "name": "ipython",
    "version": 3
   },
   "file_extension": ".py",
   "mimetype": "text/x-python",
   "name": "python",
   "nbconvert_exporter": "python",
   "pygments_lexer": "ipython3",
   "version": "3.5.2"
  }
 },
 "nbformat": 4,
 "nbformat_minor": 1
}
