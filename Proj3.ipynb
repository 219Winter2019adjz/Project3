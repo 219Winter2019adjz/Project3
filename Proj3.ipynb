{
 "cells": [
  {
   "cell_type": "code",
   "execution_count": 1,
   "metadata": {
    "collapsed": true
   },
   "outputs": [],
   "source": [
    "import numpy as np\n",
    "import matplotlib.pyplot as plt\n",
    "%matplotlib inline\n",
    "import pandas as pd"
   ]
  },
  {
   "cell_type": "markdown",
   "metadata": {},
   "source": [
    "#### Importing the dataset\n",
    "\n",
    "rating_dataset is the Surprise dataset that can be used when analyzing the full dataset.\n",
    "<br>\n",
    "rating_matrix is the numpy array that has columns: userId, movieId, rating, timestamp"
   ]
  },
  {
   "cell_type": "code",
   "execution_count": 2,
   "metadata": {
    "collapsed": true
   },
   "outputs": [],
   "source": [
    "from surprise import Reader, Dataset"
   ]
  },
  {
   "cell_type": "code",
   "execution_count": 3,
   "metadata": {
    "collapsed": true
   },
   "outputs": [],
   "source": [
    "# Read data set using pandas and surprise. Data is stored in rating_dataset\n",
    "\n",
    "df=pd.read_csv('ml-latest-small/ratings.csv')\n",
    "# reader = Reader(rating_scale=(1,5))\n",
    "reader = Reader(line_format='user item rating timestamp', sep=',', rating_scale=(0.5, 5), skip_lines=1)\n",
    "\n",
    "rating_dataset = Dataset.load_from_df(df[['userId', 'movieId', 'rating']], reader)\n",
    "rating_matrix = df.values\n",
    "\n",
    "# Get the all ratings for each movie. Key is movie ID, value of an array of ratings.\n",
    "ratings_by_movie_id = {}\n",
    "for row in rating_dataset.raw_ratings:\n",
    "    if row[1] not in ratings_by_movie_id:\n",
    "        ratings_by_movie_id[row[1]] = []\n",
    "    ratings_by_movie_id[row[1]].append(row[2])\n",
    "\n",
    "# Count number of users and movies.\n",
    "num_users = np.size(np.unique(rating_matrix[:,0]))\n",
    "num_movies = np.size(np.unique(rating_matrix[:,1]))"
   ]
  },
  {
   "cell_type": "markdown",
   "metadata": {},
   "source": [
    "##### Build R Matrix"
   ]
  },
  {
   "cell_type": "code",
   "execution_count": 4,
   "metadata": {},
   "outputs": [
    {
     "name": "stdout",
     "output_type": "stream",
     "text": [
      "[[4.  4.  4.  ... 0.  0.  0. ]\n",
      " [0.  0.  0.  ... 0.  0.  0. ]\n",
      " [0.  0.  0.  ... 0.  0.  0. ]\n",
      " ...\n",
      " [2.5 2.  0.  ... 0.  0.  0. ]\n",
      " [3.  0.  0.  ... 0.  0.  0. ]\n",
      " [5.  0.  5.  ... 3.  3.5 3.5]]\n"
     ]
    }
   ],
   "source": [
    "R = np.zeros([num_users, num_movies])\n",
    "\n",
    "ratings = np.genfromtxt('ml-latest-small/ratings.csv', delimiter=',')\n",
    "ratings = np.delete(ratings, (0), axis=0) # Remove column title row\n",
    "ratings = np.delete(ratings, (3), axis=1) # Remove time stamp column\n",
    "\n",
    "# Create a dictionary where the key is the movie id and the value is the location in data\n",
    "\n",
    "movie_ids = {}\n",
    "counter = 0\n",
    "for rating in ratings:\n",
    "    if rating[1] not in movie_ids.keys():\n",
    "        movie_ids[rating[1]] = counter\n",
    "        counter += 1\n",
    "        \n",
    "# Put ratings into a matrix of size num_users x num_movies. \n",
    "# To get the rating of a user for a specific movie, do data[userId - 1, movie_ids[movieId]]\n",
    "\n",
    "for rating in ratings:\n",
    "    user = int(rating[0]) - 1\n",
    "    movie = int(movie_ids[rating[1]])\n",
    "    R[user, movie] = rating[2]\n",
    "    \n",
    "print(R)"
   ]
  },
  {
   "cell_type": "markdown",
   "metadata": {},
   "source": [
    "#### Question 1"
   ]
  },
  {
   "cell_type": "code",
   "execution_count": 5,
   "metadata": {},
   "outputs": [
    {
     "name": "stdout",
     "output_type": "stream",
     "text": [
      "Sparsity = 0.016999683055613623\n"
     ]
    }
   ],
   "source": [
    "# Calculate sparsity, defined as: (total number of available ratings) / (total number of possible ratings)\n",
    "\n",
    "num_available_ratings = np.size(rating_matrix[:,0])\n",
    "num_possible_ratings = num_users*num_movies\n",
    "\n",
    "sparsity = num_available_ratings / num_possible_ratings\n",
    "\n",
    "print('Sparsity = {}'.format(sparsity))"
   ]
  },
  {
   "cell_type": "markdown",
   "metadata": {},
   "source": [
    "#### Question 2"
   ]
  },
  {
   "cell_type": "code",
   "execution_count": 6,
   "metadata": {},
   "outputs": [
    {
     "data": {
      "image/png": "[encoded data removed]",
      "text/plain": [
       "<matplotlib.figure.Figure at 0x10a872780>"
      ]
     },
     "metadata": {},
     "output_type": "display_data"
    }
   ],
   "source": [
    "# Plot a histogram showing the frequency of rating values\n",
    "\n",
    "ratings = rating_matrix[:,2]\n",
    "plt.figure()\n",
    "# plt.hist(ratings, 10)\n",
    "plt.hist(ratings, np.arange(0.5, 6, 0.5))\n",
    "plt.title('Frequency of rating values')\n",
    "plt.xlabel('Rating')\n",
    "plt.ylabel('Number of ratings')\n",
    "plt.xticks(np.arange(0.75, 5.75, 0.5), np.arange(0.5, 5.5, 0.5))\n",
    "plt.show()"
   ]
  },
  {
   "cell_type": "markdown",
   "metadata": {},
   "source": [
    "#### Question 3"
   ]
  },
  {
   "cell_type": "code",
   "execution_count": 7,
   "metadata": {},
   "outputs": [
    {
     "data": {
      "image/png": "[encoded data removed]",
      "text/plain": [
       "<matplotlib.figure.Figure at 0x1079d7518>"
      ]
     },
     "metadata": {},
     "output_type": "display_data"
    }
   ],
   "source": [
    "# Distribution of number of ratings received per movie.\n",
    "\n",
    "movies = rating_matrix[:,1]\n",
    "movie_id, counts = np.unique(movies, return_counts=True)\n",
    "counts_sorted = np.sort(counts)[::-1]\n",
    "\n",
    "plt.figure()\n",
    "plt.plot(counts_sorted)\n",
    "plt.title('Number of ratings per movie, sorted')\n",
    "plt.xlabel('Movie')\n",
    "plt.ylabel('Number of ratings')\n",
    "plt.show()"
   ]
  },
  {
   "cell_type": "markdown",
   "metadata": {},
   "source": [
    "#### Question 4"
   ]
  },
  {
   "cell_type": "code",
   "execution_count": 8,
   "metadata": {},
   "outputs": [
    {
     "data": {
      "image/png": "[encoded data removed]",
      "text/plain": [
       "<matplotlib.figure.Figure at 0x111bad550>"
      ]
     },
     "metadata": {},
     "output_type": "display_data"
    }
   ],
   "source": [
    "# Distribution of number of ratings given per user\n",
    "\n",
    "users = rating_matrix[:,0]\n",
    "user_id, counts = np.unique(users, return_counts=True)\n",
    "counts_sorted = np.sort(counts)[::-1]\n",
    "\n",
    "plt.figure()\n",
    "plt.plot(counts_sorted)\n",
    "plt.title('Number of ratings per user, sorted')\n",
    "plt.xlabel('Movie')\n",
    "plt.ylabel('Number of ratings')\n",
    "plt.show()"
   ]
  },
  {
   "cell_type": "markdown",
   "metadata": {},
   "source": [
    "#### Question 6"
   ]
  },
  {
   "cell_type": "code",
   "execution_count": 9,
   "metadata": {},
   "outputs": [
    {
     "data": {
      "image/png": "[encoded data removed]",
      "text/plain": [
       "<matplotlib.figure.Figure at 0x112bab3c8>"
      ]
     },
     "metadata": {},
     "output_type": "display_data"
    }
   ],
   "source": [
    "# Histogram of variance in ratings per movie\n",
    "\n",
    "var_by_movie_id = {}\n",
    "for key in ratings_by_movie_id.keys():\n",
    "    var_by_movie_id[key] = np.var(ratings_by_movie_id[key])\n",
    "    \n",
    "variances = list(var_by_movie_id.values())\n",
    "\n",
    "plt.figure()\n",
    "plt.hist(variances)\n",
    "plt.title('Number of movies per variance')\n",
    "plt.xlabel('Variance')\n",
    "plt.ylabel('Number of movies')\n",
    "plt.show()"
   ]
  },
  {
   "cell_type": "markdown",
   "metadata": {},
   "source": [
    "#### Trimming the dataset\n",
    "\n",
    "The trimmed data set is in a format the Surprise can take as input.\n",
    "\n",
    "##### Variable names:\n",
    "Popular movie dataset: rating_popular_dataset \n",
    "<br>\n",
    "Unpopular movie dataset: rating_unpopular_dataset\n",
    "<br>\n",
    "High variance movie dataset: rating_highvar_dataset"
   ]
  },
  {
   "cell_type": "code",
   "execution_count": 10,
   "metadata": {
    "collapsed": true
   },
   "outputs": [],
   "source": [
    "# # Get the movie ids that are being kept in each trimming. \n",
    "\n",
    "# ratings_by_movie_id = {}\n",
    "# for row in rating_dataset.raw_ratings:\n",
    "#     if row[1] not in ratings_by_movie_id:\n",
    "#         ratings_by_movie_id[row[1]] = []\n",
    "#     ratings_by_movie_id[row[1]].append(row[2])\n",
    "\n",
    "# var_by_movie_id = {}\n",
    "# for key in ratings_by_movie_id.keys():\n",
    "#     var_by_movie_id[key] = np.var(ratings_by_movie_id[key])\n",
    "    \n",
    "# pop_movie_ids = [k for k in ratings_by_movie_id if len(ratings_by_movie_id[k]) > 2]\n",
    "# unpop_movie_ids = [k for k in ratings_by_movie_id if len(ratings_by_movie_id[k]) <= 2]\n",
    "# highvar_movie_ids = [k for k in var_by_movie_id if var_by_movie_id[k] >= 2 and len(ratings_by_movie_id[k]) >= 5]"
   ]
  },
  {
   "cell_type": "code",
   "execution_count": 11,
   "metadata": {
    "collapsed": true
   },
   "outputs": [],
   "source": [
    "# # Make a new dataframe for each trimmed set.\n",
    "\n",
    "# df = pd.read_csv('ml-latest-small/ratings.csv')\n",
    "# df_popular = df[df['movieId'].isin(pop_movie_ids)]\n",
    "# df = pd.read_csv('ml-latest-small/ratings.csv')\n",
    "# df_unpopular = df[df['movieId'].isin(unpop_movie_ids)]\n",
    "# df = pd.read_csv('ml-latest-small/ratings.csv')\n",
    "# df_highvar = df[df['movieId'].isin(highvar_movie_ids)]"
   ]
  },
  {
   "cell_type": "code",
   "execution_count": 12,
   "metadata": {
    "collapsed": true
   },
   "outputs": [],
   "source": [
    "# # Make a new surprise Dataset for each trimmed set.\n",
    "\n",
    "# rating_popular_dataset = Dataset.load_from_df(df_popular[['userId', 'movieId', 'rating']], reader)\n",
    "# rating_unpopular_dataset = Dataset.load_from_df(df_unpopular[['userId', 'movieId', 'rating']], reader)\n",
    "# rating_highvar_dataset = Dataset.load_from_df(df_highvar[['userId', 'movieId', 'rating']], reader)"
   ]
  },
  {
   "cell_type": "code",
   "execution_count": 13,
   "metadata": {
    "collapsed": true
   },
   "outputs": [],
   "source": [
    "def get_popular(testset):\n",
    "    ratings_by_movie_id = {}\n",
    "    for row in testset:\n",
    "        if row[1] not in ratings_by_movie_id:\n",
    "            ratings_by_movie_id[row[1]] = []\n",
    "        ratings_by_movie_id[row[1]].append(row[2])\n",
    "    testset_pop = [k for k in testset if len(ratings_by_movie_id[k[1]]) > 2]\n",
    "    return testset_pop"
   ]
  },
  {
   "cell_type": "code",
   "execution_count": 14,
   "metadata": {
    "collapsed": true
   },
   "outputs": [],
   "source": [
    "def get_unpopular(testset):\n",
    "    ratings_by_movie_id = {}\n",
    "    for row in testset:\n",
    "        if row[1] not in ratings_by_movie_id:\n",
    "            ratings_by_movie_id[row[1]] = []\n",
    "        ratings_by_movie_id[row[1]].append(row[2])\n",
    "    testset_unpop = [k for k in testset if len(ratings_by_movie_id[k[1]]) <= 2]\n",
    "    return testset_unpop"
   ]
  },
  {
   "cell_type": "code",
   "execution_count": 15,
   "metadata": {
    "collapsed": true
   },
   "outputs": [],
   "source": [
    "def get_highvar(testset):\n",
    "    ratings_by_movie_id = {}\n",
    "    for row in testset:\n",
    "        if row[1] not in ratings_by_movie_id:\n",
    "            ratings_by_movie_id[row[1]] = []\n",
    "        ratings_by_movie_id[row[1]].append(row[2])\n",
    "    var_by_movie_id = {}\n",
    "    for key in ratings_by_movie_id.keys():\n",
    "        var_by_movie_id[key] = np.var(ratings_by_movie_id[key])\n",
    "    testset_highvar = [k for k in testset if len(ratings_by_movie_id[k[1]]) >= 5 and var_by_movie_id[k[1]] >= 2]\n",
    "    return testset_highvar"
   ]
  },
  {
   "cell_type": "markdown",
   "metadata": {},
   "source": [
    "##### ~ Global functions ~"
   ]
  },
  {
   "cell_type": "code",
   "execution_count": 16,
   "metadata": {
    "collapsed": true
   },
   "outputs": [],
   "source": [
    "from sklearn.metrics import mean_squared_error, mean_absolute_error\n",
    "from math import sqrt\n",
    "\n",
    "def custom_crossval(X_train, y_train, model, num_folds=10, metrics=['RMSE', 'MAE', 'accuracy'],\n",
    "                    randomize=True, include_inds=False):\n",
    "    '''\n",
    "    Requires a model that has the following functions:\n",
    "        model.fit(X, y): fits the model on a particular set of X/y\n",
    "        model.predict(X): predicts y given an input of X\n",
    "    '''\n",
    "    X_train_folds = []\n",
    "    y_train_folds =  []\n",
    "    X_val_folds = []\n",
    "    y_val_folds = []\n",
    "    \n",
    "    # necessary for some models (Naive)\n",
    "    train_inds = []\n",
    "    val_inds = []\n",
    "    \n",
    "    # initialize cumulative errors object\n",
    "    cumulative_metrics = {}\n",
    "    for met in metrics:\n",
    "        cumulative_metrics[met] = 0\n",
    "    \n",
    "    k = num_folds\n",
    "    \n",
    "    ##############################################################################\n",
    "    # 1. Divide dataset into training and validation folds\n",
    "    idx = np.arange(X_train.shape[0])\n",
    "    fold_size = X_train.shape[0] // num_folds\n",
    "    \n",
    "    # randomize indices\n",
    "    if randomize:\n",
    "        np.random.shuffle(idx)\n",
    "\n",
    "    for i in range(num_folds):\n",
    "        test_idx = idx[i*fold_size:(i+1)*fold_size]\n",
    "        train_idx = np.concatenate((idx[:i*fold_size:], idx[(i+1)*fold_size:]))\n",
    "\n",
    "        X_train_folds.append(X_train[train_idx])\n",
    "        y_train_folds.append(y_train[train_idx])\n",
    "\n",
    "        X_val_folds.append(X_train[test_idx])\n",
    "        y_val_folds.append(y_train[test_idx])\n",
    "        \n",
    "        train_inds.append(train_idx)\n",
    "        val_inds.append(test_idx)\n",
    "        \n",
    "    ##############################################################################\n",
    "    # 2. Train on train set, test on validation set, calculate errors\n",
    "    for i in range(len(X_train_folds)):\n",
    "        # train model on the train folds (k-1 folds):\n",
    "        model.fit(X_train_folds[i], y_train_folds[i])\n",
    "\n",
    "        # measure error of test predictions\n",
    "        if include_inds:\n",
    "            y_pred = model.predict(X_val_folds[i], inds=val_inds[i])\n",
    "        else:\n",
    "            y_pred = model.predict(X_val_folds[i])\n",
    "        \n",
    "        # calculate errors:\n",
    "        y_actual = y_val_folds[i]\n",
    "        for met in metrics:\n",
    "            if met == 'RMSE':\n",
    "                rms = sqrt(mean_squared_error(y_actual, y_pred))\n",
    "                cumulative_metrics[met] += rms\n",
    "            elif met == 'MAE':\n",
    "                mae = mean_absolute_error(y_actual, y_pred)\n",
    "                cumulative_metrics[met] += mae\n",
    "            elif met == 'accuracy':\n",
    "                num_correct = np.sum(y_pred == y_actual)\n",
    "                cumulative_metrics[met] += num_correct / y_val_folds[i].shape[0]\n",
    "            else:\n",
    "                raise Exception(\"Error: requested error ('{}') is not incoporated into this function yet.\".format(met))\n",
    "    \n",
    "    ##############################################################################\n",
    "    # 3. Average and return metrics object\n",
    "    for met in metrics:\n",
    "        cumulative_metrics[met] = cumulative_metrics[met] / len(X_train_folds)\n",
    "    return cumulative_metrics"
   ]
  },
  {
   "cell_type": "markdown",
   "metadata": {},
   "source": [
    "#### Trimming the data set"
   ]
  },
  {
   "cell_type": "code",
   "execution_count": 17,
   "metadata": {
    "collapsed": true
   },
   "outputs": [],
   "source": [
    "# # Popular movie trimming\n",
    "\n",
    "# nz_movie = np.count_nonzero(data, axis=0)\n",
    "# unpop_movies = []\n",
    "# for i in range(len(nz_movie)):\n",
    "#     if nz_movie[i] <= 2:\n",
    "#         unpop_movies.append(i)\n",
    "\n",
    "# data_popular = np.delete(data, unpop_movies, axis=1)\n",
    "# # print(np.unique(np.count_nonzero(data_popular, axis=0)))\n",
    "# # print(data_popular)"
   ]
  },
  {
   "cell_type": "code",
   "execution_count": 18,
   "metadata": {
    "collapsed": true
   },
   "outputs": [],
   "source": [
    "# # Unpopular movie trimming\n",
    "\n",
    "# nz_movie = np.count_nonzero(data, axis=0)\n",
    "# pop_movies = []\n",
    "# for i in range(len(nz_movie)):\n",
    "#     if nz_movie[i] > 2:\n",
    "#         pop_movies.append(i)\n",
    "        \n",
    "# data_unpopular = np.delete(data, pop_movies, axis=1)\n",
    "# # print(np.unique(np.count_nonzero(data_unpopular, axis=0)))"
   ]
  },
  {
   "cell_type": "code",
   "execution_count": 19,
   "metadata": {
    "collapsed": true
   },
   "outputs": [],
   "source": [
    "# # High variance movie trimming\n",
    "\n",
    "# nz_movie = np.count_nonzero(data, axis=0)\n",
    "# movies_less5 = []\n",
    "# for i in range(len(nz_movie)):\n",
    "#     if nz_movie[i] < 5:\n",
    "#         movies_less5.append(i)\n",
    "\n",
    "# data_more5 = np.delete(data, movies_less5, axis=1)\n",
    "\n",
    "# variances = np.zeros(np.shape(data_more5)[1])\n",
    "# for i in range(np.shape(data_more5)[1]):\n",
    "#     variances[i] = np.var(data_more5[:, i])\n",
    "\n",
    "# lowvar_movies = []\n",
    "# for i in range(np.shape(data_more5)[1]):\n",
    "#     if variances[i] < 2:\n",
    "#         lowvar_movies.append(i)\n",
    "# data_highvar = np.delete(data_more5, lowvar_movies, axis=1)\n",
    "\n",
    "# # print(data_highvar.shape)\n",
    "# # print(np.var(data_highvar[:,13]))"
   ]
  },
  {
   "cell_type": "markdown",
   "metadata": {
    "collapsed": true
   },
   "source": [
    "## Question 10"
   ]
  },
  {
   "cell_type": "code",
   "execution_count": 23,
   "metadata": {
    "collapsed": true
   },
   "outputs": [],
   "source": [
    "from surprise import KNNBasic, KNNWithMeans\n",
    "from surprise import evaluate\n",
    "from surprise.model_selection import cross_validate\n",
    "from surprise.model_selection import KFold\n",
    "from surprise import accuracy"
   ]
  },
  {
   "cell_type": "code",
   "execution_count": 24,
   "metadata": {
    "collapsed": true
   },
   "outputs": [],
   "source": [
    "ks = np.arange(2, 101, 2)"
   ]
  },
  {
   "cell_type": "code",
   "execution_count": 30,
   "metadata": {},
   "outputs": [
    {
     "name": "stdout",
     "output_type": "stream",
     "text": [
      "k = 2\n",
      "1.0184784886072071\n",
      "0.7867389335117865\n",
      " \n",
      "k = 4\n",
      "0.9443883337834829\n",
      "0.7253886747503475\n",
      " \n",
      "k = 6\n",
      "0.9197742801056188\n",
      "0.7043214062830897\n",
      " \n",
      "k = 8\n",
      "0.9078206665733918\n",
      "0.6943246972896198\n",
      " \n",
      "k = 10\n",
      "0.9020262958939986\n",
      "0.6887616180874275\n",
      " \n",
      "k = 12\n",
      "0.8981403393599171\n",
      "0.6855244335015311\n",
      " \n",
      "k = 14\n",
      "0.8944811642435339\n",
      "0.682197217082219\n",
      " \n",
      "k = 16\n",
      "0.8944167074922836\n",
      "0.681915668603867\n",
      " \n",
      "k = 18\n",
      "0.8924095647737659\n",
      "0.6801801037732494\n",
      " \n",
      "k = 20\n",
      "0.8907141498147191\n",
      "0.6792390798464457\n",
      " \n",
      "k = 22\n",
      "0.8912884680642504\n",
      "0.6784502114592312\n",
      " \n",
      "k = 24\n",
      "0.8916128571292725\n",
      "0.6790648984647258\n",
      " \n",
      "k = 26\n",
      "0.8902068145707241\n",
      "0.6779558307871815\n",
      " \n",
      "k = 28\n",
      "0.8910417694439076\n",
      "0.6784807436693474\n",
      " \n",
      "k = 30\n",
      "0.889462677102712\n",
      "0.6774271463003507\n",
      " \n",
      "k = 32\n",
      "0.8900515418480672\n",
      "0.6779444105083013\n",
      " \n",
      "k = 34\n",
      "0.8894957080689354\n",
      "0.6774274708154111\n",
      " \n",
      "k = 36\n",
      "0.8887368602935952\n",
      "0.6768147318002083\n",
      " \n",
      "k = 38\n",
      "0.8889100840129112\n",
      "0.6770873207646508\n",
      " \n",
      "k = 40\n",
      "0.8905189712087914\n",
      "0.6779229164805816\n",
      " \n",
      "k = 42\n",
      "0.8893776098561224\n",
      "0.6772350781502129\n",
      " \n",
      "k = 44\n",
      "0.8897639596755491\n",
      "0.6775732103959027\n",
      " \n",
      "k = 46\n",
      "0.8888119590486259\n",
      "0.6766772588151856\n",
      " \n",
      "k = 48\n",
      "0.8898889319150083\n",
      "0.677312700159548\n",
      " \n",
      "k = 50\n",
      "0.8888969804881721\n",
      "0.6769819720908459\n",
      " \n"
     ]
    }
   ],
   "source": [
    "# Analyze full dataset\n",
    "\n",
    "rmse_scores = []\n",
    "mae_scores = []\n",
    "\n",
    "for k in ks:\n",
    "    knn = KNNWithMeans(k=k, min_k=1, sim_options={'name': 'pearson', 'user_based': True}, verbose=False)\n",
    "    result = cross_validate(knn, rating_dataset, measures=['rmse', 'mae'], cv=10)\n",
    "    \n",
    "    rmse = np.mean(result['test_rmse'])\n",
    "    mae = np.mean(result['test_mae'])\n",
    "    \n",
    "    print('k = {}'.format(k))\n",
    "    print(rmse)\n",
    "    print(mae)\n",
    "    print(' ')\n",
    "    \n",
    "    rmse_scores.append(rmse)\n",
    "    mae_scores.append(mae)"
   ]
  },
  {
   "cell_type": "code",
   "execution_count": 31,
   "metadata": {},
   "outputs": [
    {
     "data": {
      "image/png": "[encoded data removed]",
      "text/plain": [
       "<Figure size 432x288 with 1 Axes>"
      ]
     },
     "metadata": {
      "needs_background": "light"
     },
     "output_type": "display_data"
    },
    {
     "data": {
      "image/png": "[encoded data removed]",
      "text/plain": [
       "<Figure size 432x288 with 1 Axes>"
      ]
     },
     "metadata": {
      "needs_background": "light"
     },
     "output_type": "display_data"
    }
   ],
   "source": [
    "plt.figure()\n",
    "plt.plot(ks, rmse_scores)\n",
    "plt.title('RMSE scores vs. k')\n",
    "plt.xlabel('k')\n",
    "plt.ylabel('RMSE scores')\n",
    "plt.show()\n",
    "\n",
    "plt.figure()\n",
    "plt.plot(ks, mae_scores)\n",
    "plt.title('MAE scores vs. k')\n",
    "plt.xlabel('k')\n",
    "plt.ylabel('MAE scores')\n",
    "plt.show()"
   ]
  },
  {
   "cell_type": "markdown",
   "metadata": {},
   "source": [
    "## Question 11"
   ]
  },
  {
   "cell_type": "code",
   "execution_count": 32,
   "metadata": {},
   "outputs": [
    {
     "name": "stdout",
     "output_type": "stream",
     "text": [
      "Best k for RMSE: 36\n",
      "Best k for MAE: 46\n"
     ]
    }
   ],
   "source": [
    "# Finding the minimum k -- I think this has to be done by observing the graph and not through code.\n",
    "print('Best k for RMSE: {}'.format(ks[np.argmin(rmse_scores)]))\n",
    "print('Best k for MAE: {}'.format(ks[np.argmin(mae_scores)]))"
   ]
  },
  {
   "cell_type": "markdown",
   "metadata": {},
   "source": [
    "## Question 12"
   ]
  },
  {
   "cell_type": "code",
   "execution_count": 33,
   "metadata": {},
   "outputs": [
    {
     "name": "stdout",
     "output_type": "stream",
     "text": [
      "k = 2\n",
      "1.0197912491075052\n",
      " \n",
      "k = 4\n",
      "0.9271429076408066\n",
      " \n",
      "k = 6\n",
      "0.9011765767910171\n",
      " \n",
      "k = 8\n",
      "0.8833385270711936\n",
      " \n",
      "k = 10\n",
      "0.8730601270143202\n",
      " \n",
      "k = 12\n",
      "0.8697947629216995\n",
      " \n",
      "k = 14\n",
      "0.8646393724850621\n",
      " \n",
      "k = 16\n",
      "0.8630200194539317\n",
      " \n",
      "k = 18\n",
      "0.860832010859457\n",
      " \n",
      "k = 20\n",
      "0.8603464562980168\n",
      " \n",
      "k = 22\n",
      "0.8573437587316362\n",
      " \n",
      "k = 24\n",
      "0.8586328011955713\n",
      " \n",
      "k = 26\n",
      "0.8585515337838474\n",
      " \n",
      "k = 28\n",
      "0.8570471299138207\n",
      " \n",
      "k = 30\n",
      "0.8562781055076153\n",
      " \n",
      "k = 32\n",
      "0.858042299833951\n",
      " \n",
      "k = 34\n",
      "0.8566583595680886\n",
      " \n",
      "k = 36\n",
      "0.8582389397371617\n",
      " \n",
      "k = 38\n",
      "0.8577831621653553\n",
      " \n",
      "k = 40\n",
      "0.8565188212783811\n",
      " \n",
      "k = 42\n",
      "0.855893290079074\n",
      " \n",
      "k = 44\n",
      "0.8553318523883375\n",
      " \n",
      "k = 46\n",
      "0.8558899681541133\n",
      " \n",
      "k = 48\n",
      "0.8589011576739436\n",
      " \n",
      "k = 50\n",
      "0.854870544584356\n",
      " \n"
     ]
    }
   ],
   "source": [
    "# Analyze popular dataset.\n",
    "\n",
    "rmse_popular_scores = []\n",
    "\n",
    "for k in ks:\n",
    "    knn = KNNWithMeans(k=k, min_k=1, sim_options={'name': 'pearson', 'user_based': True}, verbose=False)\n",
    "    kf = KFold(n_splits=10)\n",
    "    rmse_per_fold = []\n",
    "    for trainset, testset in kf.split(rating_dataset):\n",
    "        pop_testset = get_popular(testset)\n",
    "        knn.fit(trainset)\n",
    "        predictions = knn.test(pop_testset)\n",
    "        rmse_per_fold.append(accuracy.rmse(predictions, verbose=False))\n",
    "    avg_rmse = np.mean(rmse_per_fold)\n",
    "    rmse_popular_scores.append(avg_rmse)\n",
    "    print('k = {}'.format(k))\n",
    "    print(avg_rmse)\n",
    "    print(' ')"
   ]
  },
  {
   "cell_type": "markdown",
   "metadata": {},
   "source": [
    "### NMF"
   ]
  },
  {
   "cell_type": "code",
   "execution_count": 22,
   "metadata": {
    "collapsed": true
   },
   "outputs": [],
   "source": [
    "from surprise import NMF\n",
    "from surprise.model_selection import cross_validate\n",
    "from surprise.model_selection import KFold\n",
    "from surprise import accuracy"
   ]
  },
  {
   "cell_type": "markdown",
   "metadata": {},
   "source": [
    "#### Question 17, 18"
   ]
  },
  {
   "cell_type": "code",
   "execution_count": 23,
   "metadata": {
    "collapsed": true
   },
   "outputs": [],
   "source": [
    "ks = np.arange(2, 51, 2)"
   ]
  },
  {
   "cell_type": "code",
   "execution_count": 18,
   "metadata": {
    "collapsed": true
   },
   "outputs": [],
   "source": [
    "# from surprise.model_selection import KFold\n",
    "\n",
    "# nmf = NMF(n_factors=2)\n",
    "# kf = KFold(n_splits=10)\n",
    "# for trainset, testset in kf.split(rating_dataset):\n",
    "#     pop_testset = get_popular(testset)\n",
    "#     nmf.fit(trainset)\n",
    "#     predictions = nmf.test(testset)\n",
    "#     print(accuracy.rmse(predictions, verbose=True))"
   ]
  },
  {
   "cell_type": "code",
   "execution_count": 16,
   "metadata": {
    "scrolled": true
   },
   "outputs": [
    {
     "name": "stdout",
     "output_type": "stream",
     "text": [
      "k = 2\n",
      "1.1471587978469011\n",
      "0.9652002658409709\n",
      " \n",
      "k = 4\n",
      "1.0400420163845507\n",
      "0.8497487074499291\n",
      " \n",
      "k = 6\n",
      "0.9822175109419549\n",
      "0.7856231494540006\n",
      " \n",
      "k = 8\n",
      "0.951144345624445\n",
      "0.7498480673493013\n",
      " \n",
      "k = 10\n",
      "0.9305142125101364\n",
      "0.7240387539799527\n",
      " \n",
      "k = 12\n",
      "0.9221341277510554\n",
      "0.7118202243261308\n",
      " \n",
      "k = 14\n",
      "0.915126596509786\n",
      "0.7027557604634976\n",
      " \n",
      "k = 16\n",
      "0.9135038852969934\n",
      "0.6972617000463102\n",
      " \n",
      "k = 18\n",
      "0.9143230129465161\n",
      "0.6958597863667213\n",
      " \n",
      "k = 20\n",
      "0.916385713897904\n",
      "0.6952894161435672\n",
      " \n",
      "k = 22\n",
      "0.9174105508209133\n",
      "0.6949106506170126\n",
      " \n",
      "k = 24\n",
      "0.9191663806383419\n",
      "0.6949038465219161\n",
      " \n",
      "k = 26\n",
      "0.9219830920595203\n",
      "0.6961144136649525\n",
      " \n",
      "k = 28\n",
      "0.9249354005604117\n",
      "0.6974370960445719\n",
      " \n",
      "k = 30\n",
      "0.9331806891104766\n",
      "0.7029085624426488\n",
      " \n",
      "k = 32\n",
      "0.9329709935859066\n",
      "0.7027337360565277\n",
      " \n",
      "k = 34\n",
      "0.9386926332322352\n",
      "0.7074248507000492\n",
      " \n",
      "k = 36\n",
      "0.9408453662804692\n",
      "0.7085215398081093\n",
      " \n",
      "k = 38\n",
      "0.946005976920059\n",
      "0.7126024369557491\n",
      " \n",
      "k = 40\n",
      "0.9508574368147054\n",
      "0.7156567917366685\n",
      " \n",
      "k = 42\n",
      "0.9544968314931712\n",
      "0.7190101611029408\n",
      " \n",
      "k = 44\n",
      "0.9554316474685155\n",
      "0.7198456153999775\n",
      " \n",
      "k = 46\n",
      "0.9610888924493219\n",
      "0.7242228859598053\n",
      " \n",
      "k = 48\n",
      "0.9651018759921846\n",
      "0.7267040655828467\n",
      " \n",
      "k = 50\n",
      "0.9674867707513648\n",
      "0.728708010123705\n",
      " \n"
     ]
    }
   ],
   "source": [
    "# Analyze full dataset\n",
    "\n",
    "rmse_scores = []\n",
    "mae_scores = []\n",
    "\n",
    "for k in ks:\n",
    "    nmf = NMF(n_factors=k)\n",
    "    result = cross_validate(nmf, rating_dataset, measures=['rmse', 'mae'], cv=10)\n",
    "    \n",
    "    rmse = np.mean(result['test_rmse'])\n",
    "    mae = np.mean(result['test_mae'])\n",
    "    \n",
    "    print('k = {}'.format(k))\n",
    "    print(rmse)\n",
    "    print(mae)\n",
    "    print(' ')\n",
    "    \n",
    "    rmse_scores.append(rmse)\n",
    "    mae_scores.append(mae)"
   ]
  },
  {
   "cell_type": "code",
   "execution_count": 17,
   "metadata": {},
   "outputs": [
    {
     "data": {
      "image/png": "[encoded data removed]",
      "text/plain": [
       "<Figure size 600x400 with 1 Axes>"
      ]
     },
     "metadata": {},
     "output_type": "display_data"
    },
    {
     "data": {
      "image/png": "[encoded data removed]",
      "text/plain": [
       "<Figure size 600x400 with 1 Axes>"
      ]
     },
     "metadata": {},
     "output_type": "display_data"
    }
   ],
   "source": [
    "plt.figure()\n",
    "plt.plot(ks, rmse_scores)\n",
    "plt.title('RMSE scores vs. k')\n",
    "plt.xlabel('k')\n",
    "plt.ylabel('RMSE scores')\n",
    "plt.show()\n",
    "\n",
    "plt.figure()\n",
    "plt.plot(ks, mae_scores)\n",
    "plt.title('MAE scores vs. k')\n",
    "plt.xlabel('k')\n",
    "plt.ylabel('MAE scores')\n",
    "plt.show()"
   ]
  },
  {
   "cell_type": "code",
   "execution_count": 18,
   "metadata": {},
   "outputs": [
    {
     "name": "stdout",
     "output_type": "stream",
     "text": [
      "Best k for RMSE: 16\n",
      "Best k for MAE: 24\n"
     ]
    }
   ],
   "source": [
    "print('Best k for RMSE: {}'.format(ks[np.argmin(rmse_scores)]))\n",
    "print('Best k for MAE: {}'.format(ks[np.argmin(mae_scores)]))"
   ]
  },
  {
   "cell_type": "markdown",
   "metadata": {},
   "source": [
    "#### Question 19"
   ]
  },
  {
   "cell_type": "code",
   "execution_count": 27,
   "metadata": {
    "scrolled": true
   },
   "outputs": [
    {
     "name": "stdout",
     "output_type": "stream",
     "text": [
      "k = 2\n",
      "1.1394935387821319\n",
      " \n",
      "k = 4\n",
      "1.0166910134607927\n",
      " \n",
      "k = 6\n",
      "0.9468737290502276\n",
      " \n",
      "k = 8\n",
      "0.9117048225858024\n",
      " \n",
      "k = 10\n",
      "0.8900826387468779\n",
      " \n",
      "k = 12\n",
      "0.8788492352098398\n",
      " \n",
      "k = 14\n",
      "0.8739220841566748\n",
      " \n",
      "k = 16\n",
      "0.8712306069162177\n",
      " \n",
      "k = 18\n",
      "0.8736318621606716\n",
      " \n",
      "k = 20\n",
      "0.8750547155089275\n",
      " \n",
      "k = 22\n",
      "0.8779841140011309\n",
      " \n",
      "k = 24\n",
      "0.8844191156564154\n",
      " \n",
      "k = 26\n",
      "0.8875362511459606\n",
      " \n",
      "k = 28\n",
      "0.8936199017246758\n",
      " \n",
      "k = 30\n",
      "0.8971067194239863\n",
      " \n",
      "k = 32\n",
      "0.9030655085869679\n",
      " \n",
      "k = 34\n",
      "0.9063305994760855\n",
      " \n",
      "k = 36\n",
      "0.9115209592434057\n",
      " \n",
      "k = 38\n",
      "0.9159813824764065\n",
      " \n",
      "k = 40\n",
      "0.9208056135617738\n",
      " \n",
      "k = 42\n",
      "0.9246613963965566\n",
      " \n",
      "k = 44\n",
      "0.9312240708477024\n",
      " \n",
      "k = 46\n",
      "0.9355008037094155\n",
      " \n",
      "k = 48\n",
      "0.939121458867222\n",
      " \n",
      "k = 50\n",
      "0.9429701746225587\n",
      " \n"
     ]
    }
   ],
   "source": [
    "# Analyze popular dataset.\n",
    "\n",
    "rmse_popular_scores = []\n",
    "\n",
    "for k in ks:\n",
    "    nmf = NMF(n_factors=k)\n",
    "    kf = KFold(n_splits=10)\n",
    "    rmse_per_fold = []\n",
    "    for trainset, testset in kf.split(rating_dataset):\n",
    "        pop_testset = get_popular(testset)\n",
    "        nmf.fit(trainset)\n",
    "        predictions = nmf.test(pop_testset)\n",
    "        rmse_per_fold.append(accuracy.rmse(predictions, verbose=False))\n",
    "    avg_rmse = np.mean(rmse_per_fold)\n",
    "    rmse_popular_scores.append(avg_rmse)\n",
    "    print('k = {}'.format(k))\n",
    "    print(avg_rmse)\n",
    "    print(' ')"
   ]
  },
  {
   "cell_type": "code",
   "execution_count": 28,
   "metadata": {},
   "outputs": [
    {
     "data": {
      "image/png": "[encoded data removed]",
      "text/plain": [
       "<Figure size 600x400 with 1 Axes>"
      ]
     },
     "metadata": {},
     "output_type": "display_data"
    }
   ],
   "source": [
    "plt.figure()\n",
    "plt.plot(ks, rmse_popular_scores)\n",
    "plt.title('RMSE scores vs. k for popular dataset')\n",
    "plt.xlabel('k')\n",
    "plt.ylabel('RMSE scores')\n",
    "plt.show()"
   ]
  },
  {
   "cell_type": "code",
   "execution_count": 29,
   "metadata": {},
   "outputs": [
    {
     "name": "stdout",
     "output_type": "stream",
     "text": [
      "Best k for RMSE: 16\n"
     ]
    }
   ],
   "source": [
    "print('Best k for RMSE: {}'.format(ks[np.argmin(rmse_popular_scores)]))"
   ]
  },
  {
   "cell_type": "markdown",
   "metadata": {
    "collapsed": true
   },
   "source": [
    "#### Question 20"
   ]
  },
  {
   "cell_type": "code",
   "execution_count": 41,
   "metadata": {
    "scrolled": true
   },
   "outputs": [
    {
     "name": "stdout",
     "output_type": "stream",
     "text": [
      "k = 2\n",
      "1.163448423867633\n",
      " \n",
      "k = 4\n",
      "1.0904447550450094\n",
      " \n",
      "k = 6\n",
      "1.051801207425589\n",
      " \n",
      "k = 8\n",
      "1.027150266923996\n",
      " \n",
      "k = 10\n",
      "1.0128746676512796\n",
      " \n",
      "k = 12\n",
      "1.0039748294730417\n",
      " \n",
      "k = 14\n",
      "0.9998706673476214\n",
      " \n",
      "k = 16\n",
      "0.9937723890234379\n",
      " \n",
      "k = 18\n",
      "0.9952232511212774\n",
      " \n",
      "k = 20\n",
      "0.9936346509622771\n",
      " \n",
      "k = 22\n",
      "0.9951899508719869\n",
      " \n",
      "k = 24\n",
      "0.9952718863807665\n",
      " \n",
      "k = 26\n",
      "0.994437353656755\n",
      " \n",
      "k = 28\n",
      "0.9964202215936137\n",
      " \n",
      "k = 30\n",
      "0.9968395986173064\n",
      " \n",
      "k = 32\n",
      "1.0037045836757308\n",
      " \n",
      "k = 34\n",
      "1.0003114285363632\n",
      " \n",
      "k = 36\n",
      "1.0040680278067662\n",
      " \n",
      "k = 38\n",
      "1.0064496457767356\n",
      " \n",
      "k = 40\n",
      "1.0071666575399747\n",
      " \n",
      "k = 42\n",
      "1.008173164698059\n",
      " \n",
      "k = 44\n",
      "1.0134141602481848\n",
      " \n",
      "k = 46\n",
      "1.0085650944114444\n",
      " \n",
      "k = 48\n",
      "1.0099396062389596\n",
      " \n",
      "k = 50\n",
      "1.0168248260123287\n",
      " \n"
     ]
    }
   ],
   "source": [
    "# Analyze unpopular dataset\n",
    "\n",
    "rmse_unpopular_scores = []\n",
    "\n",
    "for k in ks:\n",
    "    nmf = NMF(n_factors=k)\n",
    "    kf = KFold(n_splits=10)\n",
    "    rmse_per_fold = []\n",
    "    for trainset, testset in kf.split(rating_dataset):\n",
    "        unpop_testset = get_unpopular(testset)\n",
    "        nmf.fit(trainset)\n",
    "        predictions = nmf.test(unpop_testset)\n",
    "        rmse_per_fold.append(accuracy.rmse(predictions, verbose=False))\n",
    "    avg_rmse = np.mean(rmse_per_fold)\n",
    "    rmse_unpopular_scores.append(avg_rmse)\n",
    "    print('k = {}'.format(k))\n",
    "    print(avg_rmse)\n",
    "    print(' ')"
   ]
  },
  {
   "cell_type": "code",
   "execution_count": 42,
   "metadata": {},
   "outputs": [
    {
     "data": {
      "image/png": "[encoded data removed]",
      "text/plain": [
       "<Figure size 600x400 with 1 Axes>"
      ]
     },
     "metadata": {},
     "output_type": "display_data"
    }
   ],
   "source": [
    "plt.figure()\n",
    "plt.plot(ks, rmse_unpopular_scores)\n",
    "plt.title('RMSE scores vs. k for unpopular dataset')\n",
    "plt.xlabel('k')\n",
    "plt.ylabel('RMSE scores')\n",
    "plt.show()"
   ]
  },
  {
   "cell_type": "code",
   "execution_count": 43,
   "metadata": {},
   "outputs": [
    {
     "name": "stdout",
     "output_type": "stream",
     "text": [
      "Best k for RMSE: 20\n"
     ]
    }
   ],
   "source": [
    "print('Best k for RMSE: {}'.format(ks[np.argmin(rmse_unpopular_scores)]))"
   ]
  },
  {
   "cell_type": "markdown",
   "metadata": {},
   "source": [
    "#### Question 21"
   ]
  },
  {
   "cell_type": "code",
   "execution_count": 44,
   "metadata": {
    "scrolled": true
   },
   "outputs": [
    {
     "name": "stdout",
     "output_type": "stream",
     "text": [
      "k = 2\n",
      "1.4807888710787807\n",
      " \n",
      "k = 4\n",
      "1.4015369824780555\n",
      " \n",
      "k = 6\n",
      "1.4078938079181011\n",
      " \n",
      "k = 8\n",
      "1.4304516091065047\n",
      " \n",
      "k = 10\n",
      "1.426070371493528\n",
      " \n",
      "k = 12\n",
      "1.3821478487669887\n",
      " \n",
      "k = 14\n",
      "1.4141235014797446\n",
      " \n",
      "k = 16\n",
      "1.421595904987203\n",
      " \n",
      "k = 18\n",
      "1.416057417139907\n",
      " \n",
      "k = 20\n",
      "1.4256881090804732\n",
      " \n",
      "k = 22\n",
      "1.4200994949334178\n",
      " \n",
      "k = 24\n",
      "1.4152561915469484\n",
      " \n",
      "k = 26\n",
      "1.4583435074285616\n",
      " \n",
      "k = 28\n",
      "1.4810992080409098\n",
      " \n",
      "k = 30\n",
      "1.4885249190155316\n",
      " \n",
      "k = 32\n",
      "1.5286699355122406\n",
      " \n",
      "k = 34\n",
      "1.467129071675095\n",
      " \n",
      "k = 36\n",
      "1.4948867975840738\n",
      " \n",
      "k = 38\n",
      "1.4659151594761808\n",
      " \n",
      "k = 40\n",
      "1.4710612002974783\n",
      " \n",
      "k = 42\n",
      "1.5127037625243518\n",
      " \n",
      "k = 44\n",
      "1.4918306605806904\n",
      " \n",
      "k = 46\n",
      "1.5145551418479908\n",
      " \n",
      "k = 48\n",
      "1.5268341107904038\n",
      " \n",
      "k = 50\n",
      "1.5250775066772357\n",
      " \n"
     ]
    }
   ],
   "source": [
    "# Analyze high variance dataset\n",
    "\n",
    "rmse_highvar_scores = []\n",
    "\n",
    "for k in ks:\n",
    "    nmf = NMF(n_factors=k)\n",
    "    kf = KFold(n_splits=10)\n",
    "    rmse_per_fold = []\n",
    "    for trainset, testset in kf.split(rating_dataset):\n",
    "        highvar_testset = get_highvar(testset)\n",
    "        nmf.fit(trainset)\n",
    "        predictions = nmf.test(highvar_testset)\n",
    "        rmse_per_fold.append(accuracy.rmse(predictions, verbose=False))\n",
    "    avg_rmse = np.mean(rmse_per_fold)\n",
    "    rmse_highvar_scores.append(avg_rmse)\n",
    "    print('k = {}'.format(k))\n",
    "    print(avg_rmse)\n",
    "    print(' ')"
   ]
  },
  {
   "cell_type": "code",
   "execution_count": 45,
   "metadata": {},
   "outputs": [
    {
     "data": {
      "image/png": "[encoded data removed]",
      "text/plain": [
       "<Figure size 600x400 with 1 Axes>"
      ]
     },
     "metadata": {},
     "output_type": "display_data"
    }
   ],
   "source": [
    "plt.figure()\n",
    "plt.plot(ks, rmse_highvar_scores)\n",
    "plt.title('RMSE scores vs. k for high variance dataset')\n",
    "plt.xlabel('k')\n",
    "plt.ylabel('RMSE scores')\n",
    "plt.show()"
   ]
  },
  {
   "cell_type": "code",
   "execution_count": 46,
   "metadata": {},
   "outputs": [
    {
     "name": "stdout",
     "output_type": "stream",
     "text": [
      "Best k for RMSE: 12\n"
     ]
    }
   ],
   "source": [
    "print('Best k for RMSE: {}'.format(ks[np.argmin(rmse_highvar_scores)]))"
   ]
  },
  {
   "cell_type": "markdown",
   "metadata": {
    "collapsed": true
   },
   "source": [
    "#### Question 22"
   ]
  },
  {
   "cell_type": "code",
   "execution_count": 4,
   "metadata": {
    "collapsed": true
   },
   "outputs": [],
   "source": [
    "from sklearn.metrics import roc_curve\n",
    "from sklearn.metrics import roc_auc_score\n",
    "from surprise import NMF\n",
    "from surprise.model_selection import train_test_split"
   ]
  },
  {
   "cell_type": "code",
   "execution_count": 3,
   "metadata": {
    "collapsed": true
   },
   "outputs": [],
   "source": [
    "thresholds = [2.5, 3, 3.5, 4]\n",
    "best_k = 16"
   ]
  },
  {
   "cell_type": "code",
   "execution_count": 38,
   "metadata": {},
   "outputs": [
    {
     "data": {
      "image/png": "[encoded data removed]",
      "text/plain": [
       "<Figure size 600x400 with 1 Axes>"
      ]
     },
     "metadata": {},
     "output_type": "display_data"
    },
    {
     "data": {
      "image/png": "[encoded data removed]",
      "text/plain": [
       "<Figure size 600x400 with 1 Axes>"
      ]
     },
     "metadata": {},
     "output_type": "display_data"
    },
    {
     "data": {
      "image/png": "[encoded data removed]",
      "text/plain": [
       "<Figure size 600x400 with 1 Axes>"
      ]
     },
     "metadata": {},
     "output_type": "display_data"
    },
    {
     "data": {
      "image/png": "[encoded data removed]",
      "text/plain": [
       "<Figure size 600x400 with 1 Axes>"
      ]
     },
     "metadata": {},
     "output_type": "display_data"
    }
   ],
   "source": [
    "nmf = NMF(n_factors=best_k)\n",
    "trainset, testset = train_test_split(rating_dataset, test_size=0.1)\n",
    "nmf.fit(trainset)\n",
    "predictions = nmf.test(testset)\n",
    "for t in thresholds:\n",
    "    true_bin = [1 if pred.r_ui >= t else 0 for pred in predictions]\n",
    "    scores = [pred.est for pred in predictions]\n",
    "    \n",
    "    plt.figure()\n",
    "    fpr, tpr, thr = roc_curve(true_bin, scores)\n",
    "    plt.plot(fpr, tpr)\n",
    "    plt.text(0.5, 0.1, 'area under curve = %0.4f' % roc_auc_score(true_bin, scores))\n",
    "    plt.text(0.5, 0.2, 'threshold = {}'.format(t))\n",
    "    plt.xlabel('false positive rate')\n",
    "    plt.ylabel('true positive rate')\n",
    "    plt.show()"
   ]
  },
  {
   "cell_type": "markdown",
   "metadata": {},
   "source": [
    "#### Question 23"
   ]
  },
  {
   "cell_type": "code",
   "execution_count": 43,
   "metadata": {
    "collapsed": true
   },
   "outputs": [],
   "source": [
    "from surprise import NMF"
   ]
  },
  {
   "cell_type": "code",
   "execution_count": 46,
   "metadata": {
    "collapsed": true
   },
   "outputs": [],
   "source": [
    "nmf = NMF(n_factors=20)"
   ]
  },
  {
   "cell_type": "markdown",
   "metadata": {
    "collapsed": true
   },
   "source": [
    "### MF with Bias"
   ]
  },
  {
   "cell_type": "markdown",
   "metadata": {},
   "source": [
    "#### Question 24\n",
    "\n",
    "Design a MF with bias collaborative filter on full data set"
   ]
  },
  {
   "cell_type": "code",
   "execution_count": 70,
   "metadata": {},
   "outputs": [],
   "source": [
    "from surprise import SVD\n",
    "from surprise.model_selection import cross_validate\n",
    "from surprise.model_selection import KFold\n",
    "from surprise import accuracy"
   ]
  },
  {
   "cell_type": "code",
   "execution_count": 71,
   "metadata": {},
   "outputs": [
    {
     "name": "stdout",
     "output_type": "stream",
     "text": [
      "k = 2\n",
      "0.8672282176441382\n",
      "0.6664437228554424\n",
      " \n",
      "k = 4\n",
      "0.8669450942911743\n",
      "0.6665991859117131\n",
      " \n",
      "k = 6\n",
      "0.8668649897084343\n",
      "0.6660858927502168\n",
      " \n",
      "k = 8\n",
      "0.8666184291892334\n",
      "0.6652722082305222\n",
      " \n"
     ]
    }
   ],
   "source": [
    "# ks = np.arrange(2, 51, 2)\n",
    "\n",
    "ks = np.arange(2, 9, 2) # Smaller for testing\n",
    "\n",
    "# MF with Bias, Full data set\n",
    "\n",
    "rmse_scores = []\n",
    "mae_scores = []\n",
    "\n",
    "for k in ks:\n",
    "    svd = SVD(n_factors=k)\n",
    "    result = cross_validate(svd, rating_dataset, cv = 10)\n",
    "    \n",
    "    rmse = np.mean(result['test_rmse'])\n",
    "    mae = np.mean(result['test_mae'])\n",
    "    \n",
    "    print('k = {}'.format(k))\n",
    "    print(rmse)\n",
    "    print(mae)\n",
    "    print(' ')\n",
    "    \n",
    "    rmse_scores.append(rmse)\n",
    "    mae_scores.append(mae)"
   ]
  },
  {
   "cell_type": "code",
   "execution_count": 72,
   "metadata": {},
   "outputs": [
    {
     "data": {
      "image/png": "[encoded data removed]",
      "text/plain": [
       "<matplotlib.figure.Figure at 0x1a1b8852e8>"
      ]
     },
     "metadata": {},
     "output_type": "display_data"
    },
    {
     "data": {
      "image/png": "[encoded data removed]",
      "text/plain": [
       "<matplotlib.figure.Figure at 0x10f7d45f8>"
      ]
     },
     "metadata": {},
     "output_type": "display_data"
    }
   ],
   "source": [
    "plt.figure()\n",
    "plt.plot(ks, rmse_scores)\n",
    "plt.title('RMSE scores vs. k')\n",
    "plt.xlabel('k')\n",
    "plt.ylabel('RMSE scores')\n",
    "plt.show()\n",
    "\n",
    "plt.figure()\n",
    "plt.plot(ks, mae_scores)\n",
    "plt.title('MAE scores vs. k')\n",
    "plt.xlabel('k')\n",
    "plt.ylabel('MAE scores')\n",
    "plt.show()"
   ]
  },
  {
   "cell_type": "markdown",
   "metadata": {},
   "source": [
    "#### Question 25 \n",
    "\n",
    "Find the optimal value of k"
   ]
  },
  {
   "cell_type": "code",
   "execution_count": 73,
   "metadata": {},
   "outputs": [
    {
     "name": "stdout",
     "output_type": "stream",
     "text": [
      "Best k for RMSE: 8\n",
      "Best k for MAE: 8\n",
      "Min average value for RMSE: 0.8666184291892334\n",
      "Min average value for MAE: 0.6652722082305222\n"
     ]
    }
   ],
   "source": [
    "print('Best k for RMSE: {}'.format(ks[np.argmin(rmse_scores)]))\n",
    "print('Best k for MAE: {}'.format(ks[np.argmin(mae_scores)]))\n",
    "\n",
    "print('Min average value for RMSE:', np.amin(rmse_scores))\n",
    "print('Min average value for MAE:', np.amin(mae_scores))"
   ]
  },
  {
   "cell_type": "markdown",
   "metadata": {},
   "source": [
    "#### Question 26\n",
    "\n",
    "Design a MF with bias collaborative filter on popular movie trimmed test set"
   ]
  },
  {
   "cell_type": "code",
   "execution_count": 74,
   "metadata": {},
   "outputs": [
    {
     "name": "stdout",
     "output_type": "stream",
     "text": [
      "k = 2\n",
      "0.851887645840986\n",
      " \n",
      "k = 4\n",
      "0.8493064768746936\n",
      " \n",
      "k = 6\n",
      "0.8481917221627608\n",
      " \n",
      "k = 8\n",
      "0.8508578070738556\n",
      " \n"
     ]
    }
   ],
   "source": [
    "# MF with Bias, Analyze popular dataset\n",
    "\n",
    "rmse_popular_scores = []\n",
    "\n",
    "for k in ks:\n",
    "    svd = SVD(n_factors=k)\n",
    "    kf = KFold(n_splits=10)\n",
    "    rmse_per_fold = []\n",
    "    for trainset, testset in kf.split(rating_dataset):\n",
    "        pop_testset = get_popular(testset)\n",
    "        svd.fit(trainset)\n",
    "        predictions = svd.test(pop_testset)\n",
    "        rmse_per_fold.append(accuracy.rmse(predictions, verbose=False))\n",
    "    avg_rmse = np.mean(rmse_per_fold)\n",
    "    rmse_popular_scores.append(avg_rmse)\n",
    "    print('k = {}'.format(k))\n",
    "    print(avg_rmse)\n",
    "    print(' ')\n"
   ]
  },
  {
   "cell_type": "code",
   "execution_count": 75,
   "metadata": {},
   "outputs": [
    {
     "data": {
      "image/png": "[encoded data removed]",
      "text/plain": [
       "<matplotlib.figure.Figure at 0x1123d19b0>"
      ]
     },
     "metadata": {},
     "output_type": "display_data"
    }
   ],
   "source": [
    "plt.figure()\n",
    "plt.plot(ks, rmse_popular_scores)\n",
    "plt.title('RMSE scores vs. k for popular dataset')\n",
    "plt.xlabel('k')\n",
    "plt.ylabel('RMSE scores')\n",
    "plt.show()"
   ]
  },
  {
   "cell_type": "code",
   "execution_count": 76,
   "metadata": {},
   "outputs": [
    {
     "name": "stdout",
     "output_type": "stream",
     "text": [
      "Best k for RMSE: 6\n",
      "Min average value for RMSE: 0.8666184291892334\n"
     ]
    }
   ],
   "source": [
    "print('Best k for RMSE: {}'.format(ks[np.argmin(rmse_popular_scores)]))\n",
    "print('Min average value for RMSE:', np.amin(rmse_scores))"
   ]
  },
  {
   "cell_type": "markdown",
   "metadata": {},
   "source": [
    "#### Question 27\n",
    "\n",
    "Design a MF with bias collaborative filter on unpopular movie trimmed test set"
   ]
  },
  {
   "cell_type": "code",
   "execution_count": 77,
   "metadata": {},
   "outputs": [
    {
     "name": "stdout",
     "output_type": "stream",
     "text": [
      "k = 2\n",
      "0.9022747991543506\n",
      " \n",
      "k = 4\n",
      "0.9015029259819176\n",
      " \n",
      "k = 6\n",
      "0.8994492616319898\n",
      " \n",
      "k = 8\n",
      "0.8970927897234766\n",
      " \n"
     ]
    }
   ],
   "source": [
    "# MF with Bias, Analyze unpopular dataset\n",
    "\n",
    "rmse_unpopular_scores = []\n",
    "\n",
    "for k in ks:\n",
    "    svd = SVD(n_factors=k)\n",
    "    kf = KFold(n_splits=10)\n",
    "    rmse_per_fold = []\n",
    "    for trainset, testset in kf.split(rating_dataset):\n",
    "        unpop_testset = get_unpopular(testset)\n",
    "        svd.fit(trainset)\n",
    "        predictions = svd.test(unpop_testset)\n",
    "        rmse_per_fold.append(accuracy.rmse(predictions, verbose=False))\n",
    "    avg_rmse = np.mean(rmse_per_fold)\n",
    "    rmse_unpopular_scores.append(avg_rmse)\n",
    "    print('k = {}'.format(k))\n",
    "    print(avg_rmse)\n",
    "    print(' ')"
   ]
  },
  {
   "cell_type": "code",
   "execution_count": 78,
   "metadata": {},
   "outputs": [
    {
     "data": {
      "image/png": "[encoded data removed]",
      "text/plain": [
       "<matplotlib.figure.Figure at 0x10a85a6d8>"
      ]
     },
     "metadata": {},
     "output_type": "display_data"
    }
   ],
   "source": [
    "plt.figure()\n",
    "plt.plot(ks, rmse_unpopular_scores)\n",
    "plt.title('RMSE scores vs. k for unpopular dataset')\n",
    "plt.xlabel('k')\n",
    "plt.ylabel('RMSE scores')\n",
    "plt.show()"
   ]
  },
  {
   "cell_type": "code",
   "execution_count": 79,
   "metadata": {},
   "outputs": [
    {
     "name": "stdout",
     "output_type": "stream",
     "text": [
      "Best k for RMSE: 8\n",
      "Min average value for RMSE: 0.8666184291892334\n"
     ]
    }
   ],
   "source": [
    "print('Best k for RMSE: {}'.format(ks[np.argmin(rmse_unpopular_scores)]))\n",
    "print('Min average value for RMSE:', np.amin(rmse_scores))"
   ]
  },
  {
   "cell_type": "markdown",
   "metadata": {},
   "source": [
    "#### Question 28\n",
    "\n",
    "Design a MF with bias collaborative filter on high variance movie trimmed test set"
   ]
  },
  {
   "cell_type": "code",
   "execution_count": 80,
   "metadata": {},
   "outputs": [
    {
     "name": "stdout",
     "output_type": "stream",
     "text": [
      "k = 2\n",
      "1.397928783840743\n",
      " \n",
      "k = 4\n",
      "1.443508743903435\n",
      " \n",
      "k = 6\n",
      "1.42313388986461\n",
      " \n",
      "k = 8\n",
      "1.462925730475668\n",
      " \n"
     ]
    }
   ],
   "source": [
    "# MF with Bias, Analyze high variance dataset\n",
    "\n",
    "rmse_highvar_scores = []\n",
    "\n",
    "for k in ks:\n",
    "    svd = SVD(n_factors=k)\n",
    "    kf = KFold(n_splits=10)\n",
    "    rmse_per_fold = []\n",
    "    for trainset, testset in kf.split(rating_dataset):\n",
    "        highvar_testset = get_highvar(testset)\n",
    "        svd.fit(trainset)\n",
    "        predictions = svd.test(highvar_testset)\n",
    "        rmse_per_fold.append(accuracy.rmse(predictions, verbose=False))\n",
    "    avg_rmse = np.mean(rmse_per_fold)\n",
    "    rmse_highvar_scores.append(avg_rmse)\n",
    "    print('k = {}'.format(k))\n",
    "    print(avg_rmse)\n",
    "    print(' ')"
   ]
  },
  {
   "cell_type": "code",
   "execution_count": 81,
   "metadata": {},
   "outputs": [
    {
     "data": {
      "image/png": "[encoded data removed]",
      "text/plain": [
       "<matplotlib.figure.Figure at 0x1a1a36c518>"
      ]
     },
     "metadata": {},
     "output_type": "display_data"
    }
   ],
   "source": [
    "plt.figure()\n",
    "plt.plot(ks, rmse_highvar_scores)\n",
    "plt.title('RMSE scores vs. k for high variance dataset')\n",
    "plt.xlabel('k')\n",
    "plt.ylabel('RMSE scores')\n",
    "plt.show()"
   ]
  },
  {
   "cell_type": "code",
   "execution_count": 82,
   "metadata": {},
   "outputs": [
    {
     "name": "stdout",
     "output_type": "stream",
     "text": [
      "Best k for RMSE: 2\n",
      "Min average value for RMSE: 0.8666184291892334\n"
     ]
    }
   ],
   "source": [
    "print('Best k for RMSE: {}'.format(ks[np.argmin(rmse_highvar_scores)]))\n",
    "print('Min average value for RMSE:', np.amin(rmse_scores))"
   ]
  },
  {
   "cell_type": "markdown",
   "metadata": {},
   "source": [
    "#### Question 29\n",
    "\n",
    "Plot ROC cures from Question 24 with optimal k value. Specify AUC."
   ]
  },
  {
   "cell_type": "code",
   "execution_count": 83,
   "metadata": {
    "collapsed": true
   },
   "outputs": [],
   "source": [
    "from sklearn.metrics import roc_curve\n",
    "from sklearn.metrics import roc_auc_score\n",
    "from surprise.model_selection import train_test_split"
   ]
  },
  {
   "cell_type": "code",
   "execution_count": 84,
   "metadata": {
    "collapsed": true
   },
   "outputs": [],
   "source": [
    "thresholds = [2.5, 3, 3.5, 4]\n",
    "best_k = 16 # Need to Update this with correct value"
   ]
  },
  {
   "cell_type": "code",
   "execution_count": 85,
   "metadata": {},
   "outputs": [
    {
     "data": {
      "image/png": "[encoded data removed]",
      "text/plain": [
       "<matplotlib.figure.Figure at 0x10a85ac50>"
      ]
     },
     "metadata": {},
     "output_type": "display_data"
    },
    {
     "data": {
      "image/png": "[encoded data removed]",
      "text/plain": [
       "<matplotlib.figure.Figure at 0x1a1a8dbeb8>"
      ]
     },
     "metadata": {},
     "output_type": "display_data"
    },
    {
     "data": {
      "image/png": "[encoded data removed]",
      "text/plain": [
       "<matplotlib.figure.Figure at 0x1a1bfd9d68>"
      ]
     },
     "metadata": {},
     "output_type": "display_data"
    },
    {
     "data": {
      "image/png": "[encoded data removed]",
      "text/plain": [
       "<matplotlib.figure.Figure at 0x1a1a6f7f98>"
      ]
     },
     "metadata": {},
     "output_type": "display_data"
    }
   ],
   "source": [
    "svd = SVD(n_factors=best_k)\n",
    "trainset, testset = train_test_split(rating_dataset, test_size=0.1)\n",
    "svd.fit(trainset)\n",
    "predictions = svd.test(testset)\n",
    "for t in thresholds:\n",
    "    true_bin = [1 if pred.r_ui >= t else 0 for pred in predictions]\n",
    "    scores = [pred.est for pred in predictions]\n",
    "    \n",
    "    plt.figure()\n",
    "    fpr, tpr, thr = roc_curve(true_bin, scores)\n",
    "    plt.plot(fpr, tpr)\n",
    "    plt.text(0.5, 0.1, 'area under curve = %0.4f' % roc_auc_score(true_bin, scores))\n",
    "    plt.text(0.5, 0.2, 'threshold = {}'.format(t))\n",
    "    plt.xlabel('false positive rate')\n",
    "    plt.ylabel('true positive rate')\n",
    "    plt.show()\n"
   ]
  },
  {
   "cell_type": "code",
   "execution_count": null,
   "metadata": {
    "collapsed": true
   },
   "outputs": [],
   "source": []
  },
  {
   "cell_type": "markdown",
   "metadata": {
    "collapsed": true
   },
   "source": [
    "#### Question 30\n",
    "\n",
    "Calculate the average rating, $\\mu_i$, for each user rating, $r_i$"
   ]
  },
  {
   "cell_type": "markdown",
   "metadata": {
    "collapsed": true
   },
   "source": [
    "##### Define Naive model"
   ]
  },
  {
   "cell_type": "code",
   "execution_count": 14,
   "metadata": {
    "collapsed": true
   },
   "outputs": [],
   "source": [
    "class Naive():\n",
    "    '''\n",
    "    Custom collaborative filter designed to work with the cross-validation function\n",
    "    '''\n",
    "    \n",
    "    # mean ratings, one required per user\n",
    "    mu_i = None\n",
    "    \n",
    "    def __init__(self, X_train):\n",
    "        self.mu_i = np.zeros(X_train.shape)\n",
    "        self.fit(X_train, None, enabled=True)\n",
    "        \n",
    "    # calculate mu_i for training\n",
    "    def fit(self, X, y, enabled=False):\n",
    "        if enabled:\n",
    "            self.mu_i = np.mean(X, axis=1)\n",
    "        \n",
    "    # return mu_i as rating prediction (for each movie)\n",
    "    def predict(self, X, inds=None):\n",
    "        if inds is None:\n",
    "            return np.repeat(np.reshape(self.mu_i, (self.mu_i.shape[0], 1)), X.shape[1], axis=1)\n",
    "        else:\n",
    "            # return a specific set of mu_i's:\n",
    "            return np.repeat(np.reshape(self.mu_i[inds], (self.mu_i[inds].shape[0], 1)), X.shape[1], axis=1)"
   ]
  },
  {
   "cell_type": "code",
   "execution_count": 15,
   "metadata": {},
   "outputs": [
    {
     "name": "stdout",
     "output_type": "stream",
     "text": [
      "average rating shape: (610,) - should be 610\n",
      "average rating range: 0.0026223776223776225 0.941125051419169\n",
      "\n",
      "should match manual calculation:\n",
      "average rating shape: (610,) - should be 610\n",
      "average rating range: 0.0026223776223776225 0.941125051419169\n",
      "(610, 9724) (610, 9724)\n"
     ]
    }
   ],
   "source": [
    "model = Naive(data)\n",
    "mu_i = model.mu_i\n",
    "print(\"average rating shape:\", mu_i.shape, \"- should be\", num_users)\n",
    "print(\"average rating range:\", np.min(mu_i), np.max(mu_i))\n",
    "\n",
    "print(\"\\nshould match manual calculation:\")\n",
    "mu_i = np.mean(data, axis=1)\n",
    "print(\"average rating shape:\", mu_i.shape, \"- should be\", num_users)\n",
    "print(\"average rating range:\", np.min(mu_i), np.max(mu_i))\n",
    "\n",
    "y_pred = model.predict(data)\n",
    "print(data.shape, y_pred.shape)"
   ]
  },
  {
   "cell_type": "code",
   "execution_count": 16,
   "metadata": {},
   "outputs": [
    {
     "name": "stdout",
     "output_type": "stream",
     "text": [
      "Average RMSE: 0.46125510728767294\n"
     ]
    }
   ],
   "source": [
    "error = custom_crossval(data, data, model, num_folds=10, metrics=['RMSE'],\n",
    "                        randomize=False, include_inds=True)\n",
    "\n",
    "print('Average RMSE:', error['RMSE'])"
   ]
  },
  {
   "cell_type": "markdown",
   "metadata": {},
   "source": [
    "#### Question 31"
   ]
  },
  {
   "cell_type": "code",
   "execution_count": 17,
   "metadata": {},
   "outputs": [
    {
     "name": "stdout",
     "output_type": "stream",
     "text": [
      "Average RMSE for popular-trimmed data: 0.6161242838825147\n"
     ]
    }
   ],
   "source": [
    "model = Naive(data_popular)\n",
    "error = custom_crossval(data_popular, data_popular, model, num_folds=10, metrics=['RMSE'],\n",
    "                        randomize=False, include_inds=True)\n",
    "\n",
    "print('Average RMSE for popular-trimmed data:', error['RMSE'])"
   ]
  },
  {
   "cell_type": "markdown",
   "metadata": {},
   "source": [
    "#### Question 32"
   ]
  },
  {
   "cell_type": "code",
   "execution_count": 18,
   "metadata": {},
   "outputs": [
    {
     "name": "stdout",
     "output_type": "stream",
     "text": [
      "Average RMSE unpopular-trimmed data: 0.14665174343247717\n"
     ]
    }
   ],
   "source": [
    "model = Naive(data_unpopular)\n",
    "error = custom_crossval(data_unpopular, data_unpopular, model, num_folds=10, metrics=['RMSE'],\n",
    "                        randomize=False, include_inds=True)\n",
    "\n",
    "print('Average RMSE unpopular-trimmed data:', error['RMSE'])"
   ]
  },
  {
   "cell_type": "markdown",
   "metadata": {},
   "source": [
    "#### Question 33"
   ]
  },
  {
   "cell_type": "code",
   "execution_count": 19,
   "metadata": {},
   "outputs": [
    {
     "name": "stdout",
     "output_type": "stream",
     "text": [
      "Average RMSE high-variance-trimmed data: 1.520687897531603\n"
     ]
    }
   ],
   "source": [
    "model = Naive(data_highvar)\n",
    "error = custom_crossval(data_highvar, data_highvar, model, num_folds=10, metrics=['RMSE'],\n",
    "                        randomize=False, include_inds=True)\n",
    "\n",
    "print('Average RMSE high-variance-trimmed data:', error['RMSE'])"
   ]
  },
  {
   "cell_type": "code",
   "execution_count": null,
   "metadata": {
    "collapsed": true
   },
   "outputs": [],
   "source": []
  }
 ],
 "metadata": {
  "anaconda-cloud": {},
  "kernelspec": {
   "display_name": "Python 3",
   "language": "python",
   "name": "python3"
  },
  "language_info": {
   "codemirror_mode": {
    "name": "ipython",
    "version": 3
   },
   "file_extension": ".py",
   "mimetype": "text/x-python",
   "name": "python",
   "nbconvert_exporter": "python",
   "pygments_lexer": "ipython3",
   "version": "3.6.8"
  }
 },
 "nbformat": 4,
 "nbformat_minor": 1
}
