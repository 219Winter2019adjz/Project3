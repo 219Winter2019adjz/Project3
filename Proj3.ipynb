{
 "cells": [
  {
   "cell_type": "code",
   "execution_count": 124,
   "metadata": {
    "collapsed": true
   },
   "outputs": [],
   "source": [
    "import numpy as np\n",
    "import matplotlib.pyplot as plt\n",
    "%matplotlib inline\n",
    "import pandas as pd"
   ]
  },
  {
   "cell_type": "markdown",
   "metadata": {},
   "source": [
    "#### Importing data set and putting into a matrix"
   ]
  },
  {
   "cell_type": "code",
   "execution_count": 125,
   "metadata": {
    "collapsed": false
   },
   "outputs": [],
   "source": [
    "# Import data. Data is in ml-latest-small/ratings.csv. \n",
    "# It has columns: userId, movieId, rating, and timestamp.\n",
    "\n",
    "ratings = np.genfromtxt('ml-latest-small/ratings.csv', delimiter=',')\n",
    "ratings = np.delete(ratings, (0), axis=0) # Remove column title row\n",
    "ratings = np.delete(ratings, (3), axis=1) # Remove time stamp column\n",
    "\n",
    "num_users = np.size(np.unique(ratings[:,0]))\n",
    "num_movies = np.size(np.unique(ratings[:,1]))\n",
    "num_ratings = np.shape(ratings)[0]"
   ]
  },
  {
   "cell_type": "code",
   "execution_count": 126,
   "metadata": {
    "collapsed": false
   },
   "outputs": [],
   "source": [
    "# Create a dictionary where the key is the movie id and the value is the location in data\n",
    "\n",
    "movie_ids = {}\n",
    "counter = 0\n",
    "for rating in ratings:\n",
    "    if rating[1] not in movie_ids.keys():\n",
    "        movie_ids[rating[1]] = counter\n",
    "        counter += 1"
   ]
  },
  {
   "cell_type": "code",
   "execution_count": 127,
   "metadata": {
    "collapsed": false
   },
   "outputs": [],
   "source": [
    "# Put ratings into a matrix of size num_users x num_movies. \n",
    "# To get the rating of a user for a specific movie, do data[userId - 1, movie_ids[movieId]]\n",
    "\n",
    "data = np.zeros([num_users, num_movies])\n",
    "\n",
    "for rating in ratings:\n",
    "    user = int(rating[0]) - 1\n",
    "    movie = int(movie_ids[rating[1]])\n",
    "    data[user, movie] = rating[2]"
   ]
  },
  {
   "cell_type": "markdown",
   "metadata": {},
   "source": [
    "#### Trimming the data set"
   ]
  },
  {
   "cell_type": "code",
   "execution_count": 128,
   "metadata": {
    "collapsed": false
   },
   "outputs": [],
   "source": [
    "# Popular movie trimming\n",
    "\n",
    "nz_movie = np.count_nonzero(data, axis=0)\n",
    "unpop_movies = []\n",
    "for i in range(len(nz_movie)):\n",
    "    if nz_movie[i] <= 2:\n",
    "        unpop_movies.append(i)\n",
    "\n",
    "data_popular = np.delete(data, unpop_movies, axis=1)\n",
    "# print(np.unique(np.count_nonzero(data_popular, axis=0)))"
   ]
  },
  {
   "cell_type": "code",
   "execution_count": 129,
   "metadata": {
    "collapsed": false
   },
   "outputs": [],
   "source": [
    "# Unpopular movie trimming\n",
    "\n",
    "nz_movie = np.count_nonzero(data, axis=0)\n",
    "pop_movies = []\n",
    "for i in range(len(nz_movie)):\n",
    "    if nz_movie[i] > 2:\n",
    "        pop_movies.append(i)\n",
    "        \n",
    "data_unpopular = np.delete(data, pop_movies, axis=1)\n",
    "# print(np.unique(np.count_nonzero(data_unpopular, axis=0)))"
   ]
  },
  {
   "cell_type": "code",
   "execution_count": 130,
   "metadata": {
    "collapsed": false
   },
   "outputs": [],
   "source": [
    "# High variance movie trimming\n",
    "\n",
    "nz_movie = np.count_nonzero(data, axis=0)\n",
    "movies_less5 = []\n",
    "for i in range(len(nz_movie)):\n",
    "    if nz_movie[i] < 5:\n",
    "        movies_less5.append(i)\n",
    "\n",
    "data_more5 = np.delete(data, movies_less5, axis=1)\n",
    "\n",
    "variances = np.zeros(np.shape(data_more5)[1])\n",
    "for i in range(np.shape(data_more5)[1]):\n",
    "    variances[i] = np.var(data_more5[:, i])\n",
    "\n",
    "lowvar_movies = []\n",
    "for i in range(np.shape(data_more5)[1]):\n",
    "    if variances[i] < 2:\n",
    "        lowvar_movies.append(i)\n",
    "data_highvar = np.delete(data_more5, lowvar_movies, axis=1)\n",
    "\n",
    "# print(data_highvar.shape)\n",
    "# print(np.var(data_highvar[:,13]))"
   ]
  },
  {
   "cell_type": "markdown",
   "metadata": {},
   "source": [
    "#### Question 1"
   ]
  },
  {
   "cell_type": "code",
   "execution_count": 131,
   "metadata": {
    "collapsed": false
   },
   "outputs": [
    {
     "name": "stdout",
     "output_type": "stream",
     "text": [
      "Sparsity = 0.016999683055613623\n"
     ]
    }
   ],
   "source": [
    "num_available_ratings = np.count_nonzero(data)\n",
    "num_possible_ratings = np.size(data)\n",
    "\n",
    "sparsity = num_available_ratings / num_possible_ratings\n",
    "print('Sparsity =', sparsity)"
   ]
  },
  {
   "cell_type": "markdown",
   "metadata": {
    "collapsed": true
   },
   "source": [
    "#### Question 2"
   ]
  },
  {
   "cell_type": "code",
   "execution_count": 132,
   "metadata": {
    "collapsed": false
   },
   "outputs": [
    {
     "data": {
      "image/png": "[encoded data removed]",
      "text/plain": [
       "<matplotlib.figure.Figure at 0x124a22668>"
      ]
     },
     "metadata": {},
     "output_type": "display_data"
    }
   ],
   "source": [
    "# Put all nonzero ratings into an array, nonzero_ratings, and make a histogram.\n",
    "\n",
    "nz = np.nonzero(data)\n",
    "\n",
    "nonzero_ratings = np.zeros(len(nz[0]))\n",
    "for i in range(len(nz[0])):\n",
    "    nonzero_ratings[i] = data[nz[0][i], nz[1][i]]\n",
    "\n",
    "plt.figure()\n",
    "plt.hist(nonzero_ratings, np.arange(11)/2)\n",
    "plt.title('Number of ratings per rating')\n",
    "plt.xlabel('rating')\n",
    "plt.ylabel('number of ratings')\n",
    "plt.show()"
   ]
  },
  {
   "cell_type": "markdown",
   "metadata": {
    "collapsed": true
   },
   "source": [
    "#### Question 3"
   ]
  },
  {
   "cell_type": "code",
   "execution_count": 133,
   "metadata": {
    "collapsed": false
   },
   "outputs": [
    {
     "data": {
      "image/png": "[encoded data removed]",
      "text/plain": [
       "<matplotlib.figure.Figure at 0x122a19b70>"
      ]
     },
     "metadata": {},
     "output_type": "display_data"
    }
   ],
   "source": [
    "# Plot the number of nonzero ratings for each movie.\n",
    "# NOTE: the x axis does NOT correspond to the movieId or movie index in data.\n",
    "\n",
    "nz_movie = np.count_nonzero(data, axis=0)\n",
    "sorted_nz_movie = np.sort(nz_movie)\n",
    "\n",
    "plt.figure()\n",
    "plt.plot(sorted_nz_movie)\n",
    "plt.title('Number of ratings per movie, sorted')\n",
    "plt.xlabel('movie')\n",
    "plt.ylabel('number of ratings')\n",
    "plt.show()"
   ]
  },
  {
   "cell_type": "markdown",
   "metadata": {
    "collapsed": true
   },
   "source": [
    "#### Question 4"
   ]
  },
  {
   "cell_type": "code",
   "execution_count": 134,
   "metadata": {
    "collapsed": false
   },
   "outputs": [
    {
     "data": {
      "image/png": "[encoded data removed]",
      "text/plain": [
       "<matplotlib.figure.Figure at 0x124c89748>"
      ]
     },
     "metadata": {},
     "output_type": "display_data"
    }
   ],
   "source": [
    "# Plot the number of ratings each user gave.\n",
    "# NOTE: the x axis does NOT correspond to the userID.\n",
    "\n",
    "nz_user = np.count_nonzero(data, axis=1)\n",
    "sorted_nz_user = np.sort(nz_user)\n",
    "\n",
    "plt.figure()\n",
    "plt.plot(sorted_nz_user)\n",
    "plt.title('Number of movies rated per user, sorted')\n",
    "plt.xlabel('user')\n",
    "plt.ylabel('number of movies rated')\n",
    "plt.xlim(right=650)\n",
    "plt.show()"
   ]
  },
  {
   "cell_type": "markdown",
   "metadata": {
    "collapsed": true
   },
   "source": [
    "#### Question 6"
   ]
  },
  {
   "cell_type": "code",
   "execution_count": 135,
   "metadata": {
    "collapsed": false
   },
   "outputs": [
    {
     "data": {
      "image/png": "[encoded data removed]",
      "text/plain": [
       "<matplotlib.figure.Figure at 0x123f3a358>"
      ]
     },
     "metadata": {},
     "output_type": "display_data"
    }
   ],
   "source": [
    "# Histogram for number of movies whose variance in scores falls in some range.\n",
    "\n",
    "variances = np.zeros(num_movies)\n",
    "for i in range(num_movies):\n",
    "    variances[i] = np.var(data[:, i])\n",
    "    \n",
    "# print(np.max(variances))    \n",
    "\n",
    "plt.figure()\n",
    "plt.hist(variances, np.arange(12)/2)\n",
    "plt.xlim(right=5.5)\n",
    "plt.title('Number of movies per variance')\n",
    "plt.xlabel('variance')\n",
    "plt.ylabel('number of movies')\n",
    "plt.show()"
   ]
  },
  {
   "cell_type": "code",
   "execution_count": null,
   "metadata": {
    "collapsed": true
   },
   "outputs": [],
   "source": []
  },
  {
   "cell_type": "code",
   "execution_count": null,
   "metadata": {
    "collapsed": true
   },
   "outputs": [],
   "source": []
  },
  {
   "cell_type": "code",
   "execution_count": null,
   "metadata": {
    "collapsed": true
   },
   "outputs": [],
   "source": []
  },
  {
   "cell_type": "code",
   "execution_count": null,
   "metadata": {
    "collapsed": true
   },
   "outputs": [],
   "source": []
  },
  {
   "cell_type": "code",
   "execution_count": null,
   "metadata": {
    "collapsed": true
   },
   "outputs": [],
   "source": []
  },
  {
   "cell_type": "code",
   "execution_count": null,
   "metadata": {
    "collapsed": true
   },
   "outputs": [],
   "source": []
  },
  {
   "cell_type": "code",
   "execution_count": null,
   "metadata": {
    "collapsed": true
   },
   "outputs": [],
   "source": []
  },
  {
   "cell_type": "code",
   "execution_count": null,
   "metadata": {
    "collapsed": true
   },
   "outputs": [],
   "source": []
  },
  {
   "cell_type": "code",
   "execution_count": null,
   "metadata": {
    "collapsed": true
   },
   "outputs": [],
   "source": []
  },
  {
   "cell_type": "code",
   "execution_count": null,
   "metadata": {
    "collapsed": true
   },
   "outputs": [],
   "source": []
  },
  {
   "cell_type": "code",
   "execution_count": null,
   "metadata": {
    "collapsed": true
   },
   "outputs": [],
   "source": []
  },
  {
   "cell_type": "code",
   "execution_count": null,
   "metadata": {
    "collapsed": true
   },
   "outputs": [],
   "source": []
  },
  {
   "cell_type": "code",
   "execution_count": null,
   "metadata": {
    "collapsed": true
   },
   "outputs": [],
   "source": []
  },
  {
   "cell_type": "code",
   "execution_count": null,
   "metadata": {
    "collapsed": true
   },
   "outputs": [],
   "source": []
  },
  {
   "cell_type": "code",
   "execution_count": null,
   "metadata": {
    "collapsed": true
   },
   "outputs": [],
   "source": []
  },
  {
   "cell_type": "code",
   "execution_count": null,
   "metadata": {
    "collapsed": true
   },
   "outputs": [],
   "source": []
  },
  {
   "cell_type": "code",
   "execution_count": null,
   "metadata": {
    "collapsed": true
   },
   "outputs": [],
   "source": []
  },
  {
   "cell_type": "code",
   "execution_count": null,
   "metadata": {
    "collapsed": true
   },
   "outputs": [],
   "source": []
  },
  {
   "cell_type": "code",
   "execution_count": null,
   "metadata": {
    "collapsed": true
   },
   "outputs": [],
   "source": []
  }
 ],
 "metadata": {
  "anaconda-cloud": {},
  "kernelspec": {
   "display_name": "Python [Root]",
   "language": "python",
   "name": "Python [Root]"
  },
  "language_info": {
   "codemirror_mode": {
    "name": "ipython",
    "version": 3
   },
   "file_extension": ".py",
   "mimetype": "text/x-python",
   "name": "python",
   "nbconvert_exporter": "python",
   "pygments_lexer": "ipython3",
   "version": "3.5.2"
  }
 },
 "nbformat": 4,
 "nbformat_minor": 0
}
