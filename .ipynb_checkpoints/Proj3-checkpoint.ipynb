{
 "cells": [
  {
   "cell_type": "code",
   "execution_count": 1,
   "metadata": {},
   "outputs": [],
   "source": [
    "import numpy as np\n",
    "import matplotlib.pyplot as plt\n",
    "%matplotlib inline\n",
    "# import pandas as pd"
   ]
  },
  {
   "cell_type": "markdown",
   "metadata": {},
   "source": [
    "#### Importing data set and putting into a matrix"
   ]
  },
  {
   "cell_type": "code",
   "execution_count": 2,
   "metadata": {},
   "outputs": [],
   "source": [
    "# Import data. Data is in ml-latest-small/ratings.csv. \n",
    "# It has columns: userId, movieId, rating, and timestamp.\n",
    "\n",
    "ratings = np.genfromtxt('ml-latest-small/ratings.csv', delimiter=',')\n",
    "ratings = np.delete(ratings, (0), axis=0) # Remove column title row\n",
    "ratings = np.delete(ratings, (3), axis=1) # Remove time stamp column\n",
    "\n",
    "num_users = np.size(np.unique(ratings[:,0]))\n",
    "num_movies = np.size(np.unique(ratings[:,1]))\n",
    "num_ratings = np.shape(ratings)[0]"
   ]
  },
  {
   "cell_type": "code",
   "execution_count": 3,
   "metadata": {},
   "outputs": [],
   "source": [
    "# Create a dictionary where the key is the movie id and the value is the location in data\n",
    "\n",
    "movie_ids = {}\n",
    "counter = 0\n",
    "for rating in ratings:\n",
    "    if rating[1] not in movie_ids.keys():\n",
    "        movie_ids[rating[1]] = counter\n",
    "        counter += 1"
   ]
  },
  {
   "cell_type": "code",
   "execution_count": 4,
   "metadata": {},
   "outputs": [],
   "source": [
    "# Put ratings into a matrix of size num_users x num_movies. \n",
    "# To get the rating of a user for a specific movie, do data[userId - 1, movie_ids[movieId]]\n",
    "\n",
    "data = np.zeros([num_users, num_movies])\n",
    "\n",
    "for rating in ratings:\n",
    "    user = int(rating[0]) - 1\n",
    "    movie = int(movie_ids[rating[1]])\n",
    "    data[user, movie] = rating[2]"
   ]
  },
  {
   "cell_type": "markdown",
   "metadata": {},
   "source": [
    "##### ~ Global functions ~"
   ]
  },
  {
   "cell_type": "code",
   "execution_count": 98,
   "metadata": {},
   "outputs": [],
   "source": [
    "from sklearn.metrics import mean_squared_error, mean_absolute_error\n",
    "from math import sqrt\n",
    "\n",
    "def custom_crossval(X_train, y_train, model, num_folds=10, metrics=['RMSE', 'MAE', 'accuracy'],\n",
    "                    randomize=True, include_inds=False):\n",
    "    '''\n",
    "    Requires a model that has the following functions:\n",
    "        model.train(X, y): trains the model on a particular set of input/output\n",
    "        model.predict(X): predicts y given an input of X\n",
    "    '''\n",
    "    X_train_folds = []\n",
    "    y_train_folds =  []\n",
    "    X_val_folds = []\n",
    "    y_val_folds = []\n",
    "    \n",
    "    # necessary for some models (Naive)\n",
    "    train_inds = []\n",
    "    val_inds = []\n",
    "    \n",
    "    # initialize cumulative errors object\n",
    "    cumulative_metrics = {}\n",
    "    for met in metrics:\n",
    "        cumulative_metrics[met] = 0\n",
    "    \n",
    "    k = num_folds\n",
    "    \n",
    "    ##############################################################################\n",
    "    # 1. Divide dataset into training and validation folds\n",
    "    idx = np.arange(X_train.shape[0])\n",
    "    fold_size = X_train.shape[0] // num_folds\n",
    "    \n",
    "    # randomize indices\n",
    "    if randomize:\n",
    "        np.random.shuffle(idx)\n",
    "\n",
    "    for i in range(num_folds):\n",
    "        test_idx = idx[i*fold_size:(i+1)*fold_size]\n",
    "        train_idx = np.concatenate((idx[:i*fold_size:], idx[(i+1)*fold_size:]))\n",
    "\n",
    "        X_train_folds.append(X_train[train_idx])\n",
    "        y_train_folds.append(y_train[train_idx])\n",
    "\n",
    "        X_val_folds.append(X_train[test_idx])\n",
    "        y_val_folds.append(y_train[test_idx])\n",
    "        \n",
    "        train_inds.append(train_idx)\n",
    "        val_inds.append(test_idx)\n",
    "        \n",
    "    ##############################################################################\n",
    "    # 2. Train on train set, test on validation set, calculate errors\n",
    "    for i in range(len(X_train_folds)):\n",
    "        # train model on the train folds (k-1 folds):\n",
    "        model.train(X_train_folds[i], y_train_folds[i])\n",
    "\n",
    "        # measure error of test predictions\n",
    "        if include_inds:\n",
    "            y_pred = model.predict(X_val_folds[i], inds=val_inds[i])\n",
    "        else:\n",
    "            y_pred = model.predict(X_val_folds[i])\n",
    "        \n",
    "        # calculate errors:\n",
    "        y_actual = y_val_folds[i]\n",
    "        for met in metrics:\n",
    "            if met == 'RMSE':\n",
    "                rms = sqrt(mean_squared_error(y_actual, y_pred))\n",
    "                cumulative_metrics[met] += rms\n",
    "            elif met == 'MAE':\n",
    "                mae = mean_absolute_error(y_actual, y_pred)\n",
    "                cumulative_metrics[met] += mae\n",
    "            elif met == 'accuracy':\n",
    "                num_correct = np.sum(y_pred == y_actual)\n",
    "                cumulative_metrics[met] += num_correct / y_val_folds[i].shape[0]\n",
    "            else:\n",
    "                raise Exception(\"Error: requested error ('{}') is not incoporated into this function yet.\".format(met))\n",
    "    \n",
    "    ##############################################################################\n",
    "    # 3. Average and return metrics object\n",
    "    for met in metrics:\n",
    "        cumulative_metrics[met] = cumulative_metrics[met] / len(X_train_folds)\n",
    "    return cumulative_metrics"
   ]
  },
  {
   "cell_type": "markdown",
   "metadata": {},
   "source": [
    "#### Trimming the data set"
   ]
  },
  {
   "cell_type": "code",
   "execution_count": 5,
   "metadata": {},
   "outputs": [],
   "source": [
    "# Popular movie trimming\n",
    "\n",
    "nz_movie = np.count_nonzero(data, axis=0)\n",
    "unpop_movies = []\n",
    "for i in range(len(nz_movie)):\n",
    "    if nz_movie[i] <= 2:\n",
    "        unpop_movies.append(i)\n",
    "\n",
    "data_popular = np.delete(data, unpop_movies, axis=1)\n",
    "# print(np.unique(np.count_nonzero(data_popular, axis=0)))"
   ]
  },
  {
   "cell_type": "code",
   "execution_count": 6,
   "metadata": {},
   "outputs": [],
   "source": [
    "# Unpopular movie trimming\n",
    "\n",
    "nz_movie = np.count_nonzero(data, axis=0)\n",
    "pop_movies = []\n",
    "for i in range(len(nz_movie)):\n",
    "    if nz_movie[i] > 2:\n",
    "        pop_movies.append(i)\n",
    "        \n",
    "data_unpopular = np.delete(data, pop_movies, axis=1)\n",
    "# print(np.unique(np.count_nonzero(data_unpopular, axis=0)))"
   ]
  },
  {
   "cell_type": "code",
   "execution_count": 7,
   "metadata": {},
   "outputs": [],
   "source": [
    "# High variance movie trimming\n",
    "\n",
    "nz_movie = np.count_nonzero(data, axis=0)\n",
    "movies_less5 = []\n",
    "for i in range(len(nz_movie)):\n",
    "    if nz_movie[i] < 5:\n",
    "        movies_less5.append(i)\n",
    "\n",
    "data_more5 = np.delete(data, movies_less5, axis=1)\n",
    "\n",
    "variances = np.zeros(np.shape(data_more5)[1])\n",
    "for i in range(np.shape(data_more5)[1]):\n",
    "    variances[i] = np.var(data_more5[:, i])\n",
    "\n",
    "lowvar_movies = []\n",
    "for i in range(np.shape(data_more5)[1]):\n",
    "    if variances[i] < 2:\n",
    "        lowvar_movies.append(i)\n",
    "data_highvar = np.delete(data_more5, lowvar_movies, axis=1)\n",
    "\n",
    "# print(data_highvar.shape)\n",
    "# print(np.var(data_highvar[:,13]))"
   ]
  },
  {
   "cell_type": "markdown",
   "metadata": {},
   "source": [
    "#### Question 1"
   ]
  },
  {
   "cell_type": "code",
   "execution_count": 8,
   "metadata": {},
   "outputs": [
    {
     "name": "stdout",
     "output_type": "stream",
     "text": [
      "Sparsity = 0.016999683055613623\n"
     ]
    }
   ],
   "source": [
    "num_available_ratings = np.count_nonzero(data)\n",
    "num_possible_ratings = np.size(data)\n",
    "\n",
    "sparsity = num_available_ratings / num_possible_ratings\n",
    "print('Sparsity =', sparsity)"
   ]
  },
  {
   "cell_type": "markdown",
   "metadata": {
    "collapsed": true
   },
   "source": [
    "#### Question 2"
   ]
  },
  {
   "cell_type": "code",
   "execution_count": 9,
   "metadata": {},
   "outputs": [
    {
     "data": {
      "image/png": "[encoded data removed]",
      "text/plain": [
       "<Figure size 432x288 with 1 Axes>"
      ]
     },
     "metadata": {
      "needs_background": "light"
     },
     "output_type": "display_data"
    }
   ],
   "source": [
    "# Put all nonzero ratings into an array, nonzero_ratings, and make a histogram.\n",
    "\n",
    "nz = np.nonzero(data)\n",
    "\n",
    "nonzero_ratings = np.zeros(len(nz[0]))\n",
    "for i in range(len(nz[0])):\n",
    "    nonzero_ratings[i] = data[nz[0][i], nz[1][i]]\n",
    "\n",
    "plt.figure()\n",
    "plt.hist(nonzero_ratings, np.arange(11)/2)\n",
    "plt.title('Number of ratings per rating')\n",
    "plt.xlabel('rating')\n",
    "plt.ylabel('number of ratings')\n",
    "plt.show()"
   ]
  },
  {
   "cell_type": "markdown",
   "metadata": {
    "collapsed": true
   },
   "source": [
    "#### Question 3"
   ]
  },
  {
   "cell_type": "code",
   "execution_count": 10,
   "metadata": {},
   "outputs": [
    {
     "data": {
      "image/png": "[encoded data removed]",
      "text/plain": [
       "<Figure size 432x288 with 1 Axes>"
      ]
     },
     "metadata": {
      "needs_background": "light"
     },
     "output_type": "display_data"
    }
   ],
   "source": [
    "# Plot the number of nonzero ratings for each movie.\n",
    "# NOTE: the x axis does NOT correspond to the movieId or movie index in data.\n",
    "\n",
    "nz_movie = np.count_nonzero(data, axis=0)\n",
    "sorted_nz_movie = np.sort(nz_movie)[::-1]\n",
    "\n",
    "plt.figure()\n",
    "plt.plot(sorted_nz_movie)\n",
    "plt.title('Number of ratings per movie, sorted')\n",
    "plt.xlabel('movie')\n",
    "plt.ylabel('number of ratings')\n",
    "plt.xlim(left=-250)\n",
    "plt.show()"
   ]
  },
  {
   "cell_type": "markdown",
   "metadata": {
    "collapsed": true
   },
   "source": [
    "#### Question 4"
   ]
  },
  {
   "cell_type": "code",
   "execution_count": 11,
   "metadata": {},
   "outputs": [
    {
     "data": {
      "image/png": "[encoded data removed]",
      "text/plain": [
       "<Figure size 432x288 with 1 Axes>"
      ]
     },
     "metadata": {
      "needs_background": "light"
     },
     "output_type": "display_data"
    }
   ],
   "source": [
    "# Plot the number of ratings each user gave.\n",
    "# NOTE: the x axis does NOT correspond to the userID.\n",
    "\n",
    "nz_user = np.count_nonzero(data, axis=1)\n",
    "sorted_nz_user = np.sort(nz_user)[::-1]\n",
    "\n",
    "plt.figure()\n",
    "plt.plot(sorted_nz_user)\n",
    "plt.title('Number of movies rated per user, sorted')\n",
    "plt.xlabel('user')\n",
    "plt.ylabel('number of movies rated')\n",
    "plt.xlim(left=-25)\n",
    "plt.show()"
   ]
  },
  {
   "cell_type": "markdown",
   "metadata": {
    "collapsed": true
   },
   "source": [
    "#### Question 6"
   ]
  },
  {
   "cell_type": "code",
   "execution_count": 12,
   "metadata": {},
   "outputs": [
    {
     "data": {
      "image/png": "[encoded data removed]",
      "text/plain": [
       "<Figure size 432x288 with 1 Axes>"
      ]
     },
     "metadata": {
      "needs_background": "light"
     },
     "output_type": "display_data"
    }
   ],
   "source": [
    "# Histogram for number of movies whose variance in scores falls in some range.\n",
    "\n",
    "variances = np.zeros(num_movies)\n",
    "for i in range(num_movies):\n",
    "    variances[i] = np.var(data[:, i])\n",
    "\n",
    "plt.figure()\n",
    "plt.hist(variances, np.arange(12)/2)\n",
    "plt.xlim(right=5.5)\n",
    "plt.title('Number of movies per variance')\n",
    "plt.xlabel('variance')\n",
    "plt.ylabel('number of movies')\n",
    "plt.show()"
   ]
  },
  {
   "cell_type": "code",
   "execution_count": null,
   "metadata": {},
   "outputs": [],
   "source": []
  },
  {
   "cell_type": "code",
   "execution_count": null,
   "metadata": {},
   "outputs": [],
   "source": []
  },
  {
   "cell_type": "code",
   "execution_count": null,
   "metadata": {},
   "outputs": [],
   "source": []
  },
  {
   "cell_type": "code",
   "execution_count": null,
   "metadata": {},
   "outputs": [],
   "source": []
  },
  {
   "cell_type": "code",
   "execution_count": null,
   "metadata": {},
   "outputs": [],
   "source": []
  },
  {
   "cell_type": "code",
   "execution_count": null,
   "metadata": {},
   "outputs": [],
   "source": []
  },
  {
   "cell_type": "code",
   "execution_count": null,
   "metadata": {},
   "outputs": [],
   "source": []
  },
  {
   "cell_type": "code",
   "execution_count": null,
   "metadata": {},
   "outputs": [],
   "source": []
  },
  {
   "cell_type": "code",
   "execution_count": null,
   "metadata": {},
   "outputs": [],
   "source": []
  },
  {
   "cell_type": "code",
   "execution_count": null,
   "metadata": {},
   "outputs": [],
   "source": []
  },
  {
   "cell_type": "code",
   "execution_count": null,
   "metadata": {},
   "outputs": [],
   "source": []
  },
  {
   "cell_type": "code",
   "execution_count": null,
   "metadata": {},
   "outputs": [],
   "source": []
  },
  {
   "cell_type": "code",
   "execution_count": null,
   "metadata": {},
   "outputs": [],
   "source": []
  },
  {
   "cell_type": "code",
   "execution_count": null,
   "metadata": {},
   "outputs": [],
   "source": []
  },
  {
   "cell_type": "markdown",
   "metadata": {
    "collapsed": true
   },
   "source": [
    "#### Question 30\n",
    "\n",
    "Calculate the average rating, $\\mu_i$, for each user rating, $r_i$"
   ]
  },
  {
   "cell_type": "markdown",
   "metadata": {
    "collapsed": true
   },
   "source": [
    "##### Define Naive model"
   ]
  },
  {
   "cell_type": "code",
   "execution_count": 95,
   "metadata": {},
   "outputs": [],
   "source": [
    "class Naive():\n",
    "    \n",
    "    # mean ratings, one required per user\n",
    "    mu_i = None\n",
    "    \n",
    "    def __init__(self, X_train):\n",
    "        self.mu_i = np.zeros(X_train.shape)\n",
    "        self.train(X_train, None, enabled=True)\n",
    "        \n",
    "    # calculate mu_i for training\n",
    "    def train(self, X, y, enabled=False):\n",
    "        if enabled:\n",
    "            self.mu_i = np.mean(X, axis=1)\n",
    "        \n",
    "    # return mu_i as rating prediction (for each movie)\n",
    "    def predict(self, X, inds=None):\n",
    "        if inds is None:\n",
    "            return np.repeat(np.reshape(self.mu_i, (self.mu_i.shape[0], 1)), X.shape[1], axis=1)\n",
    "        else:\n",
    "            # return a specific set of mu_i's:\n",
    "            return np.repeat(np.reshape(self.mu_i[inds], (self.mu_i[inds].shape[0], 1)), X.shape[1], axis=1)"
   ]
  },
  {
   "cell_type": "code",
   "execution_count": 96,
   "metadata": {},
   "outputs": [
    {
     "name": "stdout",
     "output_type": "stream",
     "text": [
      "average rating shape: (610,) - should be 610\n",
      "average rating range: 0.0026223776223776225 0.941125051419169\n",
      "\n",
      "should match manual calculation:\n",
      "average rating shape: (610,) - should be 610\n",
      "average rating range: 0.0026223776223776225 0.941125051419169\n",
      "(610, 9724) (610, 9724)\n"
     ]
    }
   ],
   "source": [
    "model = Naive(data)\n",
    "mu_i = model.mu_i\n",
    "print(\"average rating shape:\", mu_i.shape, \"- should be\", num_users)\n",
    "print(\"average rating range:\", np.min(mu_i), np.max(mu_i))\n",
    "\n",
    "print(\"\\nshould match manual calculation:\")\n",
    "mu_i = np.mean(data, axis=1)\n",
    "print(\"average rating shape:\", mu_i.shape, \"- should be\", num_users)\n",
    "print(\"average rating range:\", np.min(mu_i), np.max(mu_i))\n",
    "\n",
    "y_pred = model.predict(data)\n",
    "print(data.shape, y_pred.shape)"
   ]
  },
  {
   "cell_type": "code",
   "execution_count": 99,
   "metadata": {},
   "outputs": [
    {
     "name": "stdout",
     "output_type": "stream",
     "text": [
      "Average RMSE: 0.46125510728767294\n"
     ]
    }
   ],
   "source": [
    "error = custom_crossval(data, data, model, num_folds=10, metrics=['RMSE', 'accuracy'],\n",
    "                        randomize=False, include_inds=True)\n",
    "\n",
    "print('Average RMSE:', error['RMSE'])"
   ]
  },
  {
   "cell_type": "code",
   "execution_count": null,
   "metadata": {},
   "outputs": [],
   "source": []
  }
 ],
 "metadata": {
  "anaconda-cloud": {},
  "kernelspec": {
   "display_name": "Python 3",
   "language": "python",
   "name": "python3"
  },
  "language_info": {
   "codemirror_mode": {
    "name": "ipython",
    "version": 3
   },
   "file_extension": ".py",
   "mimetype": "text/x-python",
   "name": "python",
   "nbconvert_exporter": "python",
   "pygments_lexer": "ipython3",
   "version": "3.5.4"
  }
 },
 "nbformat": 4,
 "nbformat_minor": 1
}
